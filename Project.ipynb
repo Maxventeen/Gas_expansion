{
 "cells": [
  {
   "cell_type": "markdown",
   "metadata": {},
   "source": [
    "# Modelling 3D Gas/Liquid Expansion\n",
    "\n",
    "Graham Thoms and Andrew Wighton"
   ]
  },
  {
   "cell_type": "code",
   "execution_count": 23,
   "metadata": {
    "collapsed": false
   },
   "outputs": [],
   "source": [
    "from __future__ import print_function, division\n",
    "from random import randint \n",
    "from itertools import chain\n",
    "from Cell2D import Cell2D, Cell2DViewer\n",
    "from scipy.signal import correlate2d\n",
    "%matplotlib inline\n",
    "%precision 3\n",
    "\n",
    "import warnings\n",
    "warnings.filterwarnings('ignore')\n",
    "\n",
    "import numpy as np\n",
    "import matplotlib.pyplot as plt\n",
    "\n",
    "import thinkplot\n",
    "from tqdm import tqdm_notebook\n",
    "\n",
    "from matplotlib import rc\n",
    "rc('animation', html='html5')"
   ]
  },
  {
   "cell_type": "markdown",
   "metadata": {},
   "source": [
    "## 2-D Gas expansion"
   ]
  },
  {
   "cell_type": "markdown",
   "metadata": {},
   "source": [
    "To understand the complex nature of 3D gas expansion in a cavern, first the development of a 2 dimensional simulation was needed."
   ]
  },
  {
   "cell_type": "code",
   "execution_count": 56,
   "metadata": {
    "collapsed": false
   },
   "outputs": [],
   "source": [
    "class RDViewer(Cell2DViewer):\n",
    "    \"\"\"Generates images and animations.\"\"\"\n",
    "    \n",
    "    cmapv = plt.get_cmap('Greys')\n",
    "    cmapu = plt.get_cmap('Blues')\n",
    "    \n",
    "    options = dict(alpha=.5,\n",
    "                   interpolation='none', \n",
    "                   vmin=0, vmax=5)\n",
    "\n",
    "\n",
    "    def __init__(self, viewee):\n",
    "        \"\"\"Initializes the attributes.\n",
    "        \n",
    "        viewee: the object to be represented\n",
    "        \"\"\"\n",
    "        self.viewee = viewee\n",
    "        self.imu = None\n",
    "        self.imv = None\n",
    "        self.hlines = None\n",
    "        self.vlines = None\n",
    "\n",
    "    def draw(self, grid=False):\n",
    "        \"\"\"Draws the cells.\"\"\"\n",
    "        au = self.viewee.array.copy()\n",
    "        av = self.viewee.array2.copy()\n",
    "        \n",
    "        n, m = av.shape\n",
    "        plt.axis([0, m, 0, n])\n",
    "        plt.xticks([])\n",
    "        plt.yticks([])\n",
    "\n",
    "        self.options['extent'] = [0, m, 0, n]\n",
    "        self.imu = plt.imshow(au, cmap=self.cmapu, **self.options)\n",
    "        self.imv = plt.imshow(av, cmap=self.cmapv, **self.options)\n",
    "\n",
    "    def animate_func(self, i):\n",
    "        \"\"\"Draws one frame of the animation.\"\"\"\n",
    "        if i > 0:\n",
    "            self.step(iters=1)\n",
    "\n",
    "        self.imu.set_array(self.viewee.array)\n",
    "        self.imv.set_array(self.viewee.array2)\n",
    "        return (self.imu, self.imv)"
   ]
  },
  {
   "cell_type": "markdown",
   "metadata": {},
   "source": [
    "2 dimentsional gas expansion algorithm"
   ]
  },
  {
   "cell_type": "code",
   "execution_count": 163,
   "metadata": {
    "collapsed": false
   },
   "outputs": [],
   "source": [
    "from Cell2D import Cell2D, Cell2DViewer\n",
    "from scipy.signal import correlate2d\n",
    "class Percolation(Cell2D):\n",
    "    \"\"\"Percolation Cellular Automaton.\"\"\"\n",
    "\n",
    "    kernel = np.array([[0, 1, 0],\n",
    "                       [1, -4, 1],\n",
    "                       [0, 1, 0]])\n",
    "\n",
    "    options = dict(mode='same', boundary='wrap')\n",
    "    def __init__(self, n, m=None, p=0.5, r=0.1, seed = 22, mode='random'):\n",
    "        \"\"\"Initializes the attributes.\n",
    "\n",
    "        n: number of rows\n",
    "        m: number of columns\n",
    "        p: probability of porousness\n",
    "        r: diffusion rate constant\n",
    "        \"\"\"\n",
    "        self.r = r\n",
    "        self.p = p\n",
    "        m = n if m is None else m\n",
    "        if seed is not None:\n",
    "            np.random.seed(seed)\n",
    "        # fill random areas with inpermiable materials\n",
    "        self.array2 = np.random.choice([0.0,5.0], (n, m), p=[1-p, p])\n",
    "        # fill remaining areas with permiable materials/caverns\n",
    "        self.array = np.zeros((n, m), np.float)\n",
    "        #randomly place gas cells\n",
    "        if(mode == 'random'):\n",
    "            self.array = np.random.choice([0.0,5.0], (n, m), p=[1-(p/100), (p/100)])\n",
    "        #fill center with gas cells\n",
    "        if(mode == 'center'):\n",
    "            self.array[n/2, m/2] = 5\n",
    "    def step(self):\n",
    "        \"\"\"Executes one time step.\"\"\"\n",
    "        a = self.array\n",
    "        a2 = self.array2\n",
    "        c = correlate2d(a, self.kernel, mode='same', boundary='fill')\n",
    "        c2 = correlate2d(a2, self.kernel, mode='same', boundary= 'fill')\n",
    "\n",
    "        self.array[((a==0) & (c>=5)) & (a2==0)] =  5\n",
    "        self.array +=  self.r * c"
   ]
  },
  {
   "cell_type": "markdown",
   "metadata": {},
   "source": [
    "The gas expnasion percolation model simulation is shown below. The gas starts at random locations and through each step expands through the cells."
   ]
  },
  {
   "cell_type": "code",
   "execution_count": 165,
   "metadata": {
    "collapsed": false
   },
   "outputs": [
    {
     "data": {
      "image/png": "[encoded data removed]",
      "text/plain": [
       "<matplotlib.figure.Figure at 0x3a7de208>"
      ]
     },
     "metadata": {},
     "output_type": "display_data"
    }
   ],
   "source": [
    "seed = 22\n",
    "perc = Percolation(20, p=0.5,seed = 22,mode = 'random')\n",
    "viewer = RDViewer(perc)\n",
    "\n",
    "thinkplot.preplot(cols=4)\n",
    "viewer.step()\n",
    "viewer.draw()\n",
    "\n",
    "thinkplot.subplot(2)\n",
    "viewer.step(10)\n",
    "viewer.draw()\n",
    "\n",
    "thinkplot.subplot(3)\n",
    "viewer.step(100)\n",
    "viewer.draw()\n",
    "\n",
    "thinkplot.subplot(4)\n",
    "viewer.step(1000)\n",
    "viewer.draw()"
   ]
  },
  {
   "cell_type": "markdown",
   "metadata": {},
   "source": [
    "And the resulting animation"
   ]
  },
  {
   "cell_type": "code",
   "execution_count": 167,
   "metadata": {
    "collapsed": false
   },
   "outputs": [
    {
     "data": {
      "text/html": [
       "<video width=\"600.0\" height=\"400.0\" controls autoplay loop>\n",
       "  <source type=\"video/mp4\" src=\"data:video/mp4;base64,AAAAHGZ0eXBNNFYgAAACAGlzb21pc28yYXZjMQAAAAhmcmVlAAA4AW1kYXQAAAKtBgX//6ncRem9\n",
       "5tlIt5Ys2CDZI+7veDI2NCAtIGNvcmUgMTQ4IHIyNzYyIDkwYTYxZWMgLSBILjI2NC9NUEVHLTQg\n",
       "QVZDIGNvZGVjIC0gQ29weWxlZnQgMjAwMy0yMDE3IC0gaHR0cDovL3d3dy52aWRlb2xhbi5vcmcv\n",
       "eDI2NC5odG1sIC0gb3B0aW9uczogY2FiYWM9MSByZWY9MyBkZWJsb2NrPTE6MDowIGFuYWx5c2U9\n",
       "MHgzOjB4MTEzIG1lPWhleCBzdWJtZT03IHBzeT0xIHBzeV9yZD0xLjAwOjAuMDAgbWl4ZWRfcmVm\n",
       "PTEgbWVfcmFuZ2U9MTYgY2hyb21hX21lPTEgdHJlbGxpcz0xIDh4OGRjdD0xIGNxbT0wIGRlYWR6\n",
       "b25lPTIxLDExIGZhc3RfcHNraXA9MSBjaHJvbWFfcXBfb2Zmc2V0PS0yIHRocmVhZHM9NiBsb29r\n",
       "YWhlYWRfdGhyZWFkcz0xIHNsaWNlZF90aHJlYWRzPTAgbnI9MCBkZWNpbWF0ZT0xIGludGVybGFj\n",
       "ZWQ9MCBibHVyYXlfY29tcGF0PTAgY29uc3RyYWluZWRfaW50cmE9MCBiZnJhbWVzPTMgYl9weXJh\n",
       "bWlkPTIgYl9hZGFwdD0xIGJfYmlhcz0wIGRpcmVjdD0xIHdlaWdodGI9MSBvcGVuX2dvcD0wIHdl\n",
       "aWdodHA9MiBrZXlpbnQ9MjUwIGtleWludF9taW49NSBzY2VuZWN1dD00MCBpbnRyYV9yZWZyZXNo\n",
       "PTAgcmNfbG9va2FoZWFkPTQwIHJjPWNyZiBtYnRyZWU9MSBjcmY9MjMuMCBxY29tcD0wLjYwIHFw\n",
       "bWluPTAgcXBtYXg9NjkgcXBzdGVwPTQgaXBfcmF0aW89MS40MCBhcT0xOjEuMDAAgAAADrtliIQA\n",
       "E//+97GPgU3IAA2XOop6H+EVsfSQUXqx2aBk6gAAAwAAAwAACzvO01sGv2ba2AAAAwCxSxHyWCfY\n",
       "cABy9CH8HyrR8M6+FvP3iESXmyjP8cYRRgXpaVxxwJMGr4ySmV9x4gIncrfC1cnAUFVaY+ol74iR\n",
       "4kercPHeXLn/j5xmw+KNexkzeet8xOSx33NjTa9Q6ntdq+0XnKuQeTJxJl3yqFmwi2Szy20mGcuw\n",
       "d/+YNNS8gUsQzeNG4MDSahpEtOIZ/ESmaQNAZ0QhoIrUG41KQsAJ6xdU87kPCNELmY+qVGI+UGCI\n",
       "afWlqSaUUHH3HqDR5z5/2aGcdr7quvEN1HD55yIf6EOEXhufsPixdWDdCKHF75agoalxGaNloWwt\n",
       "ipdEHqrgd7FiTQwzfyldhrMxcuDHQBCocnqHsV0sm6LyRiVn4AlKlVHUCoZFPqRumuABfXVlAq+s\n",
       "0IVppe2VvPsSqOougXywENUp++L3bqV/yE+PQ00i27xGv0GN52EhbWLDeYDR9Raa82A/fclan136\n",
       "f4T+GntRvnajeITNblu2gTq0VzninRXfqSJo0Y06CP7eS2/1R9QbLxwIpxHeO0CfsahaDY6pgOmR\n",
       "P6Z5TW5e5hQPO7OzzWnJqLh2IHtGrXlDKWZtU3dt55sdKKE35PoO2eqqODplEuUlTD6InBnoPwF0\n",
       "+LJcuM5Wi6/yNHyj8j5HOF+R10nRpJ4Vkp+12IDnoNJDSn2A6xhzr7yglv30ZFLquyUqn0gkbRds\n",
       "sPvTCE0NxHwvL5LAAnRuBA/4SuAlnRpWL+PFzirElxi9fTaQf4litfEh1/wNgypm70bAyWIa3N/r\n",
       "4o/a31CSLR/rqnETerix3yYsuctTx0ZBjckWa7OxAhrnJ+ffUokHMUcKsZKhMkY0mIL66ay7xrvI\n",
       "F+RqTLz21chp7CB/dkXcPhLagpsm3y0EVxqPGebJmURADW1eRwbet7WVQRUXnD6f2LVtU+DNOv69\n",
       "glBQOyvKwHIFCRqdK+HQ+I8yOU/3OCtY9GMHbj+ihpHoxULpuPsVJEBfz2YqCP/vFeS/Au5vtWFi\n",
       "mimLiw7v/czz/4h4rG+ScS4rhiOvhPeyrhcPySH4w/3+NeJNmLYWmQalsogDVxZA+DUyLYBCP9Am\n",
       "25VKFm4Ap7WT4utcxS3qrCezU/N82uAOCkQScFzE5Cbrwx8jG6FQbYsV+F5eyviJAghADT8SYK0V\n",
       "jgDZL1xrcL5OdPzPXpCwQUz/Nf2CbkkCvc07bVwp77rEDfKvCHy0UKNcOk03jf57jul9zaYaPVqG\n",
       "Rb+/mIe/DEUx6MKFmC6UitfeI7JGI6Obpav5aZ/dxxByeROoQ8xfAFg9HEyQJhvmnq6fWEE4Rk8i\n",
       "APbDKMHr4xA3TJ6KLmOvoszVQ+fC0WpUeoA3CDlzF4fbDrkgYptKuDLuCIBWLQfkMgGUqAbtNUL+\n",
       "S9l6F+RMhOtLi6KvQ2zGWZUj7+q8t1rTzfgrBcPtUyJTi1CnKR3qWdMrtNLAGgOrZ9MWmPugmtFT\n",
       "MRlq+kkg9v4FZDITz72YPBdE4kj8dq5PWodBllIHcm07kHqu45Uw4AOCttAw3b3II2bHvt0+jAvd\n",
       "JZhvj86aWvKfpA3Pfwb8F6HVCRDf7dv5IzwTvOTVhEIRKQMGAzClkZsvNaVnbujPgFN05nFgh/tc\n",
       "ks8BvtiWIPizEQuBZm7XD5mB0TAaHmQj2IBamjeVBa6Zf/odOyuEDovN/noZsZkLnxwD8nvH/Lay\n",
       "3Z6DuMAbNk5SPbsHeddv4eZ6BKVqA9Dkb2pdoAcDaXw7yHAS2PwFcLl8QDx2I38iWTzhpF/bDMZV\n",
       "JjRRkjtSCJiRStVNgniJsUYbRfEujcdujeKZQUbTxltUMPiavW6PHi5DbW3Axu8/LUdAPTxuPHEL\n",
       "fR98pNiUW3c53ajNWkmeAxrlW8Wo3qafGREdH3K7DmKkqbHLn0HnrekEXwQRN3XjViI6Ms24ZRDn\n",
       "QpSw67nc33rOOxI6+7SC+GMyI4AiGKflS/S/VzB+CB3g3ztpuJ2/hSgF/++PITJypBB9NJePGvGe\n",
       "PDv/a1/1gxh7pribHrQF2jH2+7LlIuBQW2Pz1atm1k+l9Cu2w/6ph7XaJnDAOSH9qvvwBr74ehb5\n",
       "PIPclVkG2sjA/LrAeSeCnPkpGBkQLv0Kl50/xfRNQeQh/VjELm0FetY+7dSmsiYidi2gwz3DJw6g\n",
       "zst6+PjSFoqO2GM4uGyCCVFJFlqV4AAwaP53cNN6NePm45E6MpjgsxyZl64Xsg04fcvP1A97z6TH\n",
       "Da/00iuQBClaVir/CkKORzYsA5TB96yCBT5UnjS7n0fAWSnNt+XV1B3qt8spOXZ3z2VZjf5kuXv6\n",
       "nU45bRRfiGkVdYr2OLzfXaoFlUmT93e59AUd2PXhwsi6GCOhApKFBb2KpWJktfnS9OdsRmHRHsTn\n",
       "u34b/jNjIsQk2cC4pvDK/By0+NVrkoZsm1XYs+vhFkra1f9FMNh0UVnBSStNGQ6mW3Vz8UEoCxXk\n",
       "R8ZpcdbVlY0tli94maEXOer03LzKMu0eDdwwxxp1cDKDHzrVq69l4vSlVKcd6OVMrmi2SPA9xHpK\n",
       "YfkfuWbgH6mHta233jcXY3O06XMv59nf/EaVDbsXV8AOXT4vtlyRZ6fr/hClsErzxJhs/3J9OmnI\n",
       "B/kwl2KU+tZKXChvHvPzN1h9cD8kpyLwG25zZqISy52xtPuu8w1OOWLVGnU8pAeYCQSuduidQ1QM\n",
       "8YsKHrapim511d/kyA5cal4T65hIPCraKKzZaULXNN09Z3qyFGN+tOi8CsW6mrLXrkr6VknN6Bmw\n",
       "ElrPxkL7oIJycw9FzUvx367XRyhE+O7EtBwPZY0Fujd1yZWR1pnPJQMweG9K4jH1jjN6uEUCQBoN\n",
       "Z69lin6d4jwIZqENq12SHzl9wNk7As6I1fDhKkCMUwnIxsXG554NnFBGEolNMQHnVoSRUtnOA+yT\n",
       "I4XWuIIpvXT9LcLPAEW+yytgqkSK+G9+IjKH2Q8xJTNDFzZoM5S+F5eobVGThpECZOSGabcv+Yy8\n",
       "wm3UqZHR29RqXnY6SSL4gexuFXZGY0ivwLd7zcDIPvmEIk2yirvi29ao2sNzN1AQkJcHrfEeCWG7\n",
       "tfXof3Np6S41E2TuOStp0kPMlONzVz0krn4Qzt0dMfMWTIESCFbH8mOozBhlrphW23Ry/Xe+relK\n",
       "MR3dZZChgllc2SPqse6eutbcCLiKKodRRSEa8Q2Td5gfJR3x8SaL6ue+0mhAgRqRzgGrxJSsHChI\n",
       "NkOqF5LGatEuW0g7xDKjvvw8LUFylMfK7uaZP3miPmwcSZROD3nc9P559tM9vYKrZf0mPVnIg8JX\n",
       "KvMefQQZv4I5LpEvk6xGojcXbNC41IUbyrt/V5l+Ye3cq5qQGGBqzHrbOo29ORb/HSB11uSDdFbT\n",
       "Ju+LKxPZfnwdo2M+NI0/n1UwS8pY5eEMBBJ51o7rkX4soEZalukXnN5lfnvW6QM3Qbh/QflDiua0\n",
       "8Nvw3qt5e3NM/9hk49D6e21hK7pQ6w29pspZ3LIZqmLT1RbM1jf1O0AHxQRd3Y7rTOxarS1dPhdA\n",
       "V3K6TYALFsn5TkeySUuLpVPPVYu0LcARn+5gA5q7xwU9XnSXVrip5VxWmk8McEOtRrNfbhfgKxD9\n",
       "uXfNJKR1bHFw7/qVkEa/Xa6XaGmY2ov1j6wlcWQ6rIdWQzDTFebafdljLhE8hU2Bry2GvVFubZ2R\n",
       "MOYSStMIElJLEO44b60VNzwM+1YO8NVDencNvRm7zCaPkY6yB1KgIZA4KDmEblKPLm4YPm5LJ3u1\n",
       "wtXXlN17oiy7FXf7588Gab8FdQSCp6LsLvMh3K1PFNMQ4kMc1vcUlKbdokpdGbWlvMhYbTkSkBXF\n",
       "sgBhqKHKkV5QoeQak7arb4rSnQGz0DQheCABjDfDGZJTjYrt9qDlamUkMT4skEtYSw6CGMFGdDFd\n",
       "ZE2LUNkw2d/n9h1pzE7ZWUkNrW5Y5aCk8C5cssO1RU/uOcS05+iObD+WIpgX2mM5A3pwAsP5wl77\n",
       "7B1BhT2zXDh1nqA2hZJxozHunYRM5zDkJw7B+6yuM5RO6lmXjmwQXDuKkb1ZHKOLPpTArou3jEvU\n",
       "dDmrv46E0asZMAiBL9VmyFoAYp6dfB0fIDpbCs8paGEHXOONkSIPCSX/ZZ8GAov7kWUiwqdeWdal\n",
       "SMX4SrswzTBuV0fm9QxU1wDTvWebWbAtG7k/zWXKng1PSzuvLDjg0LHGqnqJe8FAZri6Ubc95VWD\n",
       "mvuKMBywHr+PJUbQrTQAANPRhO1YOg/mQdkLge4OzX2SHztsGW9waOp+TaRQ8u5jBprmkLkDhUd6\n",
       "pSY2Wo73lkQPIdr3AXKHOs7dg1LDUI6HKj9IcQtWD4283a1VY63sOFxToZ9b7NdSqlOieaR0fsto\n",
       "ldSV2mDVPCBs1NSBuwHOP86eZATJttvmTNLI2+L4074Jpd8aS/sNwexJ2jbLzrDd22pUHSqT4xtO\n",
       "jmaIrYMFBTYiMPwEZ/NdhXnfi5kfdRYEOgFUAM5z9u23Ab/ecLSKmc4NrjReFM9K+5+6JGUJ4RRT\n",
       "b6VTp1BJOKPFqe0DeqyN6uuWm7PjWe1UNOuPStY9bl8qGpa+blBHn1HHLuOCUwy7EAqwHPZbGijl\n",
       "LFO7F+7AdTfEycG8gpb9xWi7OsdBgTLSuZ/CoMICM7Gsd9cxDMgsvSebKXeEKckPketSSyZvdg2N\n",
       "AM06r6NPWQePKyrby2arZoOxs280h0RqwJJfT5xE2mOzhCxfx5/ft7enAwIqkfwTXr67VFwzrIP4\n",
       "rpec0q1Wr5qQT5NOagP4LJSse8Zcr+PnakWUrwvjK3GIW+hYVRbxlwvXjh/Nlezxwzrk8Q1DkvrV\n",
       "PQVwhpeu9NyMuuvd0jpUIOj8A5HJMfjajC0e0IcGhMZSP9Od5axbKk2fasYeLf0R6WEKjDGPartA\n",
       "xoSu/UpczeoRoTz8xC2G58kqdLJSpGrg4nolqk7+RNSUsdDUTK2aIi88bAABriFtZ+58kAGmwAF/\n",
       "WoAABe0AAAiYQZokbEE//rUqgAu4/qRAEAcWdeC5mpOCJgwi6c5O/3kr1KwPvRLsqHyv/G3V0HYs\n",
       "32P1vv3twmAvKofrPJnWKVcfdiqNensByZC6UDyJWn2ZhIZ2uOBGY0gjep0HChni3xI+O+V5ifWZ\n",
       "KeZKVaJKSyFpIHDfpaNMi2zN9p8Ze7FS9jELYaOVWDdR1U4BDluwmZBZtXwkANTVlN/OpV8BkdP/\n",
       "Ab4XruJCD81OrS6K+cbw4TUcJxTvor9zCAiP9NhYumgw75cKexerabhTmITQ/F/sClo3vfeFnz+j\n",
       "/66s8TL9tLyRH5tpPCqrZE97CGqYHCO7G+qGmzm3MQH/cYoNbYnhOKT13onQOIRK3OB1cddpLcSk\n",
       "Ycz0YGJLQatQgsOdDRC5iAaqzM7jdXSl7aOKeRsgpuaDzsa/y68+DdNE+dC74hcbmxN4TJ4PKjRF\n",
       "0jeTHttfn3uD7bKfjJ+JrxdwBxkbUGN1pOoUmnfY04PerH4KqbgQq3Xl5yFMouI/Hxv7/1NhmRZI\n",
       "wumTMLwDW+u+qTDly46ec2zCTFHy06r3H0ioERKdqzHwHZxrLv73CLSLYNrH2FYwrfeNebdKnlZt\n",
       "yatVySskqnr/K18BwniFKvX8DEk2vHGHad4D7JUDDJXAfKu/fNMtnqvGuuZAtBOijV2ziINJtmcn\n",
       "S/md+hV+P//UtrzwHyuOHat3CzZW+ThW2c4cb4fzjo76gxo7fTtk8oV4OLTZGR7WLsnnJdnUTgqu\n",
       "++l5MZtqwvyLRhF+u4WHyhZvdMe6tdLMNGvMOvE1PJoYMZIb6eaMKsmYaQUYFMXA7IRIS4btHqsj\n",
       "394U/3gzufz/q9RNaPrhjVtRp1pPIcpbn4BrilLkeq7Z8MTYyizlcgu3dci2r5XbHoDYUbauWfzA\n",
       "yA3Hwo+Kw/c3SzC0QdF7MhlYILAyxlrihBPxQLWwnNy7fr1LtqyxVjRH8AA0KZ1CM9VYgmGbT82R\n",
       "+XlAC6irs98YdUZjjPjo+Z7UXnm24rfrS5vnGXHcu9LvncZeagTo7s3x7mJVFhAv1KhKI1IIB9WN\n",
       "OXqn+aOk5ERnLGutT6WxogkBgzDzXfrDBY/5E4Cb562HK68m3EJzmr5dB7d8/8STIsC5nRpZ5oo1\n",
       "Qh2VRJMUkO9cbOaZXfhEd4gJ/LJB7ROIqyQTS+0q292HpT8JKQlcBrxHYEuukTh1fj1IrT0lg68X\n",
       "cl12A10zZJonHWUBcTCdw3GIXMX8KPPHlQbV0WmyXAPd9g0d0pSqgCeWFRzrca9vEKa4cUL+8Ehk\n",
       "N+l7cookBLOcRid4n2RSxtV2Sx8AiXQuHY0eIBe9riHvWmU0mBsdEepgOMaQTbIEUzqI/sxPkz4u\n",
       "tm2XEggtiABo2CB6Shjk4QVPIwOEVqsVNCxyqeI5o0bo2C5O3mBD3zV5Sljd61UTysZvlZH3JD84\n",
       "/hGAwz8yl+rv7rbYgaTTQB0xZW7vpj217BxSY2CkoiF0/gl2x8hmevlDRfqg9yGo4JGZ6Wiig5lJ\n",
       "3cfKRT5FyHQA63DiOdh4edm8Ze+HyKXNZNbsYuzECQ8pYCipD1T6GKzG02Lvy9iFkHQZgY/43zT/\n",
       "FoGjF22fBzbYAyX+MF7x4RfU6wkPlol1ztaQO7DV/ySVIP7JKijKGW3CDvpFvoEsnS8v62f79DZq\n",
       "Mx7kpBKdAY5K3U1Fby18CY8gcuyOFERp527ZRtL0chHySqYPRK1ypD4o5OC//I6BYSh0B5AW8QiT\n",
       "T0Jd9hdO2wU8eDVbzEuJ3e8+5ukTfKHkzfH/rNKP69+TURwhGK1/3EUk3G2PFe07Dif175P94SzF\n",
       "ZGFjKxvUcm4JjtG++UPxh7HXXtMpwfP1hXh/Jid2E2lHCYeFeCd1AXbcNtXjuaAO2dAHuLrgsqdx\n",
       "BRx2W9W5upuCHI+MbwxIc8+D2UAxTCn5Kts45J2GniCx5Q9HLjqYP4zyqu5sqGXIjr9Qeqx4JQ6F\n",
       "etsZjXueQtGlMeWW/zRiRXBd7fGpKCmU/rWTxCQiuBs4ZsNKCvskf9CEKaIRmjHV6ayyCr+3R6Sl\n",
       "vqQEymzl0Z2efN3uVDe6WOsVoJtIy5vystqLRFdzKeQW8goOC3eVOOdFyKA81jQuVWgZHGPfTHeW\n",
       "PFNwlKbRCKwML6iGEckLm75DlLK9EdvITvvq6IXC0rxc9jf/hilaOWJxbUeTl0+SgT9ckDg6aMWL\n",
       "dL5ZGgBXI0/hhDTBy9eZBqyqXPL0/p3hkRAQjZMBezBZrF1/IJGh1SD2T9JVsxTJxHeK9ccGp7B+\n",
       "7n1D2u9FCE9rnXBRYYtJjMmG3zGyZ145mBRH8VNpaFmSuickps9JXnnUFbP8JFfjzWdEjtqCe8Dw\n",
       "MErpeaz9fcW37j+GS7nuKCGPRRJABCcpDgEsgX4HtuQA0qjf1JnoDrZ+JX7jdsVgUPYDI5SRX3/L\n",
       "tPySEgGyfBiB4HH2nfgWZUSUjmmOgOFa42IO0iraPcBgOKavcSK9622dKqoo/7+dnZsvi/aLO8kN\n",
       "QbJTFflyyb8IJIXZYkelrHWPGRGGmMgnEyoV9Ig5qLUn5/7OSwwCZy4+6o+izB42wE7J4YrkdQxt\n",
       "tQCtWPEB5M6FCW0BFJEmr5SF+5O91E6ctH1P/3RJHB7DXubv/PHPco2gAeT2lerO7I1tvmzdv53U\n",
       "3UPOxgzEI86CRGgKazGlxZv+ZMZo4SK4VlVWHO65wooT7rUFv4MS/fjUth2FiwxB7RHpmlEX6Edb\n",
       "HqFO+Jo2VQV90H6nLeyMe8c3FDtTivApaNPpUeAq78LqeL3B1W0pZ1S44zwNohJ2Ludb6XEhDZPG\n",
       "bT9++f6iaGqOLq5sM9HbTedTWnvcNd9Yl9uvQ4crn3nV99FgnkeVyaPAwkfeNNmBuEmX+PDtHfUT\n",
       "ZSG0Y2xZ3ejycJDbrDmec+TBAEmb2N1oVtAkSgQ3c/LSiPsp/dPUQyqTsAAAAw5BnkJ4gh8ADX0O\n",
       "mc0kqcjzxPAALJIFTbChZaZ6OL/tzobni//jhPDtrgzCFFtCKfSP+3XYd83xMugOPbumeN/q7F6w\n",
       "3ZE3OIsdF2kUtVvIdtKjQ/0uOB9nNJLdoorb9wRgY7PS0alFa8xMZfcCSYO7D0o6gLKvwPbKJ7Mc\n",
       "M2JJHkAr0rOD+BNAQxNllX2QGqvht3EnaJgoD6kf4UI65lESHtGR0rrChVoUqi+MOkaSuTA5fCg+\n",
       "eIz6hIkt64UGbquiIJWhG2LTNybsU0HW3BWxsv9oW/6TuwD0ZOhdQQTffKm3nCdmPhqf4gR+UGgw\n",
       "BjfJHy8ddtnnre/jjV8Kwiyp9eO6AFdpaAQQUUi8I2w6apgm7eNEwk1L3wVN6dpz7vkoFROVjJMh\n",
       "7WYTGcZL26xyRUdNkVBhx2b9sU4WDGmap1iy1D34msLR6zQQPFFFyG7gVzUDI10FXRDJXhgd8MiL\n",
       "01uER4n6skx63RSLwTYX5tMolg4fnDh8mv9PMVXl+HZmnMjqB/TbH2LFpdW7XrISQ94Mytf/k05X\n",
       "yNrqf3dDU9YctcK1wh1tnYt/Q0XgU52F0pn7BmaxmiJ9QG+Ver7Kno3ehp3InjGbACQ6eshGDqmn\n",
       "2AxNtFCO05Ge77of/2WPbqmy3wT4dtxwYea+ADRkuU4EDxgEwMhlbgp58CgYWPj69y2w1gCdpuFy\n",
       "4WHOzChibeobIqStYtox2LdgtZSnfX5jiSlanl8BKvfIY24K9tJF09Ib0il7GEvHjE3QPCQEDXV5\n",
       "WC+ZRoeT0N/VErRdviuRN8PvOg4SnZY6Vo+EjvY/bW5vs95f0q2DjItiBRDUmxUsu9zF06f2GDHN\n",
       "NiqYr0jd/J1JnHAGsnpg+oZteP0WcNQxE8TkHWeyZyhuC+4IZxd8Ymx4fJ/oqxKfnjv6Wd3ndEx5\n",
       "nBVIB1G0h9S4JO+n4znzTms56xdWRMTMTNFKwI1cobqpxM6OhPx4iPT7XhtY7fvyOTc3nQUpUt/u\n",
       "fCdNSuFP+dIEldlUgY5C/gbnYk9JKPgpfZVSITLUgQAAAZ0BnmF0Q/8AHar2ZA3gNXdv6aeUH3vp\n",
       "FZ8DwAfvRgONUCb/79RumM/p6tzDWisjxxMhF5CYPlaMst8gOwl66qieiF8mXYdetoT5JyMKitDA\n",
       "7XuJdQAINU8okAGSuvvWU7Hozy4Bn7O4hDTID4K/0aVqMcSgOsy1IWYCmWSDkc0/HKgUHp+jGq/c\n",
       "5PouAfeTrh8s0Trw3CR3euk64QIntOxCY0Dt3R9VrSd1m6sjCquAnb1DVBDYIpt6L74/Y9i25GcP\n",
       "TpQ2l9yaLZtGzuIka/m8JPkOVPB/b+0PzPyNaodwMudlw+cAwK94LLthbNiGstOQSG7D5wvBBQE6\n",
       "tprBVIqQo+GHvlXSRANl/CDdvM0gDuVVC6hxJ4PnSBgt6PvTWwHP48DK4OP7A+tKVsNjBNrk8EVp\n",
       "4y7MjHeA+22bU7KEJIo+OwhbiA+/KygX7oZoYoUbhwaIKkYz3joF66xVQvO3FNE57ui3s0DCmVWP\n",
       "iHPfQHTi8JVnNpOgwJZm2kgOolJgF1hyGmTjgVl+YCPny4qXnly3N09vnCk0DuyScAAAAcsBnmNq\n",
       "Q/8ABLYg81x9QKGE34HeJQ7WeBc5f3Gj2ACXnAmjc+FKskTYxfYshwEb/WG0D915poQnuqe83rPX\n",
       "OVX4pPTmn+TvNRTafnpZc3WmtLHlfBcQ6beLaDCzPjDvOZoRJCCHLzp7pudvC5h6fFbH0G4C4RlB\n",
       "Qzy4nwi17bc4bPWgBPYwX6qesW27J7d+CZdQdcvNH6+ECxkdi9uIyTjwwSTiBsY/7ZHudm7WZPhH\n",
       "IPZouo1dqQNpIzaJj3wzx1aDb4AeaVVQzd+UwmnBdp1OcuErYOTFpvAdSRMS5B68+nQv3VKa6AFB\n",
       "Ujosgix9Z31znP3ONS+T2r+vhvF+lC71N4vZ5ges/VMr5KV7qXZJJn+atUzIW3XSlgwqYQMc++h8\n",
       "ordpCyL3ndPKeLESjy3VMgetdn4gm181zC9rqOd87921aWHnh12u2zq65/qgjFMrveKEAQA5mDvH\n",
       "MMHiVFMIM6PjckqvYge/Y6rPNXgQ1RiGegUUhjm7knKDjPoAptM5Jec2ufggGqIZO9SWpg49yqo4\n",
       "OLtb2LUPR4vj7gnmYhU7DAioTT+EDJCsWZFzEBPMK3PIx1RvFEOHxkmams6aCw8VrrjO2p3uDKkA\n",
       "AAWcQZpmSahBaJlMFPBP//61KoAMFETDYgCDNDaSc7haNqd/FXGdUOWV75brEOEEwUc60M/7773p\n",
       "uR//2Dg6war0w1FgxCbj/xjTzgYMP+nSryWbKBAXZ+r9uubLTRtfmJI3j27TBQ38P9FwlAteUlar\n",
       "GEp16ROulsu/SLgVo7OLQ1HIS1W/d6hO6UUSi+iL2pHtFzP/ayifeR1OyN23AUmTBXSYeOG7UYu2\n",
       "JehvhhdQ36oU/Ls/9LOm7jqPMfezbdvPj0NrYzUCtOCXr9vwv0wUME3QI//nyqt64vO6xAhtjlqc\n",
       "RzfIXjtPBsyNAOm5sKVf8pE0QAuNFghTrRRfzmBRPcA51BFuEfULYPCs0n71C/+kaZ3fkO1SpdKH\n",
       "TSCRJRqZg/eLnGy/QGb7TMdAutF0FALf7qhbSHxgqKrR9sWH8Mk+qPnE0KVGmi3kX6wGYSYzG2ev\n",
       "McqYhwI3Ut+wxZ9Oy4RMAlOa1eBoiyiaFJw8NKbbaU/AzwYO3aQpTfsI3crw0afsA11fVd6upSvN\n",
       "EHMKScwvC5M+xGe3v6vDjy697tgt6CvhzkY4fpeXAv27xcb53x5R4wn4CC7pjP9uGUxZfAtKkTac\n",
       "eF3cpmam2v98SV5IANKc3i+CH2TAEWdmK69XB25o6BWCeVlwqhUG6+Ii1SFZtIKfDZexP/kbX+2Z\n",
       "2CwmHDoMu3evwnKCIitX+K3/xzUm0u2Z5bi0AEPaJOxh74ceVO5KvPWXOFhAqnDLhUB93GgjBjk5\n",
       "0Vg8iem9+DdsEIqBYlYEMVCo0GfvzbAcppCPmYJE8Zf9Zk3W8A2ospy18/+ZjJMGxizQQrWthPWe\n",
       "OovjqZjCIaFCpocekM7gJI6Ltvu8X5kEQcm0zKyXpDHUcrb8brZzYuHCKjsGJW2mq+uB/iKwNq+a\n",
       "VdCOgvx0oE7aXHzey9YMo8klGphs67E0z8EGe+r2HZJaltDrysHUDsqNPCZfUPL5InDIEAZHghNG\n",
       "YQ4x8TNlm9/n+djxb2TQhD1Nq1gcZWAK3WBvLyZ3b4uJtp1axoog1NUEcY789BTSsukQG8TS5o7w\n",
       "JQx1o9rBgHOqfsQNIV3m2GdHAno7al1QksN6pwk8wOng11IZUnC/5rKwkY51q4klpuyc880NomF0\n",
       "U4FbVThnSSsHm1bHlDW39t4JAJrN4zEhf0geeFwWoHnTRBrXoMsK16cA6AIQaN/uweIcwwJaqY2z\n",
       "1Uf82kzn40/bBtm7x6lSwZNsdFteXppbYH1uX8iAa+1aiXBFOSj97Mk8fC9HTlXyttLvEnCDndVU\n",
       "S5tZcNEj6Oi/08Wy3IJK5LXhpbFUFYEPjVVU3LpgnX3AgEI1klHw9MTLcvk8BOKKr5aBf7FB/EeP\n",
       "JCtPxXNIaragnzISMabMfBt48tThrD1IOPTbqrtAmx6HmlY5orujw9srQ6oCxoXd3RatIdNQ0HHq\n",
       "xdLf7ucqdq9oQemAB6PGDQFGNNrMdZootjCQ7c6dEqxTDV6sEK7ZrQqc/Atrba3YWPMadTiUsxDQ\n",
       "IlBsv7rFMWYWs8zsGfpQIyLx8LH1wKPvLN8r9R6DvYH8Bo/Po/6/lufevbt22w5QbBzK8hh7To92\n",
       "FXP6TprQOMKhzLm8C7A1wQYsMK6xSmfzjtKhe/4mR9VgYHMoEgf24Icqx2QsDgX0WhspiT1FG/aS\n",
       "SLM8R8Oaa9pXE8yrvqyinA2IdqBEKPCmFcSDK4e26w1MmqYx+4ROZc++o+YiJ2+9s49typhzTTbB\n",
       "JRTykNbM1rNO3aPvUI4yVcGLJh4LXgePst90NVG48B/CPoc8b7fNqkMJAZ+BZXghuZ2PJbr3MM9y\n",
       "JZA8+TxB1JdsvVLm9b0g4yXzEDyZwmTUEwjbjU+w19Z7dJyfrvxcgjD1wY5OAReWyQCnUQzlP298\n",
       "unZM/AhWlQvER0JUA9MAAAEJAZ6FakP/AAuhPAqCh9ewML3TtAB74BNG58KVZhyYcjQGzxcDYvZV\n",
       "oqUDiY7NzTzYdLpVJ35h7tHJNplQqYzn9bGzC1h98jHWa/FWFhd3ET8oYwivouLxmz/Cv+Q2/Fcj\n",
       "OEsx2kbop3D3LNHs7aT09EVS8CSHSq7U2ZtxO/wconp37Gv6Wq311RY7r/JnXmwKHOp+wXboDWI8\n",
       "IopucLXvPPwdr7x4R04YNDE34faAVibzxFLsaSTPKlZNncjy8ORb58276Lzq2AYlVMQ+GPOLxE9O\n",
       "8XeMafggO5m5skRA26ap87dZVKy08wggRQkuFC1hL1hqMfDdTxdplQoFt835HGA9cCRDuxBLwQAA\n",
       "BVdBmolJ4QpSZTAgn//+tSqABGHNpVADYyAXKOysIn/9wIP6Hvi+Av7l8wysBX5e2YvP3Gl/g3b7\n",
       "8EiE0lX7CWASoXdQP38Q5dtZaYcbgg+akqfY0saeDgtXgLYxNAroQQNnKpfJSwMvSXDfecAdk2Ew\n",
       "6F8WiWjODV7AS5GKScLD/e4wEWJ0txSjIqVLuYYkRUYI5rGIEvpMRMAPtODIe/l9Ud16H1uiUd7u\n",
       "GsvJ+aKtzPbrdiRG5eQYoxUdbyq3ASjst5FWyzc2/FDERvSB6w4eZKH7sN5MY0HGvh43yYWgeaSC\n",
       "bfgDPZIiqLT5a0349q3WM9UC/JlBzTOVfwZeKfvzfvkTUGuuOMTOJmfUfc2AT4YnB2gLfJRap/DH\n",
       "o65SghrOERQZkw6lBrTR7+qYjpD0Bxz95D3Tdl2XzUeIxxu/oRDimfh+fWIPlYMz/9JCyFS7D4cl\n",
       "gD6xVkTfJNaiaFcFDmGGHKQt57hqb43lsTxZ2UtXukog20Y7YSZcIz1EYj9noTLBQWxb0Wx/hAkR\n",
       "O5IUCIjjQSqF9bm5VNflyGnP0A9u8bh8ki+EkQFTE0wD5LhW9rOGA+LpJAdFgCCkKhX6fQTyL2qA\n",
       "XrBy+s2uZSHhgqNWCOiwZNkRi7oITEt8rYg1J5JZqO9a9Xz/hcksMf3PzEMasy2BZFfFDra2SvYi\n",
       "h0w4TtrXldazYQQKlnGXeu1OAS9NZu0G0ZV6br5JqFWp+VRbaTKMLV5XqaWoPtxy/DYpq9Jvp9WH\n",
       "R+LiV27pnkWEZhACbyjqPyymaRxzwoUI8EQrpmolxcUPaJckToeJ0yPaDVUiyUqawkFJldeydjgd\n",
       "xmbKIwT7oNz9hUc6+m8DjPTJx8wNe73VTN7vXSljEaP1x7o6vZf+GuXpRarfDPOr3vuFEvvsORUV\n",
       "clN1rVQzcVmM9eLspTif2vVsmNnj2+bAbylIJCQ5eslo7YqlP26xfJ49MKxdYQ83i8xOXOjU6NSO\n",
       "FlLK4aBRrBPI+8RtrDXB/9DE0dhWBxlxfytEQpaFVJ3G7zuTSoWmvrIy9uuwHmgW40t8yvhZZKva\n",
       "HfD56OAX9+92S5rnmcQTSo7RlF99cgGueeUTPQXqg1LaFuNIG82hFSQTCPFRZCgOqVBa7POZRoo5\n",
       "7x0p0+n4dmC5TUstnXZQYLaBHr30tbMQgbPkVMGeFtymYoNkeQGzCeJaEnCC9L3Is3wKUtwjxqW3\n",
       "zBUa/7YwC+4zLpgIi77bhicC6AstaP4j1SM/0o0UGVbh6J6f84duIRX4OvHcTlM0veKQPakr8IYD\n",
       "GyKH8DZWqIaaiS+ada2SKunfoA8hL/moNqahQuKHFXw5x44UFAwtXAMha/Z7n+EpT1wryCQHrI5o\n",
       "Guy0/eIlKu5ac0Z7n+ePDBosQMD+ny4MZ+C73dFfhS/0h73QNkbmCpPvCosgSzcJgpIOeVKSsLsZ\n",
       "rn4dLb17cf3CEhZnY9suoSajopTnKQ88JGgtCRG27oY5cwUInbbjlBsPSWRgaQb30s7puOYwths7\n",
       "pBopF9mkSgjUo2rE6jtKBBrpBl6nJp7z94sMgVfiHyG4VwYhNS4e997gGKxwQBpv4s17uPoZ5QJd\n",
       "yMcxZ5+cAwzASrUjuvp75DcmFCqkcMuJTn7vMzV3YjSrKW95wuMywMiW+I8XzJW6DFxmwWjqgMxW\n",
       "WsYY13aNsBuDhj+MuB7MGck4O7B+PWacX8m4UPTNEEoZYU5BOLdv4ChFsJyG6BMU4OXayw2Pm6jK\n",
       "9weQVKjf7gkGGcvsrokgBsvCvuAh7E7nw5aPPNY+4Gh8fuI61/8IfOhoMBk7pS2sE/BHr8RAy1hi\n",
       "wQAAAPBBnqdFNEwQ/wACGoY4ALM8XrD15Hn5o5ka41rhnDKq5C2i/srPAlfm6wBIElFuSR+usQKG\n",
       "YbDNypwZauOZTEJL1RFudcaVs0KVb37j5izLEJFRAIbfQ9R2ySKbWK0G/szm/RZ0c0zfsLbShfwY\n",
       "8+goapQnkimcqsRD+e9laLj2zKnrZnlPAx72lyS8Jknw44gD7cvYWYA9j+Pg8Y75AYS/PPr3bGDT\n",
       "nYux0BY2WdR/HSymmw7EHiisGhfsYSp/LA7IFEoOco5i/p1phpZkhkl6mYryO4/5bwAUUKmekDtr\n",
       "ey++GOC9k93K3WVoQeDwz4AAAACRAZ7IakP/AAAWsmnQbkVSiMl3Nmj35jAAWuH95xbkg1LGRPgw\n",
       "ZLJ4KR8ntTXpki3bbPdGc52Py44GuotHamMSQCR+3n6KvLJbcjzRgfDd08uD2F4QltFdRecPwXjC\n",
       "tgpUcptl2wLdU5H9mMJq9U1TWLdlkRDgrjNlg9qX6+77BnhPPLy5XFtFCCRXhz1c08AHzAAAA8ZB\n",
       "ms1JqEFomUwIJ//+tSqABMFxfmAAb0vuH19wKTD+7swPtydsMeg0JRQfxpJyvDpZmPlQvXjvwRZ8\n",
       "1TASwOgLzuMuwknyrPkDBcmnj/3Wp47nplSQL6jRvq1KiU0Y+TdkRQ+R+gBuweBTNCRlV+wxeqUB\n",
       "/yf6Okjefz4zSe8X7MogGl4EF3N42aUyYYG/xXvOdEhd3FdDJ4DodoXs48g3LcA7Wsy8HfhwX18x\n",
       "eBI7iIdBcbJ2Cz2cLVMhtWRvC9i1xXX4/61UhID8EmfhKh3r4AVvMxS9N8VZZblaVukFxx1DYJ7+\n",
       "VKbc0VQozS+mxa9DvqkFUT2Gz98MZ3VO4bJy7siUrQPEqz/n2Jzex3ada/3a4+39D1o7fSWrwJ05\n",
       "CfS5yS3Ng+R2jUCyuH9AdiovDrF2wcwW8q2uGMd2kZDOGZTb4cFJnmXxZPeCFAdSDYHwOlmPJER4\n",
       "rzRGsLqzPNc+Cj3Fzcut+rIXiBMRMEZRPv8ogs9C5wKFeAjNA38M04wgnvmXgjGWTFXUR/fnAYL3\n",
       "0av3m4Pi+1CLSwgff1r4zw7UIZycC6+ZtXgqbY6XxfZBdtrTkvm3+qE/BlginQCj4KsF3ibhI/d5\n",
       "SE58WfnMtn10trjFLCmuY3Ff1a44CnGFWX+h4urTRSUCtaISrs5MtadgdI4e2kQko/clpw5G5rwh\n",
       "3Vh0Ui9UeWYiMYXyRYF4X+cv658vQmsdiRW+y4dCuBuVVQEfGD91TSXgsdI01GzVT1EKFQ0Etx0L\n",
       "lRQIPIMF0wfLrOc5wZDQwVNWUaP50PdVj3khVIxCz/bVZVAAQpph+MIsaFYIanfmuniTVfG3M4nk\n",
       "ZZrnByyMLV17sJ8OleDyoYC/c1wmkKI2mFQqIivj4ZSD2rv8kmoVWR6NWILtdsrw9ba1fy3RjO/3\n",
       "m0/I7iEEPcxqOQxeDcMo3fldNhdnJpMAIqG+WyAqZKakOEi4CB4QIr3AHm2GQ3fIPgAfm80k1+ER\n",
       "7dfRd4XhSHn39MuInB6oNOR/a1iJ8ACdgOML4AauxjCz4pP11VfGn7xCTNzP1AvHitRuJqqerGSl\n",
       "qFrsagYCFCC6H0NNNdq5Q6uO9VVFggQPwBICk/D8UJzPGxTb51RbZnnp3AJqzwcA1Xe0ZBL9hqdE\n",
       "9Po6D697Zw9lRerz/xieLPK4AsBhCubwktmvT124q3g+dIcckAHj1nKkVmnCyX6P5XaSwTdcRvc5\n",
       "5d9PoaJw2YbZk5eqhpt/lNYmCUfWUPks5ioX0mssCTu4PiKX/AteeimFngqcQbjG3DSirO0AAADn\n",
       "QZ7rRREsEP8ABYfn4Yk5gQUyitw2+3fJa04APpD7x/FBXnOC96Etrv6pCCOT7s2/qgvB8DZsK5to\n",
       "1liKHXVg9N9v54pwVlsSdxx+OjLt+nqOFsLTxjtAuwUPnFMz6me1Q3ZsOlv21eWKBLS5PGtk6NkG\n",
       "7fgEqi4/mYvAmL++AdtcaAkKIUselTNwYeDL4w5I7XjNH4VvdRpWE18K7sxH9IgNoYTNscD/eFGs\n",
       "J1lqhsl67chmdM09KAQCfWYWvb0ECZA5K24lxwblERrwLvN7oI0FDyGoAluEc9z5ovuN15fQiwJU\n",
       "APWAAAAAcQGfCnRD/wABh7PZoKYN5LHLQAe+ASXr4Vy9WQDMyOAwPPeOohr5enKS7oOWqRJnHikt\n",
       "l5NqgZkA43omcRHBz4lDKAddhhDJud/xzrURxjbmgrnZHxfqLNN7YZ9Ac0UfFHMkUVU8h2eghfAp\n",
       "6xymbCdgAAAAcgGfDGpD/wALETvu14ZjpLukgOloAPfAJL18K5eFBcWllgMFaRFpg84Uc6QRZ+NF\n",
       "j+qXWSQGekbSDfz79BraF9DozZClInDlemkMn7tRJFM+5P3kEwO4zIRze5BrokOTpBtgTJmpvsHK\n",
       "uY1Kp6D1Wz7hvQAAAg9BmxFJqEFsmUwII//+tSqAC3FQ3wACybdrJPQfYgY3yemXp20ZnylNYZHY\n",
       "s+f+zR6Q1MS4KlumOZDpIgokcwAkpKkZMg5kxcwDPp3tfW8k+ip+FMOT3bJGtbM9ooTk64DiYlKB\n",
       "9T+ipqoO+w9SFyHGUUIWQlA7wKlLiDfXkFfbiwuyv3jsEZo3oBzkRwyQuZmNrs3HUMXOCUBjxgzJ\n",
       "zw/zLprOQlF5phbSlFsLijVRSiRKAz2s13O4RmmMjjb7AGhNyRnbqWSFjgaZgcGj4Ah5Zrl8NGys\n",
       "bt52zUozBd8uuZZTk6yX6JhsjvpUnexTnvsQo/UiDJzmkttUWczX0j+vFGtxmG97JwdE0Evhh1TQ\n",
       "6Y0tE0hVIHXdXXLw9gNBhEG78KjmdFZTPxwCIC2HRdKHP0hl6YsIa7HQJRWrtWvNRmE7xzPsxNJ8\n",
       "dEL/k2VMr6DAm9f7XSRRfsw/iZLWbRswvzqEkYYgrBR/g9UU2/GHQqzQH4bwgpFFiU7Xtq6jZNmZ\n",
       "3zrpwxyBkrK2j8+0A2R0Fm/4GG0eRFh+DPmiJOht3upmXGt3ygeNjgLmFLMipUsmQRtKRZkLTNz0\n",
       "IevRgNCWsJzFY02LOGf6XnxBrcO5DY42lmcgDJLrIEr+WBmN6HPIPTDfSyPFXcNhQVhQTeIbDO02\n",
       "XDlQWzMOGusrn7V6kpKkB0OjgiGpvSF6WhqL6QAAAHRBny9FFSwQ/wAAzdD7+UNNpxo0Q8c+Cl4z\n",
       "dU0nszOFkQ65Kiuf70r5pJ4vRadwqz3w6LglkcDj9OoNdvl+DssNIgR62Lju9cdrffWo9g4WGxwr\n",
       "i+8JCznDP40X0smSNGXYFFhnIgbGrXeUFznbH7jWd1YQcQAAAD4Bn050Q/8AABYhb+/UCsTFjFyU\n",
       "lPWBRYH5Stb6jQJVqwVqogMwfZA/gRdZr94C8OG4vgqJzC2oMOUf5kCzgAAAAEwBn1BqQ/8AAJLB\n",
       "s5hdbAink7giMBVZ4+nEAOMPuk06J+etywJVe6cW41HMntLY520V9trLp1ehPciAeN270lzs7For\n",
       "GN6kTqpoIBUwAAAAzkGbU0moQWyZTBRMP//+qZYABQOwxoOeaF7Ise6NlCbsVNBbsM+H7qKPpezu\n",
       "6w17qpi46t3ThywJ0f8J4CwNvjFrBN+ccK8VaLrx3NCYWAity60uB6Z4CoyJVMZvcz2cntIscdRL\n",
       "Of6kdGLJtu5A2uGYj38QJpvi63oBoo22JOUmhVO9hc1USxdLckiEXuRmCe1eq0yPZ9Hhb6mz/RKn\n",
       "QRhahT9fxyzO/sdIRC2yaoOJvyxB8NdcnTBVg50m1hM3dWAKR7YlBLxKmAH57nqRAAAARwGfcmpD\n",
       "/wABxOyAct0/wnvO4V1ineAD5ip9XFRh+h2X2N16iAiUk+UPIinl9yquCvpd+BG7f+2depA0i9kd\n",
       "QBlY4A3agSK2AAAEF21vb3YAAABsbXZoZAAAAAAAAAAAAAAAAAAAA+gAAA+gAAEAAAEAAAAAAAAA\n",
       "AAAAAAABAAAAAAAAAAAAAAAAAAAAAQAAAAAAAAAAAAAAAAAAQAAAAAAAAAAAAAAAAAAAAAAAAAAA\n",
       "AAAAAAAAAAAAAAIAAANBdHJhawAAAFx0a2hkAAAAAwAAAAAAAAAAAAAAAQAAAAAAAA+gAAAAAAAA\n",
       "AAAAAAAAAAAAAAABAAAAAAAAAAAAAAAAAAAAAQAAAAAAAAAAAAAAAAAAQAAAAAJYAAABkAAAAAAA\n",
       "JGVkdHMAAAAcZWxzdAAAAAAAAAABAAAPoAAAEAAAAQAAAAACuW1kaWEAAAAgbWRoZAAAAAAAAAAA\n",
       "AAAAAAAAKAAAAKAAVcQAAAAAAC1oZGxyAAAAAAAAAAB2aWRlAAAAAAAAAAAAAAAAVmlkZW9IYW5k\n",
       "bGVyAAAAAmRtaW5mAAAAFHZtaGQAAAABAAAAAAAAAAAAAAAkZGluZgAAABxkcmVmAAAAAAAAAAEA\n",
       "AAAMdXJsIAAAAAEAAAIkc3RibAAAALRzdHNkAAAAAAAAAAEAAACkYXZjMQAAAAAAAAABAAAAAAAA\n",
       "AAAAAAAAAAAAAAJYAZAASAAAAEgAAAAAAAAAAQAAAAAAAAAAAAAAAAAAAAAAAAAAAAAAAAAAAAAA\n",
       "AAAAABj//wAAADJhdmNDAWQAFv/hABlnZAAWrNlAmDPl4QAAAwABAAADAAoPFi2WAQAGaOvjyyLA\n",
       "AAAAHHV1aWRraEDyXyRPxbo5pRvPAyPzAAAAAAAAABhzdHRzAAAAAAAAAAEAAAAUAAAIAAAAABRz\n",
       "dHNzAAAAAAAAAAEAAAABAAAAqGN0dHMAAAAAAAAAEwAAAAEAABAAAAAAAQAAKAAAAAABAAAQAAAA\n",
       "AAEAAAAAAAAAAQAACAAAAAABAAAYAAAAAAEAAAgAAAAAAQAAIAAAAAACAAAIAAAAAAEAACgAAAAA\n",
       "AQAAEAAAAAABAAAAAAAAAAEAAAgAAAAAAQAAKAAAAAABAAAQAAAAAAEAAAAAAAAAAQAACAAAAAAB\n",
       "AAAYAAAAAAEAAAgAAAAAHHN0c2MAAAAAAAAAAQAAAAEAAAAUAAAAAQAAAGRzdHN6AAAAAAAAAAAA\n",
       "AAAUAAARcAAACJwAAAMSAAABoQAAAc8AAAWgAAABDQAABVsAAAD0AAAAlQAAA8oAAADrAAAAdQAA\n",
       "AHYAAAITAAAAeAAAAEIAAABQAAAA0gAAAEsAAAAUc3RjbwAAAAAAAAABAAAALAAAAGJ1ZHRhAAAA\n",
       "Wm1ldGEAAAAAAAAAIWhkbHIAAAAAAAAAAG1kaXJhcHBsAAAAAAAAAAAAAAAALWlsc3QAAAAlqXRv\n",
       "bwAAAB1kYXRhAAAAAQAAAABMYXZmNTcuNjYuMTAz\n",
       "\">\n",
       "  Your browser does not support the video tag.\n",
       "</video>"
      ],
      "text/plain": [
       "<matplotlib.animation.FuncAnimation at 0x3b07fa58>"
      ]
     },
     "execution_count": 167,
     "metadata": {},
     "output_type": "execute_result"
    },
    {
     "data": {
      "image/png": "[encoded data removed]",
      "text/plain": [
       "<matplotlib.figure.Figure at 0x3ab62b00>"
      ]
     },
     "metadata": {},
     "output_type": "display_data"
    }
   ],
   "source": [
    "perc = Percolation(20, p=0.6, mode = 'random')\n",
    "viewer = RDViewer(perc)\n",
    "anim = viewer.animate(frames=20)\n",
    "anim"
   ]
  },
  {
   "cell_type": "markdown",
   "metadata": {},
   "source": [
    "## 3-D Gas Expansion"
   ]
  },
  {
   "cell_type": "markdown",
   "metadata": {},
   "source": [
    "The following class will build a 3D permiable space (probability p). This code is based off Alan Downey's code for percolation of a 2D space. Essentially the 2D space is extended into a third direction 'z', creating multiple 2D permiable spaces (referred to as layers), that are stacked on top of eachother, which allows each layer to interact with adjacent layers."
   ]
  },
  {
   "cell_type": "code",
   "execution_count": 196,
   "metadata": {
    "collapsed": false
   },
   "outputs": [],
   "source": [
    "class Percolation3D(Percolation):\n",
    "    \n",
    "    kernel = np.array([[0, 1, 0],\n",
    "                       [1, 0, 1],\n",
    "                       [0, 1, 0]])\n",
    "    \n",
    "    layers = []\n",
    "    fade = True\n",
    "    \n",
    "    def __init__(self, n, m=None, z=None, p=0.5, r=0.1, seed=None, mode='center', fade=True):\n",
    "        \"\"\"Initializes the attributes.\n",
    "\n",
    "        n: number of rows\n",
    "        m: number of columns\n",
    "        z: number of layers\n",
    "        p: probability of porousness\n",
    "        r: rate of diffusion\n",
    "        mode: changes placement of gas eg 4 options; top, center, outside, random\n",
    "        fade: should wet cells fade every step\n",
    "        \"\"\"\n",
    "        self.p = p\n",
    "        self.r = r\n",
    "        self.cnt = 0\n",
    "        self.fade = fade\n",
    "        m = n if m is None else m\n",
    "        z = n if z is None else z\n",
    "        if seed is not None:\n",
    "            np.random.seed(seed)\n",
    "        \n",
    "        # create array of 2D porous layers which make up the 3D porous space\n",
    "        self.layers = [np.random.choice([0.0, 1.0], (n, m), p=[1-p, p]) for x in range(z)]\n",
    "        \n",
    "        #fill center cell of top layer\n",
    "        if (mode =='top'):\n",
    "            self.layers[0][n//2,m//2] = 5\n",
    "        #fill center cell of center layer    \n",
    "        if(mode =='center'):\n",
    "            self.layers[z//2][n//2,m//2] = 5\n",
    "        #fill center cell of top and bottom layers     \n",
    "        if(mode == 'outside'):\n",
    "            self.layers[0][n//2,m//2] = 5\n",
    "            self.layers[z-1][n//2,m//2] = 5\n",
    "        #fill random cell of every layer     \n",
    "        if(mode == 'random'):\n",
    "            for i in range(z):\n",
    "                x = np.random.randint(n)\n",
    "                y = np.random.randint(m)\n",
    "                self.layers[i][x,y] = 5\n",
    "            \n",
    "    def step(self):\n",
    "        \"\"\"Executes one time step.\"\"\"\n",
    "\n",
    "        num_layers = len(self.layers)\n",
    "        \n",
    "        # if a cell will get wet, set it's level of wetness\n",
    "        # to be inversely proportional to the number of steps already taken\n",
    "        blk_diff = 5-self.r*self.cnt if 5-self.r*self.cnt > 1 else 1.1\n",
    "    \n",
    "        # expand gaseous cells to porous cells for individual layers\n",
    "        for l in range(num_layers):\n",
    "            a = self.layers[l]\n",
    "            c = correlate2d(a, self.kernel, mode='same')\n",
    "            self.layers[l][(a==1) & (c>4)] = blk_diff\n",
    "            \n",
    "    \n",
    "        # for each layer fill the porous cells with gas\n",
    "        # if cells of the adjacent layers have gas in them\n",
    "        for l in range(num_layers):\n",
    "            \n",
    "            # array that will indicate the adjacent gaseous cells of a layer\n",
    "            adj_wet_cells = np.zeros((len(self.layers[0][0]),len(self.layers[0])),dtype=np.float);\n",
    "            \n",
    "            left = l-1\n",
    "            right = l+1\n",
    "            \n",
    "            # check left layer\n",
    "            if left >= 0:\n",
    "                adj_wet_cells[self.layers[left] > 1] = blk_diff\n",
    "            \n",
    "            # check right layer\n",
    "            if right < num_layers:\n",
    "                adj_wet_cells[self.layers[right] > 1] = blk_diff\n",
    "    \n",
    "            a = self.layers[l]\n",
    "\n",
    "            # fill the porous cells of the current layer\n",
    "            # if the adjacent cells are wet\n",
    "            self.layers[l][(a==1) & (adj_wet_cells > 1)]= blk_diff\n",
    "            \n",
    "        self.cnt += 1\n",
    "        \n",
    "        if self.fade:\n",
    "            self.diff_layers()\n",
    "        \n",
    " \n",
    "    def diff_layers(self):\n",
    "        \"\"\"DIffuse each gaseous cell each step\"\"\"\n",
    "        num_layers = len(self.layers)\n",
    "        \n",
    "        for l in range(num_layers):\n",
    "            a = self.layers[l]\n",
    "            self.layers[l][(a>1)] -= self.r\n",
    "    \n",
    "    def num_gas(self):\n",
    "        \"\"\"Total number of wet cells.\n",
    "        \"\"\"\n",
    "        return np.sum([self.num_gas_layer(x) for x in range(len(self.layers))])\n",
    "\n",
    "    def num_gas_layer(self, layer):\n",
    "        \"\"\" Total number of wet cells in layer\n",
    "        layer: layer index\n",
    "        \"\"\"\n",
    "        return np.sum(self.layers[layer] > 1)\n",
    "    \n",
    "    def top_layer_gas(self):\n",
    "        \"\"\"Returns: number of gaseous cells in top layer\"\"\"\n",
    "        return self.num_gas_layer(0)\n",
    "    \n",
    "    def bottom_layer_gas(self):\n",
    "        \"\"\"Returns: number of gaseous cells in bottom layer\"\"\"\n",
    "        return self.num_gas_layer(-1)\n",
    "        \n",
    "    def run(self, num_steps=100, normalized=False):\n",
    "        \"\"\" Run model for num_steps\n",
    "        return: array of total number of gaseous cells per step\n",
    "        \"\"\"\n",
    "        num_gas_array = []\n",
    "        for x in range(num_steps):\n",
    "            num_gas_array.append(self.num_gas())\n",
    "            self.step()\n",
    "        return num_gas_array/max(num_gas_array) if normalized else num_gas_array"
   ]
  },
  {
   "cell_type": "markdown",
   "metadata": {},
   "source": [
    "The following is a viewer for visualizing the 3D percolation model"
   ]
  },
  {
   "cell_type": "code",
   "execution_count": 169,
   "metadata": {
    "collapsed": true
   },
   "outputs": [],
   "source": [
    "class PercolationViewer3D(Cell2DViewer):\n",
    "    \"\"\"Draws and animates a 3D Percolation object.\"\"\"\n",
    "    cmap = plt.get_cmap('Blues')\n",
    "    options = dict(alpha=0.6,\n",
    "                   interpolation='none', \n",
    "                   vmin=0, vmax=5)\n",
    "    \n",
    "    view_layers = []\n",
    "    draw_title=True\n",
    "    \n",
    "    def __init__(self, perc3d):\n",
    "        Cell2DViewer.__init__(self, perc3d)\n",
    "        self.perc = perc3d\n",
    "            \n",
    "    \n",
    "    def draw(self):\n",
    "        z = len(self.perc.layers)\n",
    "        \n",
    "        cols = 5\n",
    "        rows = np.ceil(z/cols)        \n",
    "        \n",
    "        thinkplot.preplot(cols=cols, rows=rows)\n",
    "        for x in range(z):\n",
    "            thinkplot.subplot(x+1)\n",
    "            if self.draw_title:\n",
    "                thinkplot.config(title='{0} {1}'.format('Layer', str(x+1)))\n",
    "            self.perc.array = self.perc.layers[x]\n",
    "            Cell2DViewer.draw(self)\n",
    "\n",
    "    def animate(self, frames=20, interval=200, draw_title=True):\n",
    "        \"\"\"Creates an animation.\n",
    "\n",
    "        frames: number of frames to draw\n",
    "        interval: time between frames in ms\n",
    "        draw_title: draw title for each layer\n",
    "        \"\"\"\n",
    "        self.draw_title=draw_title\n",
    "        fig = plt.figure()\n",
    "        self.draw()\n",
    "        anim = animation.FuncAnimation(fig, self.animate_func,\n",
    "                                       init_func=self.init_func,\n",
    "                                       frames=frames, interval=interval)\n",
    "        return anim\n",
    "\n",
    "    def init_func(self):\n",
    "        \"\"\"Called at the beginning of an animation.\"\"\"\n",
    "        pass\n",
    "    \n",
    "    def animate_func(self,i):\n",
    "        if i > 0:\n",
    "            self.step()\n",
    "            self.draw()\n",
    "        "
   ]
  },
  {
   "cell_type": "markdown",
   "metadata": {},
   "source": [
    "The following will show the percolation of a single gaseous cell on the top layer through each layer below.\n",
    "\n",
    "The 3D space consists of 5 10x10 permiable layers (p=0.41), with a diffusion rate of 0.1."
   ]
  },
  {
   "cell_type": "code",
   "execution_count": 189,
   "metadata": {
    "collapsed": false
   },
   "outputs": [
    {
     "data": {
      "image/png": "[encoded data removed]",
      "text/plain": [
       "<matplotlib.figure.Figure at 0x421e8cf8>"
      ]
     },
     "metadata": {},
     "output_type": "display_data"
    }
   ],
   "source": [
    "seed = 22\n",
    "perc = Percolation3D(10,z=5,r=0.1,p=0.41, mode='top',seed=seed)\n",
    "viewer = PercolationViewer3D(perc)\n",
    "viewer.draw()"
   ]
  },
  {
   "cell_type": "code",
   "execution_count": 190,
   "metadata": {
    "collapsed": false
   },
   "outputs": [
    {
     "data": {
      "image/png": "[encoded data removed]",
      "text/plain": [
       "<matplotlib.figure.Figure at 0x40b20f28>"
      ]
     },
     "metadata": {},
     "output_type": "display_data"
    }
   ],
   "source": [
    "viewer.step()\n",
    "viewer.draw()"
   ]
  },
  {
   "cell_type": "code",
   "execution_count": 191,
   "metadata": {
    "collapsed": false
   },
   "outputs": [
    {
     "data": {
      "image/png": "[encoded data removed]",
      "text/plain": [
       "<matplotlib.figure.Figure at 0x42208128>"
      ]
     },
     "metadata": {},
     "output_type": "display_data"
    }
   ],
   "source": [
    "viewer.step(2)\n",
    "viewer.draw()"
   ]
  },
  {
   "cell_type": "code",
   "execution_count": 192,
   "metadata": {
    "collapsed": false
   },
   "outputs": [
    {
     "data": {
      "image/png": "[encoded data removed]",
      "text/plain": [
       "<matplotlib.figure.Figure at 0x416887b8>"
      ]
     },
     "metadata": {},
     "output_type": "display_data"
    }
   ],
   "source": [
    "viewer.step(5)\n",
    "viewer.draw()"
   ]
  },
  {
   "cell_type": "code",
   "execution_count": 193,
   "metadata": {
    "collapsed": false
   },
   "outputs": [
    {
     "data": {
      "image/png": "[encoded data removed]",
      "text/plain": [
       "<matplotlib.figure.Figure at 0x42208198>"
      ]
     },
     "metadata": {},
     "output_type": "display_data"
    }
   ],
   "source": [
    "viewer.step(10)\n",
    "viewer.draw()"
   ]
  },
  {
   "cell_type": "code",
   "execution_count": 194,
   "metadata": {
    "collapsed": false
   },
   "outputs": [
    {
     "data": {
      "image/png": "[encoded data removed]",
      "text/plain": [
       "<matplotlib.figure.Figure at 0x3ac97358>"
      ]
     },
     "metadata": {},
     "output_type": "display_data"
    }
   ],
   "source": [
    "viewer.step(15)\n",
    "viewer.draw()"
   ]
  },
  {
   "cell_type": "markdown",
   "metadata": {},
   "source": [
    "Animates the 3D percolation of 10 layers of 10x10 cells, diffusion rate of 0.1, permiable probability 0.41, with one gaseous cell on the top layer."
   ]
  },
  {
   "cell_type": "code",
   "execution_count": 195,
   "metadata": {
    "collapsed": false
   },
   "outputs": [
    {
     "data": {
      "text/html": [
       "<video width=\"1200.0\" height=\"400.0\" controls autoplay loop>\n",
       "  <source type=\"video/mp4\" src=\"data:video/mp4;base64,AAAAHGZ0eXBNNFYgAAACAGlzb21pc28yYXZjMQAAAAhmcmVlAAD+oG1kYXQAAAKtBgX//6ncRem9\n",
       "5tlIt5Ys2CDZI+7veDI2NCAtIGNvcmUgMTQ4IHIyNzYyIDkwYTYxZWMgLSBILjI2NC9NUEVHLTQg\n",
       "QVZDIGNvZGVjIC0gQ29weWxlZnQgMjAwMy0yMDE3IC0gaHR0cDovL3d3dy52aWRlb2xhbi5vcmcv\n",
       "eDI2NC5odG1sIC0gb3B0aW9uczogY2FiYWM9MSByZWY9MyBkZWJsb2NrPTE6MDowIGFuYWx5c2U9\n",
       "MHgzOjB4MTEzIG1lPWhleCBzdWJtZT03IHBzeT0xIHBzeV9yZD0xLjAwOjAuMDAgbWl4ZWRfcmVm\n",
       "PTEgbWVfcmFuZ2U9MTYgY2hyb21hX21lPTEgdHJlbGxpcz0xIDh4OGRjdD0xIGNxbT0wIGRlYWR6\n",
       "b25lPTIxLDExIGZhc3RfcHNraXA9MSBjaHJvbWFfcXBfb2Zmc2V0PS0yIHRocmVhZHM9NiBsb29r\n",
       "YWhlYWRfdGhyZWFkcz0xIHNsaWNlZF90aHJlYWRzPTAgbnI9MCBkZWNpbWF0ZT0xIGludGVybGFj\n",
       "ZWQ9MCBibHVyYXlfY29tcGF0PTAgY29uc3RyYWluZWRfaW50cmE9MCBiZnJhbWVzPTMgYl9weXJh\n",
       "bWlkPTIgYl9hZGFwdD0xIGJfYmlhcz0wIGRpcmVjdD0xIHdlaWdodGI9MSBvcGVuX2dvcD0wIHdl\n",
       "aWdodHA9MiBrZXlpbnQ9MjUwIGtleWludF9taW49NSBzY2VuZWN1dD00MCBpbnRyYV9yZWZyZXNo\n",
       "PTAgcmNfbG9va2FoZWFkPTQwIHJjPWNyZiBtYnRyZWU9MSBjcmY9MjMuMCBxY29tcD0wLjYwIHFw\n",
       "bWluPTAgcXBtYXg9NjkgcXBzdGVwPTQgaXBfcmF0aW89MS40MCBhcT0xOjEuMDAAgAAAJdlliIQA\n",
       "Ev/+963fgU3AQO1rulc4tMurlDQ9UfaUpni2SAAAAwAAAwAAAwAAAwHTKdCGqiOHD/QeAAADAAAJ\n",
       "WAANKAAwgADo5L/Bav8QVOVxOQEhY84djtbOiBRX06SaKCk7SgE+M4g/EQolETXF0NAiTaEGoD0v\n",
       "BVFmWQyWP35pG9u5JFA6YdFkNP/+DcQLpDLOJBgpabEwtCrgr+rzmyKZU3ff1zeTE/Go49iyAnOH\n",
       "ecUp8YZCipz8R67mtrFgbZR6+H/NJL6yVeGhHozE49i8vTbs+pVIJNdBqdV25DMyOMp3v1a+hSGN\n",
       "e9fdqFMFRjMn5JD/O/0JivxbLPXpjG8AF2PQZl0rYSCkZawQquZwZSFB+Bjxp01hbavyXYUub/jU\n",
       "Htbv289fZeOAViQlLvNOo72/07Mt5NELU6hFV32UzYedT/7wtV+3WFd+6U0HQHy0ai8v1jE29HJq\n",
       "nz7OWtVlMhMYSofNImMXwF0KujJMYiuSQMGkd2SckBcaiAsIqqQFrwRsNHg56Dd5ocw6oqb5DUki\n",
       "HZw46+UWAH5umu2cR4cQbsdqRxmWuVvM2fdwk8mKffpa9XUkH8L+/bfEUUAO3F+0LKT739xdNPfK\n",
       "zp12KMXODB3sTQ+tGexFnyOBHMJ0tjIkT+Y3F5+bQztOXbYzEi/NloQ/w1iJvK5qrKiSEy+/0Nu9\n",
       "Ax/mrx4VqUm+mYwXe/UNErVZwWlT9h4TYbIIhHZoc/xT9TkQFTfXC6E5nng50l3CLBtQZfgO5UKQ\n",
       "QPevlMnb2yRQPykHpQGp7XDsuzj/zrJ/VDK6I79HIvMvoLPNXPnMEzw1MQWcRElcUG3hHOI0JrKl\n",
       "iO5pnkftLpZbaaETdeHvwQ0IQcL3B+7iXSHfxpBvEoGmJkbMXpK4ZBHuLU1noW3pZijtkIzyMT6C\n",
       "H5D0M5KbapkV1ctC77C/KS6rVVTKqacyG6PAsog50HmqqK4+vaZPfGX/S2dxMegulhkcL7yo19PZ\n",
       "+/lTr7GiWJKii7yzga7+7ZEJu3X3r6wa7o82LH4HtNPNPE5Jb6Qq0GO6rtwdy5fxTlRInZI/HhgU\n",
       "bZhLqCdKlHtBLUUFsLYN5mz7uEk+VTkbulx/RM6zp4+q4iigB24v2g5P84Z80jVlUmkOvOlyxVKY\n",
       "IJ5X4QWE56Pep6OPmRa2BeD6UG+wGNWomD+v3mD59DQGvkVSimYH2O+XhA+Pknx4Tj5+XIGdTwot\n",
       "6Oz4cNikQVaCXAs3vaTukycjF4bOyWzg6uhe6m+uF0JzKEYMOneIsG1Bl+A6FQk3Xkqchn2A6UPI\n",
       "/KQek+fWNjXlqNL+bQKY/mHRHfo5F5l9BaHRx85gmeGpiCxmN+j6Dbv7tl5JrKliO5pnK1NPm9wn\n",
       "8GukiHi5N1CDozDVI2kukO/jSDeJQNMGI2YvSVwyCPcWpb2hbelmKO2QjN3chNs192lQniHik9b5\n",
       "1SBdCncpKkDvx3CXMbQBTQW3TQYP1SXPaxMW1BXTplEUb6v62t7QSfhzIBCdEtco9t1EUJcw+lE7\n",
       "kjoqJB+8KamGsByUS7mXG3pUvlXoI4BNJx4g4dm0GvI7KnqwKEdzaVAs2JhhymeG6Qj8bnpZo2vo\n",
       "SSgitVr8Ky+SdTxsUZ8tZFfAmbWdNXfw7qaTHJx8KXM05ipBcZ2Ns2rhRVOFc5874E8igXpfGUrV\n",
       "m7G3ju2IzSekOYvDPtNsfmGEvWx1wnF0Ftf8WchQ1C5XC0dn2/p1o3ZDYaMClarrsFzgt4EEyMpS\n",
       "SuHmCPYjUgvdcXysedaUGBel+u8hK61sCqLV+cqJ+DZwtL8jqtehA/DeGiprVyqprh6nrKmXxn/d\n",
       "8UIRvn5Z5RVVj+aEd91uFaHMHBPUFUNQ3sAqEEM4MhAEP4dcSSRD5pkyDR+gY5iNELdzawjf51/y\n",
       "sKRFR1uW3glHT7npsZRSlQ7IWl+aXymfKmqXkJCwChe/k47LZ42MVn9wO3FFsVEVyRsbn5LbUl7Y\n",
       "wdO+uz51LfaXoECyx59Q0eFPltoPjYLAhHZDxLSMZLDM4hbvZeFjG841Xcrxpk0zIxkYg8ps9He7\n",
       "ZOEbATWTFUYc+L7FUqzHE3RLimjo9OVkvv7SUA9NBjyjBM4DcPmP94wkSRmiv3cdKEUMojCiYoOl\n",
       "Yif4Y/yvNy9cTW0ntdgaNyTaoAGNOfmpuricJdjT1Duih0NHSeFWJWbNPy560eBIwKo2VMU+KtUg\n",
       "G7xqVn+/I99MyqGuaX9hcgS+zvz2yGa9WHsCZpOJIXV8VuaEuyG+cUTrBtek1HK500H2zmc/Idmc\n",
       "4Hk7OHdWwdEkrpjqqWzsdLDqDTYc7ut3dwlcoOIQL5WmmvPs7+wXLMCqYpVtPHUlBgCmpBeLshS4\n",
       "eYI9gnigrri+VjzrSgwKPBPbfIENmfCnp5W05fk2cLS/I6kIMXNI2R74tHZ2lF9/w3Q9C6II1266\n",
       "Rvn5Z5RVVkTLEd91uFaHMHBPUUcnFK884rq5F+mP90Z1RCSRD5pkyDSkY1zEaIW7m1mB/5HL8xZB\n",
       "zGykNC24sFpEikrUmJg/fGUtsaudgauartm9wrc3Rd+ZlwYxWf3A7cUWxahXJGxufkttSXtjB7NK\n",
       "ObYR5pjmUtcJX5sXTFDhkebdLDFAYefWatYFnyoyeWvv079YhUv/udmCKjb1o9TiLBAkkFxDkvba\n",
       "JJipXwlpAj4ijfsXFlGcdWYWWwZJEfTpvwqtXNnmBHchGIRT5k8GDLKhGxfxtacxrcBx63UtH49C\n",
       "C8jWTE/YhNMHqpz5a9ZGlfueql9FDEevC9Pi8/V5z8vwMmU382Zu911upqp4dgHF7qpmBH41vznX\n",
       "l2CCNtW8ubyzZq6PLGvsliQhmFNmTXKX8Iw5F4J44b/1zV6F3nG3ZsQnF1aPYhOmUjy5UrGi28aR\n",
       "eMaQo7VdXMJhMJU8PlfhRop/fb9gQpqd2NZsRWO8CmPnVR22kqaZ0ECZO0Rxb1fGtHUu3T0gvS4/\n",
       "4etuR4ergQ8wCvYbLTZZpvCixigu5uOamNRwjyzKjsFWvgQOOOFfA+hYou6DTOVZ0rXwWWkK191N\n",
       "Uz7Y75BR87mbjRrGgYNk2L8eDB1uN+U2E9NaDRqyNMcdDqYr/tKp7gmrBg52GLxh3rG5UxfFH14k\n",
       "eKZnVu/JQ1yhWOXpDfa7EUGT96O2q3W0DXnr9Mnl2ro8oKNRDimoiW+UQQK2vSvzGVjF6vh4soiE\n",
       "KSfTekfoXQyTwHCTwPhTv////nVuhkTqdPGsar/eTbv6AZ+YDr6Zkpq8hhp1G+yrm14Z9z4DXSk9\n",
       "SVygT5izv/F3+CVPlNQg+i9Xn4jhjOC6zVq6Qv0yoWm17HjUqQtolKty5zlOC1w3vZJUZxVSiUeA\n",
       "KhdFFGl4gkO7yuV7IbbcXRQBtZ//623IheK9CzSh2dIn+nc9jDuzPHAn/aJGMrUmZlBXo8tbkoKc\n",
       "7EI4No4Dur3exwsTuBJJWiIsmZEbsOf7+bZTG+CSusu3Cvj45i/dG5MVq/5vUnRCGYZ6PpHEAseU\n",
       "FGuTkl6Ikp4BVpjuc3/noZxvr9F8wtQYt7/RAW5HRl4ZCvjtWm1AxzQgnPGDYRnN3CTaEwzzUfeY\n",
       "0Wm9Um7BDUymGavoza46wxXrsyKoHB3Bq7b7fNeyeFEpQuNc3yy+yyJR0zw/+7BC18+c4QnJqdLV\n",
       "vo2roX+DWQ5hCBzl0J+VWmJHvdUSUPhcRK5i1oD8iV1VJ6OoRjklvIcwtF/0ItaCNxomue5xr15b\n",
       "c8Ju9RbrNjnr8shVcShhnumK2hZiSeGAdhWZeh9vm59nbW61oEfQyrtqtmU/rxrrtJU9hJyMYnxF\n",
       "dl0ro1SOfqQRcsA/G0yNnMf5H67oyAzxVq+OkzbKYva5/atOM7LC68Ipd+zLcNX8RIJNGFZ5BIwo\n",
       "whVKLua3abclF4/6vPtURhNIhvRGtbD7Ljig/z57blVO44a+5daeDq62d/BHp7VFy7fzMZA3cy9t\n",
       "D1DngUxxBZODIBPIwfFsdgRW14NFb8MQU/cFCXTf5klLq4hW14v6ifsVU0HVamwwfgHXTnhl4mC9\n",
       "tgJhVrN6Xk5POMzHXdMXTlaP0uceX9bAdirP6axv2ZHYvfaxDOjb+iB9c5GWwfKECV+pGsNHRezy\n",
       "zeDo1oKG4LzI/y+EMxA8ajXR0Bg+vJq4SQcMcgCTcko8okJF8A9oe09JhZbHwgzy/x5QI0/jaw+x\n",
       "2oF6qSe/vs4PcOA1YUlvZPtpFv3cX1NznAy3WZrQ5lZSC7vaXsBMXdxk+XHxeVhY8yA8UwnhOQh0\n",
       "kq7zd5Zlp2aAOOe6vDQws+5ihMOaF7mzNbeKGKbzlVGEGLZ4CIp/nyOJBtbyHSmgF36gCqS9XUFw\n",
       "3nsgtlU7DPoiVAeOCkfdFCnM5q3WrLCoSzQd1VfL7+EmQH3gkppius6hJnWcD36fIAmWS4V7QsD8\n",
       "009bS4Ckdb9OouthK/JNCg2kfS9wZ38YsvWKZDLJ0sTD2ejkumy1b0K7EpFGu0Cq2LlGwzsQ1zU9\n",
       "mHJugaN//a4EUN/fwGioQZSBcMoiNIH3LrYm7G3QKC6xTMNiw09Llb1pcjw42xhCjXVy08ZB6Kos\n",
       "mmiXQ5KrbHTjaaLZpk4PW96cNCF/8AkMWjjNXpUyXHl3BkLLYtoYr1998DNyPOhOzh7MednQd4D0\n",
       "nXpRMAq6jpjEw7I06hkGOIynqPrZ40ub3RI9aWtkP+/Nhq2EOxaoV1B9zdUouL4jH30vaee3Pm54\n",
       "/qc30BFqxKVDUOLWrRQP4LAZRfUT9GjA3ukuK0zPKzPza78bQ0BytNlSfqAMIEz3P0RuUWdXI9R/\n",
       "6goJsKUtUVOhvAzzU5GwiGarvqtk4ntuo/L3O8Rd+6fA2v29M9stUdxrvTc2KX0FDztZDzeBNknI\n",
       "K/E/UlaDNAeRgnctcp/izhFRsorY4fd23UjCGtNhpmJWd1eY3NPB7RkZpOC5T6nugD1ytFKc4pna\n",
       "BoiC/PR3B9hdHfqJ6EoUhbPzioHu4yofHF6LKcaxzXKKbvp6H1b+rE+TaymrFbQrI8oREyb6N6T7\n",
       "CiZk32cgNhxf7RnxhLttMSmRBaMpRpWE8Lna7miJH0rm9/cy9G9kOO26vcaGjulcVOlGF02KmS0s\n",
       "QtwmyQZ5BnMhlj2XeWxrSjXp5O3NBIXVxsTQ9eGhDKusrOT6OXfOL7VfRkl6DHPpWt3E+h9E1Cdk\n",
       "UWsKSm9MIEuW/W5osauEFeZrH8FylWkCtsu8GmYOchErcgVliCtd5qw0UArSiyvgJgbL0pLkpXFF\n",
       "xhL9sZNVYyoJ7iuPXHQZPdF+V0bXw/9mGj54AxPvP1tzkefPSN1M2uCFyvlPNGLaPs8vHwXd+Ds2\n",
       "4nr0GH+H5GxTh79cdKX86PnP+2M0UTGnZPM6EzR5JbZh4qAv8QPsRX72YlvbZvkpdXAHeBWxW+PF\n",
       "NocTz/A7EE8UfVkG3C762DGTxw6BKxVNjJ2UeJl+UAhWIPC2R7sHznZt5T8CcwERQAEq30KY/zZA\n",
       "BYDpExD+TMcdnejxOsxAEJ567y9Lc3UZJgq15vKU/dfBYlZ3tkz2tOMqBAsKFOLVk2LOMxAtYkWU\n",
       "aqopM83pe3iIjyvXIn9r9CSzz1bVoC5DKMDizPoxmNRnUfUhOtaWKO+Cv/UUFeGGbgTSqCxW6gBz\n",
       "dMeIZiCrglYgN0V2vzHF9nFLQhYIbJqeBP6cPATh+Tyw3dScEXTcr8fPDaoDJXs28pxRJJE25iLi\n",
       "RZ8S/784hdvWe/dk62m55uvQxc/ms0bWxahfp3QCEFM+cOj7gWVhOvAIKTm8Jx6siFPbRPdjdTs2\n",
       "/3RennXg+8RTGwlFuMzCF8Ic1p0kPm2oJ9q+LzXZ2Falcm9ateV1UGllnINUgv1kOJuWlTCZuRLf\n",
       "j7+HUR5xe39UubIYlfZdlFXI5J8XE61JfhGnZ1iH8EC4YQcTOUtQsH6uR8Rw9/XCIXcNW9mvBJ2x\n",
       "PB5rmPwMceErgsmsHmc6vmi6abscb154DaPjdDjQ+0m/6EdcgpBViCN94qOMsf3yw5vWksnbU8hd\n",
       "kJ6LWAN4DghwLiuItHUYJOYyh/yznqftmpRRF2UlfZWh6QmQETGOodlSjX69d2nyAzT3O9Cf0dQ6\n",
       "U3NjcGVgnRfKQnFORj4u+E7E3J9izTNeOxH8GmUdPsq7mrlj70rxpSqAs7zFoE3niY9+LWuYLSl4\n",
       "jweBo2v7Q0LyMN861tRXIrbXWEGsmNsD9QO5LsnCgcXaGsX1CaXsZ/GqwqdsQ2SsWHpr+w7xpGcn\n",
       "3ETw3kFuYf/+WGKrtsZvk7npuyGgOjOwKnAjp/wXawAld48CvVFU1X0dyOWoE249sVKLr6b/B48E\n",
       "lh3XrAILwOCkZ787iLq+oAu9XEcBzlNoAAMEvVqQHXyzjQ9UK80lfALGVgL4Wjx4nzDp2F00w7in\n",
       "OVBhBC+jjd7tP8q83MoN149a30rbdf4CZWsR96JpOKhKPJyihHOl5Wk8ne7atyF80RiXcXy8COdZ\n",
       "0IPH2w3Ni2UqF9tnkPaNA9rjzZ46pVR9Zkwsq1oBlQlQ1at6XEdizM+ZNo8mlcAm5taH7GuVALBo\n",
       "2oFmqeUfPa7ZJdYpFUKiwuB/xtJ8Lw444V6BsSfNUy7/oHZMRO/WIo7KLAA++8lsuznz+Gl49Ubj\n",
       "tAdTxhShue3plT+7ztFeLjlg960hma4xRIREjV2UjyW++fivSMOE9K10BddEZfaLq1ZvZLa08xzK\n",
       "1kMk8oLGzz0Vbv/2KrvHyt/X2c/N7d51mHE+ka/gAAIvmK+HPQhXd1tELs6GAFNc3P9aSS87GI6k\n",
       "uxuBgMk/LFVEx7PTiNaCW4ddcrdsd7N8GKkxuQqsGs1sZLNAn9dESe5Bk7qcuBcQbq7HiAfkhz3A\n",
       "Jex+fq1dSwtyNEgVMZV6kDoPWkQTj0Z6NEFTYPSY5jbd62K8QDHi3AH5Rhsh/r1jXA9kK2X7AGiK\n",
       "Q6SzTDyUaxOfNpolHqx0fd6K7EIAhhZJwxD/rCcphkcwe0jKrkC7bGp/np472rQXxIAIoPIT4Hk/\n",
       "bKDUP4OSF90wOqC+FVLKcdbm5B9NzJ//i+96vLavrU4wUcYQbBdKKSkjoSDlWgiUPpaDJ84oaq5S\n",
       "nau6+TzOuGJjGIGwHoJ48743oxnzLem37JmsUf8zTx2102A3liv/wppUI77VPx3jHCf3bFsGkf+a\n",
       "UFH2AbLGOETo612iWs91jDonbj04W+lwZdezIG0CErN+4uwsVKhO786XoN9/HdwcQ2E0wkkFBWZZ\n",
       "F43MGkzhDtWR2jDA9jbEKFTIzx7BmqOZGBSFJjAanptji4wFTSXY4/OAZ1Y+35lQ8FMeDPPEi6ZG\n",
       "CXSU//OdmL2Vv6qzWtj7/ZvqZiv9zBJbIKrYyRJmOTdiXNVc6SwAaFKOJXn/VICip2bUt70wx4SX\n",
       "aA7G71s9n0A4kh42TRNTOsqwfGYc/M8Cge+ct62nZ7TJBYKJK4F7+7PDxz6Q7NIouwONIqVHeJJg\n",
       "hpFVVKH7IYHf+KaYCFjplbZuCCqNmQTm2EaoV2Yq3OUW8k5ZHCen5/cU/ESlsZeB0Dw/4zuWGbzx\n",
       "QeQv2VM7gNdUI0oqUA1MhxgsTF46KP/mWmkwiu608p9imRkEjfvwEC5kqM+EA2kJtB5w4GPF9SGz\n",
       "5ezAeLxyZgQQnqMVPGE9PkfP2R1tpbY4StNZaL7xDvmxTArPAr0PoiITo4o+qIGAsSSO4l8bkc3H\n",
       "tXoiFLl/jnFGeonz/gye7FRdoe+0RO7SLOstOZPl9+CDS81Seq4RUsmL3ZranqHuFGL3Xm+ZH9GQ\n",
       "EyHPc9EJ6bvkqQs4cx8I2DwBpws0XGuFGpXRO2N4WSh2ZKOZaeCSaAqaHikLAiBQtM1e5k4Efotl\n",
       "UxnBTlBscHZmYQoMSfOj5ydvWin39dmAnUysP49X4613sqKeYb3HJaLnRdEqTpyqaKyEUmlY9aBu\n",
       "GEWLWM6GqoqCoR209XhwTS8bzKsM3kFfb4ij2TZTzdA3ivENrlJFlDQfxXqLkeCEnY5deHvBhcJd\n",
       "reOaIaSeLZPIrw3fiMfIRAEEWZpH4+X5tP0n+qyFl0krZmQBuFmboAs709aK+tR0qFNTsiNiWWPv\n",
       "fhbx9SyoEJU2QiKtzXmktR6GMzwsNOYFY7ILJKXNxZgfuMME9Cd5VbB0Hlkf6Y/kd2UtOWPtGDW+\n",
       "0s4wPwvKO41zBHXt7CSVWWTfuFfbobKDmrjSWmrbYRHCh1h8sea0Ju7u9M55wHW1ZLw4oeHuaG57\n",
       "J1i+poLC82r7pGE2mOYfGM8tKm2+yzc8/785iyEKqcMkvVsyiTd+NAbeIxXhxkYEmiZhCl091WpU\n",
       "fc8B0iEFJMKBTi45Rt82dpF4tBmZPz3ISvQEqibgu6j/JUThNs72y2R8T0LFbm+4zEAD6XkTDaDD\n",
       "YQXshnhrNyO1/5tTinIBN4xU4IYUO7K/GX1FoLVRonyXhc+X4/b4FmOCE6wfo7csqsmX/pv/i1h0\n",
       "NZWgI70cHh/DVd7TMI1JBuK3qyoq5MgYMRPOw11t9aBmttbxKyni/Kcljd4+6ucSu52SALL0SbwT\n",
       "h8bK05MYUw91IJ2266UfBIxnblbQaj1Doy3Yj7tWtZMlYvsmkmWiIQhoUZFjLH71CjxabV89GunQ\n",
       "Z371b1/U+H0q6QVZ45ht19iq/2uVrZv6sH7jzNZulzAzB5fU+017V5+wnH3mjDTdsNaU9Vh2r+AD\n",
       "ioHgW8m3mvCC0XwdvIofvuAGOAbL33BrusWaqDFWSXxUdTuJJ8ypxxslX/Y/uKs1NwT3uiVd5qj1\n",
       "WQR85N6wFpSf7Eh45qTPmsrSZrbbj6UYEV3dxYijtri6OFwqXoK2TnNG/1SPZXGRz8CUB4cNjwG3\n",
       "EyTRkgl0yhLw4wcbwvDbJk7lHeVDfCpfQpDb7l6o1tVCahbcL+ZtEv2HBsIGwGn4s+V765z5fxfP\n",
       "TaChZ9m3keMehIRO5rVtZPt9v6ke5lUSGmK9UqX6wicjbjH0f+P3MSyqjm1ujPpYvCONVdaQn6lF\n",
       "UlkjgXP2Jsv2ybkxUGnd2LHaPcimULMbI7JLVakIoQcbc/5tTCjeZ7Oj9W3nyuX4ZE74SY/fubgF\n",
       "Sb1b0LIoPEylp/Ot9vwAcvyKUscEerP1T0tBoQt2nhma2LALWuM1/xAfPKavgAMws1Aryj0s6z/p\n",
       "qO7CQdMO7i/SQnDHLJK3C9nUS1BwRB7T2JGoPCPUBBMqMSsaQdcBU1yGBs5ts7StNdhfhhsFGpPO\n",
       "U4fly1sCuZHCDvuAJSGPUY/GjA4q3IGoahnQTpM59Cg9UKU1mjfSv1Uq11yy8YoztjceKMLwWz+J\n",
       "np/O/xQAjfE9gRL204L3OHkjzCDqiVWkAd9yGMCD2XIangR8JPhn6F5x7fScIkKSykgyFvxjxpsq\n",
       "Hqsaz+V87O853NqD+Tv5Gl4PKpp+pmCYCQbUCuDmbLhbnC0dBAzlB8s/YOSmFhiRp228i4BaNY87\n",
       "hunwvltrj2Q3LOhtjgRqF+m1cjQPN33iQeqxvRY43uHDGsW/8JSlW4jXTdCPfCoh/phCLdhlb3EO\n",
       "XMOQcXr/bVIYR9hBVa5hlbdsPO3II5ULgTXENEZrAqvNdG0zfdM3yail9LmRlNZVslo5xc575iGX\n",
       "95btK0JxeXs1h/DpUg/XDEI3DVvz05IoYoW0ZQ19bmVSYpBl6k/bFkiKUiOUNK9AAVG6xJUqIqmF\n",
       "4IhOa9E0QVXafKLsReJuFR+3yHAwLJ+IiUAqwAiKSbGruaBuQjyePZsH/+hq39zeDFwClTVWDyV4\n",
       "6Q3v+gqwrC0P9Kpm7+1OwRzeHYqtK7uyIT6ua72SZb5ZKwixsEiXfl18i4QwDTRZKK2qx1vKRce5\n",
       "QRy/kxxbHrCwmyxbsNRtEanZ6X1bEf0HcUizIQV7QfVee/L709ydnMYMi9QN+p6kBJtQCX/hjD5y\n",
       "sWlX3xHl7FbBf1XPfwTX/TzkRx1M30uRk+gAE6A5Efnk00wcn1mDLrV0FUjwnCMmj2yN9ulAIUdW\n",
       "49sHa0IXxYQ4L/e6xDVEUKVKTobw+OHjKdriiFz0OtOKkFYyeBwpulHYSp7eDhpXyeXmGr4/k+Ka\n",
       "tVh1SGJ1kXv6i0kuYPU3Gk47SsnT9bkukH2yKnAQigSEVIezEbgTVYAwb8fm1VWcRXKvV8lgkic/\n",
       "MSfChd89NCjO1wB7oMxIMdiGkpPYOhoxWBz7RdF1Bilm0aUp94qtBeA+i08SZV2wRx1UgaifDQnv\n",
       "uvyk0LjMtu1lNrUuqXx/shlE8LNlbjOtvrXhRMvR7PvW641uWt52ZwlT6Z9KgHQNjPVUSo3HshEP\n",
       "dGnw6ZrbkQYqRgtMzo16jNMnHvw1MI1Ic5wkMEVHwWt1SLFoiVQpaPhJb2UPIS3CqKM2jh5bY4ES\n",
       "gRpwLnWdsqL1OLGtj4F6ryXCzdTWCvtpVvahwBiAHkadH+CIF8gAAAfGsnT/jkN1SYbbjVUyQbO5\n",
       "TTx41/2ncnYfqIm6gGPSNqQatflA+tMSLsV9M14cm0C7BTiEWu7//uMaVqiU2fFBonAtKDO1nrDr\n",
       "iEo/9SvTy0XCvAV+NQofmoq1yvJHH+9tkyv9PtdzpJbBbinvoOU/32AhlEa0SGrbMJ4g12jYqJN/\n",
       "wgU8RuCiAMPyou+9EPEjZpEaJ/buwVj+7N0a0Z2OHQE+MDMmMF3Owa58laPc3AKmqvCmoevVkw8z\n",
       "dyeD4Voba8TI2/7JjK6ZIGM+niLD0hwdui5++l57XomgNePTJ1MHmHG20nUWntN3dfJEvEoGQllV\n",
       "oA5amWDs45PWEWCYfFvGAr1sl9IRF98guw6jcKyeiXnRxaqoly+8cWpJUVdT0s2F3ZekYfuMdowW\n",
       "ghC+5VP09kfcB5JJXp4v1XjpJ4L9lt69wxvvUbvpNdtOPfyzacmYcsOgcyQfJf+CalIyN6CXtCkk\n",
       "A/wOO+M3SRHdrUmHYs07wsT4+eGuQlaRlIhaImg1BbguhNnEWEwyN5YIB2UrQgPAtdGskkN8yPK5\n",
       "T8QGAhDMcfvZCcm+QkEQKkkrm5SM3xuUP2AtI0AB/3mosyZsj1DfVP8nh3ip0XClagrxW2PApdel\n",
       "f7zDbEFhNSn7SuKCbbK8v57xknhyh9TeRqraV3cXSWji04uhRUQ7ueDfxBG3GWIYYUTiwZUqNE33\n",
       "JJ91wZz+CcqQLVyZ+Aaeji0IIJIpyR+pl6eJNXErw60iROJxzdfz0cxKOzaWbUuPHPvLIA0EPnyU\n",
       "rjhugG5ynpVK8YBhcpsSZVuMXiu5t6X7U8WRL5AokM5pePSC8NVDjT+e9NTEs32uOWrjbdIk9tqE\n",
       "W5KyojIUoiQ8jxk+HpSlukPMGCrAK6JjNDB7I4ZKyfObdW0vufEElVEXw49UhwDu9amYgjPN2erb\n",
       "HjLcljUfWs/dmmvDeaFigaVNTvNN/CWFjvS8rx/5fNQTYB5NNWL3ULZeoaPvQ7GFE9kq/JCNGQOH\n",
       "zRx09r0Z+4L9xnOb/q+1zAe8NvmRt6dRWXdPM6jkookGXnecGGc420K3pyPw/ZIeWDQH+3Bxb5Au\n",
       "4JPlLCaepFlOy6Evfw+HfAPxGcKauddTOJCFvl2ivnGvUL7ld7+CU8UEN+YGlI/MnvfgSwmMu3Qr\n",
       "tgJ1ZbwcCgswkFxgDAwh8GEO5P8tHZVxEgA253smxyupwACfaojxXychnYflf38nu9ND4bxk87S8\n",
       "bMu68f5ZMsogM1AncGsBdHn8OqnNP/eyxzLFVXHdZ3iDdaAk6Nvtbr33Vw4LGB8jQBl6Ths7Hh9Q\n",
       "+v97+n8YI0yLcx5rJj+IyJ3UG++dUz4XMNTg7A6HZrKNuWIL58AGIvYeoato2a+0LvfSeJROZeC1\n",
       "8Qu9zmbHurjshPngirZxy89TmUdJBHgaR1QgHb2RObjplFIueicTr/n2iS/DNpeLPoLqAVye6Xb9\n",
       "BnQBU6QRcepICyg/ODpCl1XCVq4PnpiNjkYDg/mo7vQTTU/Qr+cXGHBA/wRlZ/mfbUw6xvIE7uyE\n",
       "9Xk0Ah8ob0PjL5OVPHYm88z2PuWE7PWq2SzcGpaPRltq5EDsv53mF2tn8a7YcjF2KENYnlcNy0Uz\n",
       "aJZ/hwFw2hY5lTkez0DLxyylhMd7gP9ywIqhIs9PkEmYdCTsWTUAAB32q4pRXhhuCqPp2XCFoblE\n",
       "ykbjJb5lMDI/zfoGbJ8p8ff5Mm2cQY5alpdiLf7Wux/hChg9/XtvGGakbRx5I6aSfLIdLTiAEJqm\n",
       "RqlX3uw5T0r06aHCcuaptnRUDaJ78fJupfAY69abEIVnCFUBb7UM2N9s1wbr84F1havUORUp3A1X\n",
       "f/WxtfxFA2QsKd51/3cEdNE2z3aSUN7/W8nohKDU9sM1eghj4/7UcGynEZN/+EriKQkDFN8dWe5X\n",
       "n6g9yiC9mQbSJe2RNq38V59VQ0u7CA/2ks25wHcAdphAq+wOMdzK8ccYfKeWk3noL3jXyDK2HT30\n",
       "lcOb44p2UDlUsjMHpWblbvBNgoc4L6U7UvgI0hkxVl2XOSs7xqUa4cIsvchZ0gpeVSAgkdz8k70P\n",
       "7juTFA4/i74FRbt7jYiGMDe4pdbo2PyZ67Q08JLH7MU0IEGuKpTMA3SMcZRfhOXtjqurGlVWSgo/\n",
       "kCJtAbXtxf6XVtubdfHMURzZ/OR8eVrPaq98692PWvxRe48T53iUNEIptEz8777fr7s9Ei3eD5iB\n",
       "AsKnY+SXYlSsgVpk54Kb7xk5156AFgvTbQlaQY9hiYI9qjhJkwgXgVh6xVHBtNqyttMI8aGJLLNQ\n",
       "KX6QvLWP6HME1dcluHFgiSuSZ++e8d1EoJyepACTHP0zn6t62e0+ZnURWLO+YNcClQ+2AnyWLzDJ\n",
       "FmXtzjb34yjb3KKlBB+s931CMZpy514jYQd62hkcEYi1pBEeX0lT5yE1+eEkXEvFMgGGu1aGRoDh\n",
       "wKCh/R1Q71qoAnnD+fzM5D98UAAG9n5AAAADAAFFMAAAAwAAAwAAAwAAAwAAAwAAAwAChwAAHT1B\n",
       "miFsQS/+tSqAAAA3meAUAOZ9ojwn+6p3NuvjYBRz3+X5QqZtI6M0D8JdoJF9Fnhhvt0nXjdAfjec\n",
       "Z0KBvIzsjGJfy6ekc6SbkSfYrZcuPgFYH/07jwf/3jmNyoZ6CA3pYLyiFqTOEzuuAybfX1J7bF6a\n",
       "lUIwJgLX3kfNuKLskpOB4ox62LJUA+nt0nG88WUQO8B17ipRUXgFswwBK8myXWaB7QflmkLLJAVm\n",
       "LxzcAHC32RcrMUK7VHROxyCNdRxVLWOHQQaUt1OpGjx2mf5XdIVtPT89fwEpeNUaFSoNlb7vAYiV\n",
       "dY+g8uv1cRA+UBrvMXJt8lztXSp0i6bGXii0pCzjCawARLhP9BTiD3+rsS6I3c+OjlHzFTcvKcz5\n",
       "Et0s8Z+gqesECBx0ORfRVgmuq7qBmjxKjapbk9fJ7O120+ZsLslRTasQQksEr7XuSQEOhl9ODmbj\n",
       "zUdJtNiycHEdBCWVSw7gLZAenc1rCzCfggQRmiGtb0wRyBhd9AhYUoB7y19Xsqyl4XRCpDUwrmfu\n",
       "aWhO0nO+YA6x1AHyJLv0J2TJSRoqYLuqTFhh0XwbYAzE7CmFSyOpgqJojP/F8hrh96g/WUtcZMuV\n",
       "S6QT9jw07pZJNf/z8TgNN81tSlMyeghUpaFbXKOASK1A/qM3/vctjVPqkAKdLXBLU6ayC1GdF0ST\n",
       "CGwfOFY25XhSefYmmbj0iGcjL0FjY9Vs1a+YuLtQn1g/QrnFoLuryns/6rxfFZbTKL/2JaZSPzXq\n",
       "trzzCzbXLdc7O8c6Th/W+VRngC3A2fhGWOkW9vYyxU9HytKn8Uyuwvz82mnQXWgmYDoBbU1/cB+g\n",
       "lyRSI5hju42dKbT51r3E3wuwgpKPIk+BHbZCgUr20odJ7Z0XmCRkOFhZjlRAEsPp4QavUzADVg5D\n",
       "jQEsv2ViPQyQrTBUo7iCuo9hePPX5MlUeHN5Vyogy9VBliXMAzgrIEwNyOngmpCsB5+w/J//rsQn\n",
       "a08XqM8KDWr1sxsOiKyA1HuKKfloVh/JvSF832o9ayift0wvYQE07tMFiAfhSM/QRy6Wl6qZPJUK\n",
       "8m8YitYYJTek69ZsjGk7f5qN788KWYGPZBRU13IyvLLmM2AiHe7XVwylC7kWGVJBR8/t22MfHwcl\n",
       "rQH1dfs4pqDOwXOI1kRua/dMiux0nCz1RZGmKJ9+Ar+aa1sTTCW8LF5jF3Kp9iHqN5Yfh0O4NWWB\n",
       "3DOETZip8bIDGY5uWe3LorXQjfIEG/awHKNoYCe8Js+OkKclckQkEoqxL7ucyBvQTEDdScjJHhPa\n",
       "weZtuubD9fMOV9BvZhsXbS7o12Q38hJ1FS80hRG0+b38QUMaZqoje//e/O7Zg8kMDO+NqS+8VTls\n",
       "qhFyGTwg2nJ0ej3BVrtRe5ISIB7vkMqtDBmu8ennykmo1LOVwTpKbDPxCGZxXhyiWzk7rQ5Du6Is\n",
       "SlbV6ia0i4O6SxXLwUpT0o3ldzw27a6recLu9hFXn0mh3YmtfWjC6H/f8lpGffQtLckEYwRrlITW\n",
       "ICHDfav6OAR5VD2YbopcevHbDFnb5nftlJ/LvKNeusu23xbhgdfUo+MaEuaSTxG4/AbxvRjxT4Wd\n",
       "8Q3VcKdh4gvGakVksE8MLXJ3Yc5pQ/GZKC8uD9i5XlAIdgmaBnBo76rJNgNMQyA4IGcz6WZjMh1j\n",
       "Xjur2JiN1V9eZRzXTDt0V1fTxarBY7suBV1bJ31h14EtEv57WEMqMnDQGT9cQ47hRxY5576btG3i\n",
       "wUBaRrVufVOIu3uu0LR7+eq/A+ojX8Krm3DJCrj7voAgZXh/la64a7rMuTHDvFbNABPpEWrakur0\n",
       "63ux3Mh9P+L1S4kKsU8FwXeRf7/st1UO+CxQU7slXY6xXulCIWGM938aErH16EvrLJyd8Iu05fjS\n",
       "TrZQbRI0h64hebpgmPirLe9HSaXE0AUHVLF+ZsNbtMbHVZe6+GUh8xv1TatBoIRzUiEvFaqkmepy\n",
       "feECIWvYPVYqqpqOWbbZe/QXQAB6WGz2H02Xk4b74xtf/4h5fqP7qb1TAm0YaH10ck81Y4uYWD/O\n",
       "K3ngk55m/aQ+/swmVAWXj7MHd0yTmtX2MXMXLJ5aghZEGn71LU4683nMZ+hZCYAQIQvz8ScX/dhe\n",
       "Yj1ypF3DgwGBl4UvqifvHblFGCVGkWMnWrJUKzzwT3JzVX9nNKnJh2CpeNajQdAVN+xl1NsT4cPn\n",
       "KBM+pTw19e6Ale+nIjMSGA9arMOWgjQFLS3zxCQhIU+RlB/i4vh+aMq5Jrti66jDOvhgQoJ4xxxd\n",
       "i3wnZ6ISQuculVhwJJ2VVWY3lAWwkCtVWIZHLki3NMQ16bT8iRQdh2WfORuT16XqOUjlBcFH68w0\n",
       "hLn4LgNgKtYfYqbXihIp8R7yIijNNwb7/DsLQ5OGXHhyAeS/+qn24g0nb1xFU56c2QehFc8aLgvw\n",
       "A57FC2YChb4Uy7BcdrcuR/lNYGxbZhT+R6d6QqEFVHsxpwSxC/MuvY76Ga4SnmH9sLFEUrKpGc27\n",
       "ODemziuHa2AOc8fWKRpUAca4xGfQnJcCxPHQ3UGzoPXq7imqpMDEApnJuj8kOF0JAWWBh1yT6Rv5\n",
       "7QeIUi/OvFjSsKp1WR9JZGmpCsqh6b4AU37xVcWhuLF5WevU76+uVyqZ/L30me+3vCpCSWMi9a6p\n",
       "sosz7NJMyIwXj8F6FSAUpvrYL9+0BGH6jfmLgAgmMr6M5GRPTAny7E2DzGNay0L1iwWQwMVoBh1M\n",
       "yWCssRCAN81t+8FC/A4zh3Pe4+OCK/Vpggyb7YNX8yGyqPhvvmkl4cpiRMmY5b1yQy2bpHjNtFlG\n",
       "rWWEdCi38sWEK0hhawxPfveSBWHMjpCebIW7KNsoOOTm5o4cSvbxwHEBPEoJpL+ZSDbQTcYifoRp\n",
       "Q4PkXLFdRtkdMzEOWscTzLC7Gq7/9Uz1hQaEssMukuS/peLoMTfocqRCLpm7MYTmWsOaCUU3kjdz\n",
       "dj7E5GU4TKypQjKoPUGPQE3JPtlOPcuezb9bEyfTTixdP+APcneudl59DZWfJCzhYazUcQHmRDhA\n",
       "TCx7Drsvc2QMT3A+MczmrYGF95pEwK/sLPDxGwhghLexPVzCvAzg7oY1lChgIXi9xLOHHQu4WrQ1\n",
       "7Bn6M9Py2Y+uORd3fD4UrU6z29nei4bh+/YdpHxLpaZiUjG1xACnvDhgTfPGBay2Ki8UNiN1ruX5\n",
       "aTVYiWWTKueVkfyNUZkx6Yih4Rc9pBjEzfyXUtClKfAuKQDkmlDgAP1EFNLkZm8tKAM8HJ4Io+r9\n",
       "JKcO4CPnT5dRHTt/qe3x9IqgQrDZl4UfbjRol339ljDBhIxlom7ZR0Qb/XA1dvVMbZgOx/WEt/wp\n",
       "vpnwJrHBzj6/McvAYb7HtCdt7SRePPRi6EaA5QhnKG5skR09rC9SDokiLZQySlZMtAhi2t8X2bPI\n",
       "Wfz4BkvDKwXGANh6Ye+BO3YwQg1pcJuoUjk/u1/18mzKtDaIQ0MTYt1oNag+ZHghfznb3BYuBqxA\n",
       "RbRAEv//t/XAUGu/hX+dHTQB1rirrayO3wYshMiytW7c1Noy0S+wO9we72zr0g8S4C2dQU3zWydS\n",
       "MDwU3gvVmsF05+YC3hQ7gjcZqpLQGpk1OyUT5VhgCqhxT8Fb7Mtgz5n4EislDSJLmMfeGxo01glN\n",
       "lGkYBzW9FdcHwsa0gK0dskvgwZ2SwFFGdBeIgeHX6yMFUyExpyS9pcSFJB8iVTAtkyAvMAY2ZbKx\n",
       "PwjigsTidKhnyWCaUlhyQMKzyW9ldNki4vnke6vtrjiNYWvi5dx/Y4YlZ+t8vA3fLOxG6zFKKSa/\n",
       "ftiUVeDEeiwGC1d9G5H8gNrPTyba5In6McZk9vRuaKNfvnC651cItr2nfAlXw+uxdjjN34O/gjn9\n",
       "CV/sXfkHFk5JdZCjtu/uqXsmjOUB1RFtwaBTi/AZ21cVftnGHu5n2Yo+6QW9py4fr9+DCztHu5je\n",
       "fOOGGSGRkUWSEWm2u0b7s7sDETLOynY8+Od9nOj7TzQY3t6rWi3DMZP9mmONnHUWcckwBHQsAcYY\n",
       "E+rVtOgGhHYH/gC2AXugR6zmBEdZOIAHIoXYAR7x3dJaPAu7RDlpaJ76HlvUjQPIisL1BzkhW7+c\n",
       "qpghJIewZbHDZ8gRIo2tQaURqMf/Tw3MytPODQEWrR//6vF8l98nyBDO2nBDAamNu/Zl+TuXdonR\n",
       "MsnnjZhtyreV1bid7uC7NPrYNt+BeN8sXmumcLc7lRO9c3+tWNIU+8ssfyJujg461BgopN5gzD7B\n",
       "kvpQ901GMSTR5vlTSwAoKzFfRufz3smY8yblz2+6P/cxhuyctGaaJZkVaLLJdnBoy/BCn5kq8yVS\n",
       "fazuPWcyH7AiMBkjYotWOLtQ5lhUC4x7lj7XCic+e1w9IJkBuW4zMjEOVEMIw/OT6bS+z/UBb91G\n",
       "RXhvRdd+uUSsB4+caLRwPyVoxSnA/n3sn4uo10tKhuw+R3A0P1zh5T6uq7cVoM0MOF7CysWeYJsH\n",
       "7KRS9FDBf0X7LX1wTmLdmMeLgrr3gVMZJcUOCkK2NGKLEwR2dNHnu0/ekU3y5XuhDiwhe3LKOQei\n",
       "q82YGXL1j91In4t9bRCouDCIYAqmCgg3IRyKS8nJaEHHETL6RMfN/rtVokfCZ0STecZG2DnMFTAH\n",
       "c2Y9x4B8OKM8eI6xkudaSUabJ9T4vO+Cz6zKhQ4r6z60R2ZMV97yBgF6Lmx6Lr/vuE6CovAbiCf/\n",
       "Q2vdy5kYSILvW/OdTxroVmmy38MvlNEBymy+20F4M4r0GX+RCz7KDROZE18aC4eFSCTif3PTOvoh\n",
       "m+sn3Psu4frlb9pM1veV1FuZTZvnEzGFgxDmX8sR8DcyAn8R52cON/ehbYiQ2LA5Xm1ypNv8Wmk1\n",
       "486FjByPgXHo5mlneJ5XWBWnW4MXazCeVDCpBPLZw9Nu9y3XlH8ah6pqEh6zJjVA1D5wjgHPKULl\n",
       "xv9Vq1edUv9MRWej+tQm2Nvk7W4kzGAa7h/20N73dqvrpVzWc5/lxqWfycDNhKgPZzRCDVrdjeCY\n",
       "cTcDoIFsTGOTaF8Y/2ZVi4745GTeqxGGvxcB/agwtCY2iL+1Absfe8iF0XzLEh93kcb5tW5ziI+2\n",
       "i3j0eQbtc5Z7lWv9dLCf8uNQua1DCQ3/Qfu7aV9zrv8kanQD4I9QfmIiiFClTzbvaisd1poOQbP+\n",
       "OfRhIB9uZPwXttdp2o5otBXwhUqDscgbG2jufHD4HfYEQz4O7YJj/nSGE/JYz9K9j8RWT4FunjYm\n",
       "KoLwf4QShk9fer/5XzsLfDS+01WRePC56RtIv7o9cuyhymzItLDnIEXqnrWVhJTXpEBDMaK5fP6M\n",
       "mSvZDiHKD2cih0VSwUsGlr5C3BO75bHxP49bXuEKvyD+q4yZzOEodkmRfgFOPM89V7i+hCjYUGOm\n",
       "8BH/j75F8+bbSg0Y1sofY2Kd6EDSXK+nUtJyIC5DJnrqLQoU9yPvs4PkWE4LleJBu0G7awbUAKoP\n",
       "Qw3bBoJdOCATKlL4lU+xeHGoBnYy/9WL/wOJ1U4FL+UfJmXAxE8V3fQNvyt8wepBGpXps+5Yi/kK\n",
       "jRHOMUctewjbb547+SeIR6RbTOalIz1GKwyeqaVLbTh0pY7EuApeODALj1p5iV+MAc0gmY6dzh/+\n",
       "rFubFVaq5t5HvguHqqwlse9mGkn1C9PERsNDH3JSsvTXgxZL/GcosJizLdvPg2RxM0DdEsNhRTd7\n",
       "EenJSJ2zoIsIYpodCrwby9FpkAhz7tYeV5aCyDEsDkfEIiUWeqo7Rs0vWR48f3vgzg1ucCPH6llB\n",
       "yazZjV23Vrr/l7VquythN5eqghg+45L+gt0HT5z5CKBd/VfE2uU6b9337OTvgVmFnmsIX8KLhFxS\n",
       "INdmc2IWvJdI/EIyxCR1O/7BPqjPUtsAmbiZAnXiMsackX1dV/D+j+qqD5Ikd2NtJFF62HXffIth\n",
       "H6P1MLe9c3P1NpFxkzA8gYdEMXBg46H/qiIhn5YjI88dzKPYI98E9JNl99fLYWLblF5uxxmbrhIM\n",
       "Glv9nhIu4DjkezuMsmAWsXOu+RSt9QsI1G+CbvKtZFNf6TZCZMAk93FL07QiXKev4B4HlLV6qfA7\n",
       "Ku+f9KRn5i+XtQiV9FFdRhXgJGXqEf/pSV9g7tdcbZmfZYTO1PwAmjiHIU+0CGoahx5+wnvQA1qd\n",
       "MyyAJDQ6vZZZMh/Bto49gb7iZUlYmLQvRZYyTKUnZZO+/ODycAZ3gS9tlugbCOH9zJgPoEWyOQDL\n",
       "yhCIu0jImy/KLOAAMfuhJbmtOrCjPJAv0i3PGwqvv4cI3tQlqTO6QHle44DcqMyk/zv9X0JG1PxO\n",
       "0GcLgvJ0yZAIyVl+kTWiAd48fCaqNzbc7SVUJBYLj6r0yU8JNZMXSsT7+eISVSH8ZuG1pGcX4sh+\n",
       "c9jnImCKFqMGb41rCMcMwDmkWp4fvbUawDzQ6C6vvmJfgXHNMkpJ/0HGMe5ureHWvrlYJVAjyzAa\n",
       "19Y6KB2WtCery3o/gtfAnGopfbEUHoz7xH4L0PourQLyZhHyE6VUAbqbOgccLDB6Z32ieI3sx6BD\n",
       "TC4bJvoRg/AqWmleXoFy/2osEvFpIFWa6VC7IHQbjC0a58ww5/wyNVdDfz8GlF5W7cqk0ze+72zB\n",
       "QrUQG4sFwofQXZmHBAjM7qGAAeKs6/DA20PGK/NomY6b6DENW3kRYyaH/HPPMKa5DISrloLRgFpk\n",
       "ydAn21UmWx5KIenGb80HF0RxQB6pecr/H8s3cn30Bgf3DeAdvBWygY2h9u2fxeMc+GKhFoZ2nPJq\n",
       "2rb/k2wPtdoDS4drSme4Kl470ig0yUABwVetd3p5Va2BCIpVW9dN+RduM9aj/g7Oa+0a2NizQr4B\n",
       "+pWJvPdBaiuDvny2mgjNbmIMAeFdVqeGsagUGdViiDZeLhEFk3ReL8uX0s6yB0i/kM3TGX1ZhheM\n",
       "beHJC3C8IKGnCaMwN0BapDqNpKCSSIT133kj/XY6OJfOnOSfU3CCc9AfWLBE1b2K2wCT74irAS+m\n",
       "zxe5Q50/a6O7Ld/9I+CBf5pQGi9T7qZP66D50IDs17lLb1h5RB6Vm23lcXqx/BfMWSYuWz9WOkLd\n",
       "8w5J+n/GLv8rO/0l9GbPDF6nci8kISGWL7nIY/EBw4KjkBx6gPIu9+EE7Dbv1VkJyU7l3Wn1xGtV\n",
       "yEjPGCupcc4jvaq6eovcyGOcl2OuL8Ubg+0XQBRxMfr/IhiSvqxCRK8veOFuCkM8ui4KHb+49lNC\n",
       "7rDBUr5jiuEmKBZTzJpZEiAC4cvxwseCoh3Kr+ah+H/UPWAanjUViHJv+dVITtOSaYiyxOS7bn+2\n",
       "svJ47PdXv7scA46As3DERfrHgo/1I9DahiIZc0GKbOFxq5opO6HAk03YfARJk6Vv+y6fdf5LrETz\n",
       "bxZljTPGcdxadchR0g1qFcr4Xs+eLPS29Zb6uHgmwtX9sgDpfK0V3cZbkDTGCGbCXYR5/h8/gzRg\n",
       "qdHTF/hnumO5YvKWnr9J98WVypKT30MahN6yubz0aICugB6W0zofxc2R36ZssGxsan/XLVnqNPH/\n",
       "1DjtT/SxS688TxK4B2YiG24B91Cpr2USBMP/M9UU3/3EqTwH1s2M/d2z8Y7KaTOiizBl+j6fEtwr\n",
       "/MMa4JZOcyQg05NNlewKBx6UcDzqeaputhl6cNH/0eHNzQI6xbqf/+z95cn30dPN7My5Xio+q2xn\n",
       "qfF2LwL919yJCeygDr9liUGqKQO04mt4MRgZWNy6cWne2cGpsMiNopDCYulEYVM3nFuGzF2fAe+b\n",
       "vWqa1iV1DMzLxY96+o6/Z4MuENbF97xYxiYOc0TrxdX4l28oRj/vrBEZ4238qv2h1MDVlVG6gmsT\n",
       "gvmtsiXLu2pZ749nAAmsCpmtusg/MM1W2uDdTYOU8qpGlXUcWwbuKe4OyKp8ZZ/7s1jvHiO/sTiK\n",
       "2Qo5k9V2O4cujE68pwLylQ3yDhk6mRV6ViBLZs4xFQU6Pu69mV3zM3hWcfaHYfn8Mn3kenRZ+bkV\n",
       "W1H9J+Gv89H++PNC45Dw/yQqBYqWboFde/L6uytwsR60Ong9qBSn1+x7SsqagT2q6aBCMfFRY0zB\n",
       "++2CA+dF0bFg6bKbI4QOc8H2qFuZpIgfVaSfR3yYUG0ubZskKWdjyPFDweyI1tKhR4AsQc+60kRn\n",
       "En28TNwIYoqfYd27AgYKCdLrJv8BPmXQQ7EcJJEg3FHfHhtLrGYqZn9OpbQC4u3oeXVl7DU/fyIC\n",
       "XnKljbqbKR9udmGK27WiKcoIPtETCt72DTJ9ZKhsqGd2pkU/JYJNm55O8SXkHUT1Yk20OMWFzLEV\n",
       "gmbI7DXmkgMTnK1GRRRqdU7SBGu0J4Haq6lkfMi3dvjF1MQzOetaAs5NhM0V94s1MPOnFPIMsSO6\n",
       "yvvMncriibF8XzDn/w+NWKpQsv7rsE551bmQnC2Z/Zg9PiQIyWltWbWkQL9hcvHNy7uvJyoxrs4N\n",
       "yGSYTUengXVOkQ6mos8OFzFNKhV3ResZtgjxb8fS8BC9FDG3yHZ1eSyzY3l/DMI17zlBGBspOAGY\n",
       "eddEwQokYwUiJ2RoiuXa+3BhrwoQYiqcL7J5jEZkg+rFqjaXhyh84LMCJ6/5j6jskrFDVJ0xTIGh\n",
       "5y977bnsTYMFMjR6Et/FQfqzksU2yoced6xUw0C3Jw7ZFgGkii4H3XpttIBoETdGth7XyJ3JNV0p\n",
       "x5VdzW8fsbL+mlc7Q6IlLw5cSjv3rDw0eWl8opGADXmO+3Pvx8XRqpspBAEpJuAIjqMyoZ6G8Ngz\n",
       "jCjD/csBhuAseMJkAA8RCrBzGLgaQstzmYkJEBoNMNbVMLFqWC+hiT4HaakBQrIxwTRaCtLC+Nm6\n",
       "t26peReZbLmESy0FkeBGfbbLaZN/PqcCO5cecHET6mNZH6JPAYlXKAQdAswhAdoZqdQPAjZyjN75\n",
       "mUuTX16sp9LfhfJ5BrTO6ni/9xHPY5Nrd3eG8UCqr+TsclSWixroLBtADWCzuCFeuIpDHxF4rpC/\n",
       "v82tHR+9txD7W+0QhYmQ+RXelnhKg8AUOXtZDhYPPl5nO8VMg/l1zml7ksx3i3G0PLhbERpUmtqQ\n",
       "RCeVW6IGzErbDfF2e2i09KsB7jqmt9Ej+XZRRPI0svuaovIT3+UA9rtxVuQEMWfjhsUSjkKw/OoM\n",
       "1Y/EeTu3AzoFXjEfSBxz5kR1VKS0oners08fT/7YURk/Kg7aqtgdtumlsqbA48kuDwODrY2jw1pH\n",
       "lhr8cCu8GGGcYNRLwfL0peDsVP5Db2o45pYBE44DYzztnmAXh7+S5RuVaeI8+AzHCVDtm5ZaOP4P\n",
       "JkkkwAo8x3GAedFTHgw0dxZeKEeq/zYZonEvWVbMU+jJr3q8xg6iobKOOjAf57y/hE52l08M7tnX\n",
       "li7I6grZ18dcO3HSce5Qomfqktem8ymHimoUEocueTojv0A1zpD1rI019+cjpF7f8fDQbrOWGmTI\n",
       "uNkNxvLsjqEuVbMDBlbnefDuKTxWmx3TcFNPC+vfqKT6UA8SDBj1PKlI3Kv9Z6Wo1dSM8IToF4L2\n",
       "u9f85TAYZvY9IdMhPkdjzKu5EFJhSJ1gdbdvYPV2mrUEznCvC787lCnxSTEBHv72e8IBd1abc8t9\n",
       "As8dqP7iFzJ/ToL63PhD55mk1bNgvGr8axDqkmbMGmqVZiXpJRxchpb62O76tjfL0K9o3sTwPeId\n",
       "cQAvuXB37KXZGmcxS8l3Y4HDx9oZ+PUwDNzWm3Nyexq5VXJaJmru/z/3/ATsAbG9TkU9piSRPFVw\n",
       "z6cu9BcYtx7rK4rJR8DNyyhgVJifPYl3E+Ky0zh0oS3Xht/MBVeVV3CoBQxtmTouKVF1LevO7RSY\n",
       "bcoU3eqyTMn5NYkQK9uR8DouvXFrx56oO7e4Ei+Qd462Ikr32cr7o8zRTzGXnntcYhctuU39NdxV\n",
       "jPsiJLqEAOz0bz9HGNX09iMsWfoynQwm6kaXzf2iE86sTzkW8otyGKVkvZqHRcmkM7CU/lTYYTXW\n",
       "+Qy10K5OlCXldrh0wAAADMgAABIKQZpCPCGTKYQT//61KoAAADLfKU4rYhe2HCZEuv0p0Gp3orfj\n",
       "idcQCSTwUf0VTanKAHBHCnOINGJd25sUY97tjXgNgUsBjJw9CvS54+JHH0opxOdqJItHfxHz9bAH\n",
       "qHZlAxDUZg44fiprCm9xym9EFfUwpqCBfQL5CX+4la4BNjElKDFGoe49khRO+7/mt8yNMiBjNnB5\n",
       "aWd98vUWakTJ2XhTOsm9Vc4tZOJHlpF9RcWxW8PP/SFgr02sDRUBXx2pe0pz4y7vJdO/3thhpjVb\n",
       "a05pyavyMHaT4BRtzzqRW/jmVn/cXBcgajnVkVUGPNM1cOxvFMl6LRW0C5UirrzsMszuRA73OhB9\n",
       "wtix+F9Ooz+OuLEroCS63TtGFLx+8ozu/QfPLS1h9/N6yHgSeBFt5/MeP9OhO08ILBc3k2l5Nk7O\n",
       "EDx8g7fNecUla0GYHOBFkgb9gMx2prObOhe570QwApVaM8TLBQIcg3MpqfSl1YZZp1WI7MPq5IDs\n",
       "0x+7+/RJ4+urFG+NNR1f5mLH5PiBrW3uPzWculPg3kiK9K/Ut8p5Vr8f7HdWdN7IPo/2Q13sFbOP\n",
       "BHEYLreQjubip+gpd9/+o+OuCs3CTx8qCY4/tG4ievhdvlgLJPYdqBrCfMfKW1NDGdUn+B7lsJgr\n",
       "5iyvp12RMibAneGcao1aR4zXYDiqtJbokxHkbpyOMz2aKaxv7u5qrr20Xt8echVE2Udn3IiMfoXs\n",
       "8a2Afh1DB3nNZP/KJR/0cnSjU6cJ+4RKJmKrJ1N0V/DTEkiNxhJLPZhHmO+qy6l8VUDIz6v0lbYd\n",
       "VOV+LkNVGJ2h1qYPVCsbk4Xv6pFlexpi+FWC64h3fJwdxBuytrJxvBbCA6cVG7YJhG0Mn+5vxLZR\n",
       "Y91EQiK1CeyMLnV5CtJNt/+vyJ6SLfJqFy2yhONIEZBGP7xxfCGBPkV67sCg0wbx2kSXczyKNmHo\n",
       "DysuZeVUoJ9IgCyCFKQ57pzJZPRHZLro7nsSlCbSdsn/3eqC5YSmEBA1gk5+VLzVXAULd+lqriFH\n",
       "GJI0STpMdO+Ge929bWLCGn/qScMxKrPI/VdkiRXzg87xBmHpKPhs960KQJZXir/VUOlapAYIJjEi\n",
       "1M4OQhlyLDRLoCkHgoJCdOswgDs36DVic0YS9yeZjF13SGyyTSjnUcuhRSX/OCFl7sTpcv+3XL/g\n",
       "BSHiJkVzO9wQ/ZGYl/VoGMSO5nTNr6KXn8BgxU1p32Aq7LmTJ6pRVCzPj1gpwuXoTy9dqs3NHuWD\n",
       "J+SwAURYymsKzVsijCw1G7p2LfXVpFkLy6+K033U69Ts5K1j1nyWxChfJAYP4loEhfE/r8G6Ikpq\n",
       "cV7xIFrvWpcU44NMntbMw+L1oxSt0BV6vW0SBm8GjfaidORHuKLH9nMX3ch4XWFzJVaAZ7MW2MBN\n",
       "eOaPLamRj/m9fXcv40zDFoioGwX5XAKyKph6MZVAPaipEh1Q7nShT4Kf36nHyCkW8T35Jxf0H/nE\n",
       "HnXTSaKVFcWgS8d/IFmm8u+uxWQ2fArPPTA4t8KM+H86JkirPxKzVDgsrO47JQhczI3jBTfkQi53\n",
       "QSLgpY6pSGzJc8gN1kh7wLUiX3eEFrv+juAzSDqF0LONUz4G4KaFj572WP8vf3MXZR4npffa50MI\n",
       "VpSOfVCovXPm/98jiPXi+U07hV4aAI1Tsp0+sJ8ezKJiO5wDJf3pzIJLHenIYxgnQttQ+JUyLB4c\n",
       "3Rmn1FWCHJcztu25jZo9qjEnGb0S3en9mKA1d5PA2wA2ZQ98DE9ixiVkSiV0eAk/2XhY1nthY9vX\n",
       "50rf7dSeikswJkO7outzciGodko29iiqUvsE8vXItjhSch0gpBZidBoHwKy/u5i7wnucgOkpoEHP\n",
       "C5Glh4GnFcc6nY/HZJtEynCCl3DQaZ1NUmfO2ridE4TsVd7264jnsU4jdeAasL24jJMbqirMxrC6\n",
       "OrD3kNkhRpTSspmKDXkdsJcCcal/t3YNCJMJcNd2Ua6+aMYk/tVoLLt1u0G19I2tPafw7YuYuN6e\n",
       "7tE6P3gXEbHhWzJgJfMJ6Spm9q3UnxUww5gvqM734NH48y9XpT6MTJs0JO1rC8VINcfpSvwQfnjI\n",
       "DzCifJ73N9r2qNtA/cFmZA+bB6K3UyalXFUrcmAG8pmgDaAV3GvjgXj7PXb+6/ULuOjDv5EMkigW\n",
       "EVQt9k8EyQQB4ySgg4a4D8IKwVjKKgFf0TF3bRQCqS9yCvmsOckedtpdTs6puiMuEX5ObT7MxSqB\n",
       "K4XDGTKdCSVfgKbJZlXqtSLcNIv6gW/hT2kZFEbI8USYZAMWohnBaIXgoXce2niuSc+n6eZX9y8z\n",
       "nlScgYSdAkMjnmQgxt3wVMC3rc/zYsu3Pl5e3ATS36IMFn1G1sBJDRMJcw5wCn5hY58EI2QdUTcE\n",
       "DKbTAzFyu5IVF3GZceoeGoLQ0X9Fy024r6YukKtMvWT6MwgfRrEIl3rlexCR9mFOzBp1X7e9cvh8\n",
       "3o/FYemohsoeGtx8oysUu+/KoZFI2nlbm+nUBiDfyHzLQyQrd4jEatHMvwtHxQ+I0MpQ16UEpFHN\n",
       "HXBF4Oo6wG2mYeyViFoe0CXmQEI7IxH39n9cUq+lWbODGMUuXl05P3EKXy2deSXCoqn77gyZmfEC\n",
       "Dk4C554BsUogXriohXypQhFMA+TOdDCB+C+xDa8d46kFL1qJWJlf+wzXMI3VgU24TTKJ37oa6ZWc\n",
       "+m01r6BDf2WodIlNnMotiTaC+Hb+zIe1q38y7ml4DoKw0wnOPJvW4LuNwrvr26xJa/WFNe3/D1pd\n",
       "aGtkdrehqgGVzhZE+eE9gI3Sm7gShycP115Oz8L7x2poYcP3a5OVaYaa3fNrzKb6L6giCu0wuF11\n",
       "T2KPjsYVXrXfejc0aJz7nT6Q22v+YebvJ9l+EVCQDqH1ALSi+7FvHJPcgfyPmB2TzVsPR+o0j0Mo\n",
       "5VYQ7Q+yLx4MG07/b3bHM5iLTz1g399AG5nRUQ9M3dc4UQhPbpyRn5n6yHWcK+XLH2QZT6rOveKZ\n",
       "+O1JGjWMyL/98bmurYmrBq6ntSRd8rhX6Rs6apU0rjTUGQxDdS4fvjisIUhMqsho66WffeqJefGy\n",
       "YURbvyWiMlU40taqgvL+Fq3Y0MarlQtdAudbLJ8nooLG6snOQ1fYR23osiakJn2qTH/kWHIsfCV9\n",
       "6SESYQ7BBPIek3JFHk4dQM5ge/G7IcD8k055bNuU1nK6ZG/5tdDxdhQ2Ge/VG5/IaeHUmCnU9eyB\n",
       "eQwBbkUz9mNQhKmDENgT4aJywiIsKwRiPQOUHQQGejRLEjEVeH+HzbR1uVU97VV+lCilHbKiEs4D\n",
       "l4PlfrYwb7oD83S6SWL0zXCf65MNvuzPwPE+Qfd8mmwlCj1mDzSQ4MIxWSeOQmxFuCniquI+qFuo\n",
       "fUL28crvdbDXnE+kgtSWgvGzzaiINPrmWA4J3+yPK/GBqHpcpF0CNb/un4iwFet3hyObtZlW+Gp8\n",
       "jFSPhsB3Ptoh5BL9xhQxERZo9UBwZgCHTRl2tfSPaaLeFcErWcyKEGphcTDXXfKq+PgOYGMs3NKk\n",
       "uk2k1roAbiIanFLXZS2Nb+AVef2oviqIaVK8Vvnh4ycoBvU3K6Uya0q4nzQj58aaVVv8Ub/ZxH4A\n",
       "fC/4gWi5+AQ1vC7iJoZZMGvIhz/taU/LCaPqBrL8Je2u5NRX91ljWD54AL5J8bNKyHQx48bWYd3h\n",
       "jxL+fXkZIMkf6gaihZ5nQ9qpvwCtq5SQmx/ouuvS/nAVF7y+56i8h5w2HUxPXWBapyKvOnjRSXJb\n",
       "B+0dqCLCRTLHglIQcWF1Yd6QbUSTq1pWIhHagArlkxJNbhfgKhmsozoNjAzj5jFZKT9sLgnBllaJ\n",
       "7aRArBkijVejzth10v2ce0PrV/dLrvURz7MmH56yd4sudxwhUp5g2fyh2CCaI16UFXn7kHSPNkvA\n",
       "CMXvtuz2YQ6IbZOpdt7Bj5Srz/Bvq4WDqgZwncxNdQOi7VGyxiiH9Wa+icgGO3r2yzX794s9gmUs\n",
       "GS873TY+TMWBDIK5Mr8H+75LzJQl1gBfURfA4o51Pwe+IEPmwlVl62VzNxzRnA06K57eaFGoQg9Q\n",
       "6jaESzO+AYNdXz2nM8zFDDGiGs/0c1ZywvXVe5CFlrNS0ma93UF9WEOvY3k88mF4ffQuZmd3IVpl\n",
       "vTE6Wu9L+9okYcsEq0kBxQ/gYX1nmweQgWznJqKH30fFNd/0reRlicl7Oo9yekYpjeXPUok5xgqG\n",
       "qsq40m6ifdBb67lR13Qm6iTaLczX30nIKrisYfnfpSybS2km/33c57/GJEGnZ2STTCBVsiHo+/ps\n",
       "36sk+0hXGL2QRMgQQRuFEpEi5QXz1kms8Kpp42m7Fft5SYw6VSs7qdpaCuvoOJIBWeNkAGGPFr9r\n",
       "Nod0YiIHeYwaDzqIbnbdQJkbG43K3+yn2oTf4R/iELT/T0PeraqPFWewbGjoswChzCNWYyFiLqcL\n",
       "l1S6OT6U3h/OaOuHwx7p5RbkPv6BB0PVlFb1vCdrTgho+maAzy6f/DEyyqlMo5cgLX/e61qzTu6d\n",
       "oggowz16CVr1nA0wcy7y60oMfx3JzD4GJExdpzX24zFtDlte/oy2/AaGkj6j7cB44SZHD+Nq2isj\n",
       "eah6G6ekc6iJn0E0yc79YJkPDB7kurIiJqq/HxwuKZeQJRlVqndHHHY/OrBAryqU8+E4hZw0oQNW\n",
       "7AX3CUvdUFlEjNPhIKIfKdI2pkYaRZl47q01oyIX3kxyRJTile42GqRMFDlP1mxzid1DxI5mzqoH\n",
       "ip6rgL07/Qf9/E/3o2ebAUThki+1MxB6lFMpHjle4jbKPGLxHKoYNTaRZdwO6FKRL3z6JA7AQ19l\n",
       "S8c/vRnkIaRbxv8/TcMn+K/421suODsVy/UlKFwxYCIvw9/wskNa2lpTiB46BfnxNvWSPYLAggTA\n",
       "H2jpjSS1ObxiadVdNVygFjb2MRQMZvEAo/L5gHBnxrYPrWmLO/lqJrCGI3I1Oe+Z8h1q2rXuFO2t\n",
       "GdUXQ0tzI1fF4Rgi5hsIgtm5yNWV9aJH12w5koOSMCRHNZPGZRnbrZwv2J5YoOn4HEoiY1QKWoNM\n",
       "Y5sXQtX28syoKhPFsmuVdN6QGw+V7BTWWyqwpujV88Vk161SOzhbvM/Crh16xqrtQdoyHQjNJP+G\n",
       "3G+VLCtE/jY1aGDYRjxLPGOpe8OkoFxcgx9Nx2NtoVSuBtuTjOkJFu8qlwJ+jbQktuiJ9zIE+/EX\n",
       "+go6nwnPBlwfOePWSBSQTmvkVTnpGL0p8qlZSz+7mzRURrDatUOIqVezs5kAy/EMjyFxv+JADFCb\n",
       "keJsSQbObmglDlcNnYRG7xsyYbKky0NXyA8C2cBvxuIjI6NtUK7YpGaVZQRLTtvx7IS2Eim5Qj12\n",
       "ymausvA7Um2xn0lRi5X6RODG8UHXo+mr44029EaIQDJcP/4QBwzcYr5Ut4n3DqKBpMimEtUflzWV\n",
       "3WCmSReuZBTvv3v3jHTcBSN/kf5v0oT/5ZrSYs/LxzhMQFXVO6GADgE/6vKd3clf4UphsuX32lqU\n",
       "Orgnd0T3+bB+t8dO3wfLGExtOJ/WMKFeCPAcPIfoNV2IbUwkugrC/3lTN0H9oF/E8XtzoWPGSBD+\n",
       "tNjCelkWEpgbkr9KtxJsiBMwIXNQZrl+0I60oya/amqNR6DAv8hMC92c8UPpJw0wMHTf6BRIx0M6\n",
       "SdSeb2rupbbkXLs6DGClBLtas3F7cBNBAfUi5bZ2vk9xvI2zOifgzz0H7A+MngaiRUjeTRYoiJwU\n",
       "p6Ugqatw09DEQGQZiMemVw7mlw4mtcd0MZuK0xn15DHmWuw+xM6ggggUCiJmm5untPnGpQubIfqk\n",
       "n2WJPLySP8pwW8FmYf7UV3GAiXv9ZrujSRXmx1ptxkjBHGXDt7BYp2ZRQD29gFhs3TKcLgxket6Z\n",
       "6PnzKlptBdo4DGuZFXMDhEAQdatTrehfPUb+hlXcFgSfagFVU9bYUTQD6bUd2vsD3aTBZQQkvyWp\n",
       "s4lrdWGui9Kn0wghM+PzMot4cqwp390zfnuO74/lKY/7FGJXbTRs6kdg4tKMXQAD4fXwzeG96EGP\n",
       "tCWXqYfOoHPC3GZ4kVuLRlGRpOxJD+/wMgSl1wFgf8uciL82w2ZxP6+fOWB0/vZmU5z9ZZBKCWwT\n",
       "Q2/wwVLNvpeeyaGrXG3cNjGAAAA8IQAAEXBBmmRJ4Q8mUwU8E//+tSqAAAAIQhKARyEAEwDKEFgs\n",
       "wI/QTuSrRAsKo5L8s3f4duQP7llpslKjhKur7hg7xIEWvr4LnMEbAm6mqTH8FqRxTUCcKciFuk9D\n",
       "hgM0LiOEh6K4ghwxO6sIWXgOoxvDZ0p7dCX27MukMY2rjgUy2v87ZqQt2mGYvWne072FW1dv+qUC\n",
       "qY09ohDAiza4eqqYQkwNEsBiy2wSamYnS4J4fvTT4RtOU2D0mZWBYOuZ2G0zrO+QCEtnShgX7xEJ\n",
       "5ifQk6OW7KQqTbE1USG8KEz4tkA+eAXwFe3wlu19SjPbvKKM9cCAtmAH0+zz6t+1JPSdfAqKAhW9\n",
       "qGHUYnZE2iJH4tespL1DV9I6sRxrnZABgNG/XZXCMuUOzJS6qBOJSHJlh5y6qdaTWtUOh8z/vrM9\n",
       "qAZcYQ0igZVw92HlZLycB26TJ0xaQMmKg0ixAEjjTVJErAuA8x/NZez+s/b96MC6mC5Aykx4YfBC\n",
       "h1sBndNb+7Qn5RPd7yZ0HPG5yqhKvJdLFtFZnQRTzbzcDvM5h1Cgs28AlJoR8kntQmCayTZjYEE7\n",
       "s0Va6BSKG1PcMI8l8go0FJ9R7Osjoc0Xd3qHWFl7Hsoos7zTZPaRzmah17WRtcJbsDP1OU79IIDB\n",
       "IWSJ4sZLcnyHPypIdsbPs532QiOO4mfwH6+XdTAga2NYn441uhgSWyl0PTL6/+bEVd1OQ6C9X4nZ\n",
       "ra469CZMoL4MhV01C+uQ99+X0dSw4uHAlrGi6mQiyOMaYm+GvAYooXer5IY+AmrKq2QQbiggQ6Db\n",
       "knzyxxI2Mo/rtui5dno0vHSnEoOZD+byfeniP4LJ5ByFO0gkKb8bbsgFz+FF1oBVf2v44sstzuC2\n",
       "+7iLw57IoapkwJRJIHBEnMYdW42O39kv9GFjBFwtK6VJ42+d/cXZ8AmeEtB1oOd92Xo9Dxty8CKv\n",
       "0Be1OIWYX/p1VP4LSkaE3jTMhq+JCYfSPeoktHWl/vLdt6JnBtNIUgaZZ84RPO/Z/KnPka0gWT5x\n",
       "qpjakk57b0AqjncY2r/3n/gbwcPxbRmAQLDzIVW3BsXhDc11fyJxsbYB0uLR8Vd1tmeDwpNT+3+8\n",
       "xk2iW37sPQXcNWyRwetAVT0+cil9gCp4k32MfgRbvaYE/wDd4irJTQ833KWd49njuZ/N/MyBg12h\n",
       "Al1LVxu1Fj9wYf/30exbyHYF7r1wU1kAY1Vngotxs/j3vi7DFAMiG/dGBwl09PcTO83l+Gpvp4sO\n",
       "/27CFbt9jaIWLgZRnzJfO8Rcx3pQKrJ3V4Nr1BuGRNwrXidZYtkTi6ZhBaC9aKKJD0+05Z5CCqNt\n",
       "ADuPvz2AhdjT5fxi9m5nFuFsedqbSH0OPvlxUWAV1f5UmCPJVBiu912qPLOHdOzA/1K50UkElAKi\n",
       "bh45kRvtAT1YmiuKFFRiGmhXGbyc802U0s0sJKIDlq2SidR1HEcRLeeOWsK7b0R8wdwf2KhVp9nS\n",
       "3JIitQGiSOko55+iFziD+py93/576sH2KxB2PoYd0pWLIg0BcquLTjlEx0j15zOUel1j0vaEmBDE\n",
       "MBVRUUPJP1aYssDy6SAIBPX1tFlmMCf9eF0ru2JBArGch6Gt1VmCLLJXqHda7M2UVlWY+Fkna9/a\n",
       "Wz6f5Zw6H4zmSYoOxZXyK23RtgARiUhtDwVSfO6m2XSUFOVb/G3P2WrP95YmVT9ja2rOuB6aBYhp\n",
       "6aN8/BRHXIlhK+vD9VYBYYZIzXymluEoOy3fscN7tPC/kWuK9tjaEkwGhXW/trIhQHLPrDW+AfX6\n",
       "5sQf6qgWVwPgDwHS20Antupr5YedeWJMvm+n8zqzbMVuxoI8DCxCHYEP7Q1RZ/0S71JIiKa+auQv\n",
       "WMZfiOoyTQR4YaCPiH0q/j4VpahUogK7pL0u6oRjnAcg2G8+pgMWJIaWczDD0IgbJgkPTR5E3Ghg\n",
       "zi+A69QoyTp0CaW1junNykOv/ElefdQx0dLzNHt/gDzZD4iv9G4CfKA2K2lZlDQyjLLJSxLc3xgA\n",
       "50ENG067BQFj8jxtA1SI7yQX9Ke4MVg+yOEye0t/hRVvytkGBX+B2i4LuZmbchArCrIe3BdgZtsB\n",
       "cmkYdENYP4H0HWd5xJtP4RnHKqonvRcjlc+gIFocTJRhDxc6Y/kBfU4cRsuWrZxi2tOLSrZVsEhi\n",
       "+gF27ghkcVaSqYA6NBHBLuCWsW5rf9IBQfpXynE19O3Nv4SSa621j5Dyzo9dKMDYA2Mw06Ay1Pdf\n",
       "AsbtiQqlVXqMnkIt+ZY4EudG/9uSQwx5XhfBSo7/SO5uiEsIFrb+KWM6RsCzUeEGs+Ol+Zt+gXQZ\n",
       "BWLVUhaqTjh5ON3OX+9//qmpH+DAfTzA7AaTWkpwjni3BECvfERqI8Ysumx/PYY7JjMmlGrgNYYd\n",
       "kMFVZc5sekXzpPnKH9uWHBBHzapGgmV7daI054H2HV9WX5rvyj0VzyX99y5SVpNEYoluYskePiYL\n",
       "FFdi0OMyg0IkEJw5PdMiKXnDniq18u4f346Bvejsrm9aofD0d9MigQ0XQRY+obFP99A8mxIpD5h4\n",
       "29yFar/KqgWXxD1mt9WjdeaXWLoLIBW4/iHefCNJ5Zo8dhEH/+2AoJ5hjXtAQBbseTjTx2tB6hqT\n",
       "5rZkmfR8Wlw8w7BPo4PK9BVk/L/zaorj8HOCH3RKahkJncVdrUf2/ValgCoLtxkgTDrMPlWirQj4\n",
       "/afhg4KsSOo3qp3pH5xXCBL1+oym5edG3uCOml89WnrQgU0Temxv/dIHm9ckHNDdvHRodloeQf8h\n",
       "c+aKoamaEHksHBkmf41QAdyvUyI7Md3El/0v3O2iq60QuYRgt65BOlZoNqDzpEmeJqUJeLMRXxUs\n",
       "XbLU+kf1/NfZR6chqKv9owEwDSst1P5ZXNJT/f1fF5LBCK/YGKy4NoEuw1Esu9h5/ffqyEDRQFeP\n",
       "QH3xWd7o9XuzjKSD/6VcWS3HNAN/rEPHHpdnek1zZYOmwQkEmF84pBbPAiG5qPC5Qfp/YfyHBJ4K\n",
       "Fy5ocqG8oHyXLVDvZ0PN5mbVgcBBVFXLotcEi2gQp6d06lnjXtdLOxFCkfl0hIxePhs2EWG+gY/N\n",
       "SrPwYPMm2WjySiFyFYti0P2JnTYIFIifaD9LR1qO220GBt4wVV1wXD9yI2MzKvcTzveo9XzbZLnf\n",
       "G6rmnV94dJtsdLmAN6tnRpTTAsdJes9HjQBwGTly5kD7GwqaXUYw8z+mvToJ5EPYkEam5jZ37zx9\n",
       "xz4btaSWiywmQW4IO5RJN+0mOgw69Xizn6Bwb1gQvnd+4aBS50lQEAJe2aIVJ6iwuM2G5B+kSX5y\n",
       "sAYYvjzrrUasiGJE03uKJUMmjgo8vJJrFk8rz7SvGXYTIruMRdfzLiqR+dykx7Sh8weyGq7dnKn3\n",
       "gkzfDkddOnBSANNuLy8NsWFu7f0XFLY5c+C1xTIJOu0ZdTBgDIdtM1+32reLzTSxlTLbA9tDQlqO\n",
       "rOhpU/Ek3JbNHvSoX9UsPV7RxLKlsfD5/P/sIX9/y4+0pVZ38vJcGj1xkWj6X8FzCNBV5ZJNfWAe\n",
       "nOWOMZx+xxHCunRTYHVQLZsMxXmRyDj8ESWcaviLKfvOp79+REUyC0KQ6DSh4YZrGLhwrV/1NNhY\n",
       "ecZ3SsPBdKcMtqsL77jXwx+5LaiQTFvbI3w4k/54xl7Uo5L9jGqhTUhzrkc7q+8E1VzVhFjnSdv4\n",
       "P3X3X369kve/cHPvvDA9qnC5V9FiY3g/Lwbxnvw9DoKDXy6MH6NqboXnQUcBZhWwwgFT+G184fTb\n",
       "wIkaH7uq7Ugg4Tkua4i1MMsQikeV/+/MqlBJKb/1Ottudgnry5od/dY5/iR1rwHhPfEYrkMXrmLx\n",
       "CYHZl8Sqk9JD2Z0Y3E910U1iTysm7S32xMyn5R9uIryavKM6LBY/ThE6fM/sGtwc2yO0vqSH/Do0\n",
       "EMv1Z8uuDd2VO014gJApvU5tOPs98DJb9XATBII/+v4VpC7PySxi9DK69wJC6MzZzY5hoYqdBez/\n",
       "JxJ94snmbNnfD36wTEtaaPPKZfhps96NB4YsuSBuUrdVdUahZiPg03DHMCKTgTOQ7ofVi1Iu7EOW\n",
       "P635CF/J5k/agz5WxeIeNESrbZug8tTyerrbYK3PuA24hrGHK13RMnvQpHto2ILlhtzlh+fY9is4\n",
       "ILVfM/Pk4rLzBPnfrmPqGB7a1HGDexnHMIXJenamnI2gZFchQ5kTRwFatUSmbTFrzdK+jrR5NNix\n",
       "q+5/onxGS2382sX87U0c/Q2fyTRvoJGM6wj+VTXBY0hMpnGbTaw/lr8hmxy7SmlXr99b1YnKzAOr\n",
       "/GqGeDDpypddpBzHJKHgjgGAb+U9QbsQjbheG8NBhHN+RFIEZmxrMe7qMwMWvP/bFAblvx7/kSDh\n",
       "F2fwvN+zlw3Wau++1oN3POKBN9RpiOiJbwjCyBeRKcpkJUE7MG4sBd5CuC8RPp/G1C8QXDnIX3Sh\n",
       "1kQ7cd9H/dca80SySjmJn1cQyldlNxnU2SrgVo4Oc9XYOwLpdeszErl6Qu61nQsmIu5ueS1AAUKV\n",
       "V3EoNrA9Cu7uXYYhISLLaVXP6pN1hSyJOB3z2UTdvKmVWEdt5rBQP1xIrgr37wLlLGnnYToL0SV/\n",
       "Yf2f8DnMHaiGKudoOe7IRMkbItgPjXWPynkbO2RrQKrPbnnfBXzfaFrR2xt22L1oJzdD9cPVE5Wo\n",
       "mieu3Ohbhqo5/vUZfLho/pZ5u1yGvYtCumEvLwcnSVQirzzZGkyH8PhVUid90vvyCh2+A18C+YQb\n",
       "DHc/bXbIx6OtjT+Q16QEl4E97xFZQBJcmHUFcx7JuLpzOwbrimiYZhlLTSDuXHnZviKBVn9mDN5z\n",
       "xS9H8XYBETD23N1baVqdCK3MO0AeSzf9jCA3zhpqNAEKBXM+4VYQGXPVbv4D8REOGPzCAGCWlDo3\n",
       "Y6rRfs8DNWVaNbhw560fIl3E7LTOg+1XLvp8LLQul2zE42zFwOTWVpxwa+YAYTwMhAZI+KI/ehIl\n",
       "AAEVCWeGhiYmSTtxV/mEnCp5Gl8EXzGQTswl3+9FVc13GVgd2/7xh7YVIKkNVHANQDVlWMikLwgv\n",
       "DrzPpwDMeNcLTaUl1uDaBOwo9cPaS3xrgSTDHrmK/l01Hq+SWH//wv+2YX0wZsVYblQEUvWQkIxM\n",
       "5z3oWnGGiTk2oviRfA3eLY6Ix746nd3cwpB14T9yxBUd+nUq1ZpoNzh5pepOFrHQIrS0XX02VSmW\n",
       "ab+xU/BJekSzB0HTlUeUdnuzt74V3/PhetRSKkC9NQyvZkFmlmM0+q7yk+VaFRM+W3SYZoO4edLU\n",
       "YZmig2mgghfw1mGVS1byuH648qeDr8LsgEqkuTkaVqc7MmKdQ8Q7jzDBLuqGW+qW9D+h7YQTyD4b\n",
       "pJqetzvMw7KzejA6gFm+tul1bJ1W33zhDlvcsSU2Laeo03rDz/bmTcQflX6vMND96ng02AAFSiqs\n",
       "9G/6MZjR64tkWpHCFtyMYjmAIbG9V6QmZyukdYVssWrRynBGLOAIW47J2d7vmOr0zRk1c9iBLrXD\n",
       "fGVHrutDAIVGxGPambo8VUhGLFEXvbVjoKTMEqTf3uQ72LMjAVcetHgm1EWhD+rtNjaHtCI3ibjO\n",
       "fAnWVSjukz/37omfywAdc+fvp+E6m+M2oeMuzIs7Y1qpv+snKpu4y41Yghjnqeje/tj/ez/U/3Jm\n",
       "vAp5Ga6LO9CD12wQvPyZTJpAFkLNdKbg6mrWsG1du2+HdrTiVjvDahqq/XZ10SzYXgnqjkEfByWw\n",
       "+0qyeh/eDp73HlYutzKMax4vKAHeBCfXMxtrBCnAEa/dr5T7DCr3fK7EnEE0Vv+jh4Quxcd4R6d0\n",
       "oONqSjPLR0pMu2upyOgJmNMneFuFTgkG+2rby8do8bycwQUcXgumRDWG2ry/0KtEhhLuaVedxvgM\n",
       "uzyqdvVaE/DjDbHlbeXkStFJMZQegvHARxgPPnL5Bftx3QBRO8VQcAAAEnAAAANzAZ6DakP/AAAD\n",
       "AGH9/I2iXDjLGVCqBMHoLIIn/+nZABpgAZ2gHuwNrIh4tiAnRkJUG+Ah+H1gZqJhRD1Qlb+j/iAE\n",
       "juu4nJBqA+As/M0mKha0I8g/70Mf/880kGhMj3he16o9vkjjVisZOIgadB+bA2gMJOjbW+RC6vF4\n",
       "Vw2rj5twC8grY6Y5CyKKZj1hidnOhFLY1/U86y9ETlHBQUhCZ69qgYlqQqEoIOmU0558CcoXqaK3\n",
       "sz0b+KLq20ycZXUwu7+7azykEvPptBV+f9KcXxUA3Exc4UcNSiJQJW7Bwo0oEjq5G/3Yyp6n69Dv\n",
       "re1qD4WfeMFDGo89a8z+cRlt/8lv5yutTJnY24gNpkyp8ic3XxjXpqHD8GV9N3UVmhUW3Niq4PqQ\n",
       "fa3C3dL7UYjV4cYTw7U5+k5X/1jVfBjmuxYFFlaSHJTUq8S6kGBq6FUR6rQDxm6NjAy4BqrvRtff\n",
       "G0U5hrtFr8zeZSi2nz16QeNXp0Iwn9DVpKQ8VuAfbzu6OUJJTEb3VrLfXyMINYeHt5MgyFzxOFSz\n",
       "CbWxv2Zsshm3RyJmL1e5cMVDOg8BBDYsap5GTsnYUXDL7KnR9pzYkkde78EVHo1AKOFyUSVlvp6j\n",
       "H0xeRJjdaDak9+tZC6oKyafzjYxH16qYx3K1638TaeOebiEtRhURKsNR9Q3mVotQQHeMEeDkGaxn\n",
       "yCPUwIAUVL4jldUvVY2dYkxKu+m8hrkfwzW4rH1913Mw7ghhOwreHROiVM7Sse59V4kJxQmAc8rD\n",
       "2Lm3gSX9+9AIiKy9h0HY7yxVrpZP2vNbSx25mtGQQy3urDWjTfJdGRnkQY4yFQriYjIb52SLuFDZ\n",
       "ry99fasKINfh4ENDl2UlhVvltsXxSMmwSR7wgYr8nu6E/BIGTRg9vIWw/NBMlZMWWAL6G9Xqd8GA\n",
       "YabsrhbEmJM4ywr/Eip+Kz1S0LHGmAuJ7gbMuEPwPz6zLEdDr1RxqtSQPEb4HuXiHFedJJylY7FB\n",
       "Rp7tFaK0wmx/C4wtCrhQ0DJp/Ks0h41TUvkZtiHgOLan7ipzeX+wJnoyNt0STg/RIsg3mMBl/eps\n",
       "UdDkZRP/yUeyl2QqCYEuXkvbbp9AVtvEIoxkFz8HgSDaeBSk4YTZcOpKO0ZjMqdIstyfkGwQkvPk\n",
       "C40h8uBHoSSgEpUUTWwAAAMBNwAADWBBmoZJ4Q8mUwU8E//+tSqAAAAGMrH1bfmagBJfHzS12f0p\n",
       "HdpjW8FZcgbJh355SXUn8GRpGXZxYSSwUD+PTjoO39LlPv5q607QijcgJunFIloYYLN/GGuLRAxT\n",
       "P+WHDRrA1lzXj/lg/vIpWH98cyCp+WQzzKU+YqenANat54v9FakQTjVWXEPlYVDGHf1Pyt923KtX\n",
       "SMHzQphIPg7Z8+ZQuLz0hfzV4C3huCsCWImz/lnXpegxrnFstW89y+L9j+fiKwkIr5w8DSPM1fq8\n",
       "1+WJqDpsi/+Wocv1fBewWAijV6nXyE8GWDkEZR0j+iodnHa1GNhi+EQrBwm0mwdlHv/e5qQUGXoA\n",
       "Hc1d0rgwBP/0ZPpntu0O+/yJ+4RJ8oUQVqamWkfsHAHB4gfNr5QZhJbGL4Jw+Yp9HFfTkjOzZtvj\n",
       "JdgzMmUMkNkDm4iS1djwLfdJPJlKa5kf9AnyMXYXSUZ6KD8Kq3nm3WOtWzMnZxRLwYu3UgCWLrKD\n",
       "1ZUEC9wJzCaclZGUZwo7u9zUBDtT6ioihqFLOStgaKDyyWdvlkqqCgRlUlGjAzGIphC2Z2av/erk\n",
       "CW5eMp2lb2t/D6sOWDafl3/YZanh08Xhf/jGRF+b4tfWdMxHva/ejD1ZtBOkw35B/gFNns15sl4N\n",
       "OUNmfa/2ZlI1xZEhV2rgg2+ACxGAcWqpbsAr+V1iwdlvBcTAPkwO92t52jSWJX81GOnDxJ47GoYt\n",
       "plVv8YdCHDmuOb8jTqjAubCjBX6FmJdQwbbXyjwSs8Zbesq7Ng4SVX9V7atbeQYC068MLsngAwAa\n",
       "hMyixCDvpHmR5wn5yDkWcGqV/Vnitio+NX77YzsNzbxv9vNHpyDgdFCuF30ToUQEWjwxch1xdhgL\n",
       "O2FTfXckgkBhuXaVHZJWn5a1EWTvd7N+iVV47xyl5xbIFahJijD2tjGaMJ4G/itdw9XPMzkgyUE+\n",
       "FiBeDwdN812V7AJ39S3MSrWVK/uZBeaEoluq4j00ojjj1sw3K/ScHXPeZV4334qL08FSG1+WNMoI\n",
       "KYyEJXsfnb9bxVoGicOuq/bFYE8g0MbUWTuLMUBa5r438Z4jTpNZ/hTOpSQVTFQsy0EUsBdiMKgK\n",
       "MH965HlTJWfWRrO7PV3sW0LUB9S8KuJscVzTb1hKR2qG1iGU/9t1QgQHCR8V0yb0qAAt3W39opo0\n",
       "5R/7YiOuRFDEiSI8fQzrm3BRDd2SaWS+HyceAFv884Le2SGdwor0Ln6m3XYo01RQ9A2X6IV9a2dh\n",
       "VK9ovweY/GmcX2xs7VCkhuqCOj3qZs4S95o8b+1cM3/x3//K9cVO2oFL0rcvljI0xE6h5+6zjebF\n",
       "8cb8bNr/nu3PLRTxViu50yX3IL5kNbOKea2kzusVmjVNgnu6dkQeRdQQRBW0BADaIiNevog4eHkL\n",
       "VnBIoW/0EAJwibtp/siYW/11VIffavEZwsOdnnaqTMGianTND1xTJFaFn3sSLyeTD/Rab3mmQVv2\n",
       "szL3a4Q4TCvr+CVR/A5d7yk0LkdzzLycDyY4xPEN79AK8X39P1r0A2i1KBKk7BCCUeYPRdllD38u\n",
       "QaF1auTmalPWyHrePhybOmargV3/PgrHdN7XnKlouvk9ZAFyeJaa9ygSOcLIMRQ2W1DqyS4QQ4lt\n",
       "4daKR4enaco3XbyWeFyLqqpa8q6BGxic8fHzPvAiRy29ivdIU8/g81cTRT0mSWinY7Xz0F+cQcxY\n",
       "NTMRqi9mjO0rYoWRyyVLZ9BhxP91dfpcTCCteC3TENUmG1CujeQyOFImU0TkJVzLAblLK4GhZy/n\n",
       "Cm9YPGQV6JS4Ja0B9cVG8ww0J6gFVyiuZNzHE7BdYWDAqRrVT3Lia3MbhYD7vPe5JO2cISTd8AGP\n",
       "bhmYk/izPigutu2/CWdrWdob13OiTq2ncjKXIaeayF6eXAC+a9tZnXJTQS5pg0y7/0SxiwNkmiJk\n",
       "j0txgoLwELW50eAvXUHhbOMyIMpbvaxybtbaUoA1y/S+RF1LTnJXoFWIydYIHrfGqVIzwRYGIQMc\n",
       "jlKPFL+RBYBjUWtXfk04sTZTxAhudL4W2DxCBUOPzKPytB1+34e1sG3W33CFDPdZlzkLVnCNF2L5\n",
       "rOhE9Wo9kKWZMBVvHfasyPkdXQSzN4TYE8Haezts34pLPBDe6wCFAY6SUhvTdMe7/6X/NYZbziF4\n",
       "NPFcWlNky8/tiRGQuGOuIuUgeKyGS7YsNaG8F5iV2CrQdKU5aHA+SCosUKFu9htIYRQuARIPtxF7\n",
       "+wA1cFGGfkRBs40/wJCBMbfP5R9YHWODw2BLT88EFkVCE0PAcIRQvc6zmtf67lmS8Nwnp6A8Mu7s\n",
       "c6jKqnhwz3lcdWAqspnKN5P7UiR/cD3LMTwvst2kZLXmQ1i0F7PAJJ1EJWd8UlRYkKCUKGKequuL\n",
       "DkAJHyhHjXBcap9/IWvJtNm9ZyD2x9S6g/JmA7DEHjhN1D36ynzpHuf7iMyfaGjVYQ89ix2tB85A\n",
       "oC7AEH77/dfyBybm4/M+zzP2Fea1xWuDfr1sMtw/li9dXv0Mr6ZQ4UgaHcpu5mY/67REXEK2YJO3\n",
       "MycJuFRmZ+LbJ2iJdmkIgZFQV1g6c12RlTyJSluDFfDXjO1jeT8OtZYI6hUSev29xTtF05OVPQ3A\n",
       "/dVAMBgElIQk4fChj8Ea4wq7WTCb0ig671UMSZjbaPSd/veNy6KLDAkIhPxedEprHR4b5dAAllzZ\n",
       "K6ct/PzfW/13i480bo8y+kxqOnR55Gwej9Zm/KjZehxoR4JhyxNbwuBlf1XPRl9OFKzP5P1rDbeT\n",
       "zsUhfnBX3h9WSyew+E4SOi0lMkp5bUJ8SoVt6AiAQ6PUPpp9KbCj1+y2fPCRs06qNDV4JxlQYNiT\n",
       "Vl2dpAFpfRF2jxIerOpYkH9m2BPheGORShmD3iLHnXggqGFvv6y6USyepgcfHOmsWd/R2h6+HFox\n",
       "evjum6Sw3mbvAuAaYIddlujvSf5YVJKxBykNYhOP0PGW+XW9A9ZwqZe8q6ZY/O1VTpe4RY4gyU3A\n",
       "hOvhpUvdFzHPX42y9p7YbO3SQZlzrFbdRI2AfCAuQo5YiinVO+pQPixB5mMZcqmdU/FchQaSBeht\n",
       "FPeQLrqTcX2lmyLAvzSz2oESukJDDxRzsqEprQwitPCIIpqbA8qIkziGu/fVVFpgfq2WkVd/nL/B\n",
       "3XptkF1d4Lr8KIMdsy82OpcGnojpsrW9iL6gVujTSp9V4O7CYBSloF3pPdv1QjF8rz2PtpILNLg6\n",
       "+T1gudlQ8LJN2K1Wmm/Ny/yJhtfG7k2cQxq0zVCw8xgix1qAkW7m0BEZGu0tw58fG+5mdzE8+1gK\n",
       "AJVyXdRvwmAzGzHbhw2azjiaXodqZHXib+WpIoW1hJ+v2SQUJLkGDqh4BIZhPgJJ/2r/lA/JCFkR\n",
       "4VaSiWGpE16T1x4v7+JZllAN+tM6STtla0yHtYubSl8b0jgf4EokX81PscQg6GfxHYEirp4B5R/g\n",
       "OJzHAlYTw4Y+9XyrairlYReiuubB6Nl3Mx5+2fRZTIkdbkR8+rJ+wPecFj7kbaMcoA/pevTiwt+o\n",
       "jiV5sOKttdtgEkUXf1tNkwk3KLHna0ic4/QwMqATWhIl1rGk3f6ZYLUILR2mmXG4ebnjHR2iaIyy\n",
       "veXkZCuHYcuyKY7DNyI8E2/iUKy7NheWrFF4Pu5VNlx8U6UUQrFJ++nXkWqf1KJeUz6W2GDIcfaw\n",
       "9+lk2O5/vh1EmXSEmX3W0RyQyJCSOj0zcqIeGXiPquLaWg0VpG9SmJQCPOHe696j+jbdFj64BCU4\n",
       "90B3KS8yZ08nwoqTyjg07sVf+pEqxcVitccSLevAL/IeNhxdzg49ybV989bwIHIbfsXPzPLFrARx\n",
       "qy+vjqf5ZEyWyBLIijYxuFufcMAor9bwU8l0LwVbo4mhvN4fBNHeiI3St6B+OQQZrBQ3K8Hcgvpf\n",
       "MSAqjrRJdoPXUsIsgzE7G+JtRsu7PyFu7MvjoZiZVTXaFIBK/V5bk5uC01fdZ4qpcvatNwtBOSFz\n",
       "j+WhKgv3Y9h/fx2Z/cu+eQcOQ04dlTpuGHstWIlSXErMlGywI6gU41DkI64zZS3y6rc23H3zJSu7\n",
       "HgxRhX3zc/UjgoqkS+q8YCA0uKabBkp6tYtGvJ+FpBgdY5Js3mCWln0QyQfVeiZusJaT8fuIdUHu\n",
       "TQPegTUB6slxoTDOx6c7p4TSO2/2QTD2YP9tdC6LuyZ/GB7LRDZg4gS9T0ArD/gxPJRPIFZ8pinh\n",
       "snsa+xrWBMiEzzWwa2ZKzHOBRlBTOpiGl1TzBbEH34Se3BOBVn3eQzmIVURLeX+bfqImhcOsA+LI\n",
       "eKX+qV5Lctr+9Wwg1XVDcI8tuSop7QTLLqLx+L0OvGVBrhdtgYF/J3cJ98kAVORFzXingAnsmfN9\n",
       "OfigK11plhmoMNVwI+HHVvmBd6gZisrj7SEGCFBePkm7BGu9KgaO7x9XxuQlg8K2Dr9HQ0mAej7J\n",
       "giFB7/yP1UleXXpZbxTMGv3y3DbYgU6FhHbB2AhAPvJIZnzXpnBBFdN9lQTpTEtapP+6y+TdNuZB\n",
       "DXLfLm/YBinRu2uDyo8/87vNCCwOh7CAAALvAAADNQGepWpD/wAAAwBh/fyGA89EJr5g/CaQl3qX\n",
       "LUUqnrqADTmPw7Bk/+O/WAKJkvwJHNI9PHSiCssPgbtrcCHo5C9i5NcaRiPVqEN1ARqDRlo6Sptr\n",
       "+DGpxJYLP457HaYN7Tkx/92BU6/vNvT9YcA/ecvRMlzvOw+eYxmzwfSujwud3natZ3nodjoPbCC+\n",
       "NRsdkU1RxoOfruq6oLZcoRHyUQ0IgTffqpn0PzbURkC3Dm9sghuOU+zilbyU8vBc+vl6V/9DwCEd\n",
       "x5loJEakbE0s2r9rsseGXPiUveTRZYnObp7yaNhSQo2JnFgSoy1ZFjuA792gBpxsigc3OT1dX0wA\n",
       "WwEr0CQGGFaCg/lTd+s/ME7+juZOlicPHkqKhKKOhkJY9VYiFdDlBKbupknriLCQyQrpwg6Mmgzf\n",
       "MbzsC2zV9D1MayHNcS2QCLS1aHPO2h9SOa+oz8EDFvimmqCockUj0mrM2WorP4q8ctq9lrHHlonx\n",
       "wYiVzxprKnKwmmp/lZz6k1OCahvSQt0iTwFBmGjiy24uLD7a4NlzvmSCYLNv42tLE4o40vIbWY2Z\n",
       "C1Fe3r/wor77HZW/cDG1o1WaNnFk+Y4E5JcspL0jUhTkCslwzDU3XxSxY17fKbkNad7iTwDhQ9WL\n",
       "46TGosSA5pQzX/7+H2M35TKLFoItU7+/v3IK0frMWJZFIT9x/rxhhMfU0GTtuEQk59tFKE/7OSM1\n",
       "AptXWct4rAQSwDHOUxYn1ec5hO8wWkIJ/v+s4+HEsBYjcO9T1JJCVZooxT1kY02VvBQLT97X25Hn\n",
       "BPqeTha8iRiOwzBOCzonGVhkZfndNTDECcsZ9mnbFRppSOaCxirAwlEKf3HvpM0WRmSwRovYqYn8\n",
       "F6YCK8r/q1Zedd3pmQ6oU2fqxLfLiNTH3hbXQYYbNbpSzfaZKNKyAJcdsBafoD0plOUnks0VO9Fj\n",
       "lHNtK/sSSc/y9iT3h+DzjiBfpLO4CeUVk4t7u7fCN89DX8wEVxb0J/4S8SiLXJfG2HM2wYn/mVFT\n",
       "iwkuYuwF070r4erESomtqqoxA4NDtH4Wi/4c1g1NeEypmhrmQ8NATV8FU1wZ+7gmhbeAAAJvAAAO\n",
       "H0GaqknhDyZTAgl//rUqgAAABqNdKABNdMVB5/nWlu4LrxvaUx477HBbhfvjCicCul3uO+ho9c1w\n",
       "zNxWBTak7ehNoQ6K8kad8dzAtuSIGyvdc6q7l9CBfLdVrWG8vmbtOz/BKzcFHo4Ya/q8LYRR0+3h\n",
       "D02MxnbrYE6xflIRbfpMFizWQd/xqKmnakfR7XzOOBCNRhJ3/8P7lOVN8aAR6OmVeIyuRXhBHKty\n",
       "Z8Y7g9455J8ZxIjzgPo83wOFDO1MnAWmkP9ngLd9nkFwwB6YNwl4WXj930cgRnANWSR5rcMKrr1Y\n",
       "bZjtyRTz4V0eHZuPHwd5qzFiV3U8xtK6943DHcNd7uFP5dve+ZZ5QkU3iuPif+nFLIfYL0GI9y9g\n",
       "+U62YcaYXpPP3lVe6bEn32Ehu99TgrcPOVHdT8q3NwSUc6ArHV0GvNjTtw3UKRL5o5ME6JBkGn8j\n",
       "xbrPrcSkFRK735gDgSgCO5rP1alSDVtxB2G8uSJV7iPJooaMXtJv0s4aI/Tllpw7U/hnS8hN38lL\n",
       "njGKhQMO1JiVCpEDZ9du/m845VmsOJ40ufn6WhFi1eGR3/nsmizjXTYXPHOHbXzHMKu8kAu6SRI4\n",
       "uRyzHW8/dJY2gkjLiO8V4FxMGneX1p48CSaAnHZv1znRmkIZxvzW9IQqP5AeZ7rRfk7eEZ7K73Kb\n",
       "Y/UhcV2iDz7liP06PMZx25jCQnOjr5vfCOv5qnsuiSa6VKXpmtnWDw7qPovEmY3fG7FnaUaPmP0u\n",
       "tWUP8SzrPUHcCbbXsOgBPMnPcDnQ3+zWu4DP0DN+teJdPSPgKNknk+n+rek5vDQMeej7dN2E8A0I\n",
       "1PuG8HxpVzuLiJjOpbxiwp2t6C1RnILWh+wNtxMldcMkHCYLgwkLj50UzoSfrKv5UDz0nfiOW32c\n",
       "fAx05h83QHCpxs3GkkTVkdLlfKCbr2rDEaTg/5nazSg8FEbNKTOjJZQBNaLqkpVPmrKLJBXXCNrE\n",
       "XYFfW1q8RAPMV4Re9MA4f7MXd4Nat7gZ0aaSNU8DAb4rotL49oZuiTmb3C+JMAz5yLsbiLL3dtEQ\n",
       "aTaxwveJregpbZo0kbkCPab+ZzqiMejpjz9aPQVvshpH2GmUJzg6B3AplvBpLkv/zKAmTBWW/1Hn\n",
       "U9eunmC2y1xbexCtGHg93/clr2bDvksQVqzrXtGdGlbk2oGL/SF0uGw6gdmdIhfqVTqMxLUik6CN\n",
       "SFlNoSJPHyzbSIxQNE/8E4dZKXoTaOdx9Kib9bzuseVr26BWcgATJR6pRPM4q1LZaw2iaSWDr6by\n",
       "WM3hjNeOTmXmZtThgV6Q/RAB7YV2GVZKm78OkkqZmY5M6D/T3WI51XCSH8vfN6gyriaVkT//5MoU\n",
       "1PAmtmB37A4wOEv5Y4wm0/NVYGGz+qi18/KVHuIar85LLz2ecaX61dj/wiKhY2eYQmxCVmGas6Ba\n",
       "mUtRG8kLACVJS1528QXFY+oXnAaeFN7Ta2DjB7nYRdUINYMxOFyfA25Xl55i39ySbHmWsZ3ltsa5\n",
       "u+xYp+tbCYijUsA64ABgc4JTe8nTFxdIG3nBYVyD9mSUln9dCFqOzljnZPWLeCN510/sihtc6xzV\n",
       "+2740sVdePWiIYbNxuOu+2hGeSdF/i26GiUpj+Mlh6K0TnhCGUF8ihDGwPQCKaPtktil6fK7np26\n",
       "OkVUQA6LcJQtccwNOwHoW5UqSqSlDQTbZMUB+ZdU2pkiBulJDYk0Ein7guKemZtvO3fDwDnLyFhH\n",
       "SY2MSjwIqezV/rlJCMqbod+GiWfYB7zbnip5WiROlkWFNbsMQRTzXIic7CJl70Zun6+zcYz4Kl0f\n",
       "8Rfh8omKy5vJb2HOKpqstqHreDPlEGDAednQd1vZqDdU9OAtud9lQw5MzdaCE58d77q3LT6JxsYr\n",
       "NOTmQoZLOq4h/ZY+nE+iQKEQWh9ndqx+r4V4thkQ//SMYMEQcklIvh8POAl+f5cRhblcH6E5UT8j\n",
       "yU7Mu0U24lpXtf/zSHI8BT7egfP+qUpVf2yM31Sfr3wtJeWkJh8Uv+uov4m6HGEe+wiDTewRQuTs\n",
       "6jcgeInCAhojUjsiM8PHt9UHV6Fe5Yt7Y8GDaYaH1YQkphmrIx2wIK13uDfPOhSmy4n75+eO539z\n",
       "IF+EK/mD3s3Xi9l36Iai9q5UvE57AA6lNby15pmxKb24AXRC2r++7D78BS0ZszymyLMlxS5M9rTj\n",
       "mNcQlizf8863Rfw5jXgQz1cT7OAcjTWMCWdejr1kqzZ6SrNy7lRiEfUG31PeG6JhWStbD/QkXx4d\n",
       "E6I0rvcKP4GAcrbzv/YY5X3DIgAkj5UQJmah7Y/E9heHX/uD2BvMDsNy/ylqWCAK8scH6pVQCeNh\n",
       "eh5ZmYAAkBdo5yckqXZBYHjF9xov6PY28Sean4hAAfFy2A2m5jtC1Sk3ccohZudb5qwxhL2LwuuU\n",
       "KZPEjtAutJN5pm4dkgCZgwQpyV0a+ASJaLLmiErLgJz+gbbVeRyIRwsS+rz78sfJy/9EWjMbp1dv\n",
       "P1GJIT1KG2j7tW8Nu/Vn6ieVlCA5fFwOjS096hrgwO+mNR8mMTqtHBaaiFVCwa4Yupg07vCKRV8X\n",
       "0gsbbZFXcZGm//l+eQkKxSUxcE71gZ0A54Z9ORn97DGO7NDOSRFe0sZIGY/vaDlfeUr2O/Ee+F0Z\n",
       "tGq7c49gmb93Zz+k5njGej0EQpMrLFn1snjBF4LyrDUo48E7z2OsOWlAKzaDiaab5ZSCG7ogTkHY\n",
       "vjlKvgBAIfSGHDoQJAEGw2RvTiXVA/+BZc2NHeIXCOhPs2KmeTMEhAV2O8pExLiRB4HQf4vpt1gn\n",
       "x/SqxMfJ1Ff1n3hCJaElWGSj5h2rW8baSHiqqd2IrYbGQE6H3Ng3LJPk30s1Hdpu8XN03mT8BVb/\n",
       "M/2mvxIgzNcmgN6sF6rn+bi2ZrcatAnCuN01BSAymUjzcxWCUlmd0nL+vgvYlGzi9ZYXB2//wu6D\n",
       "6PskC30b95aYkQbWlblBaQOYcOhgsLEXjK3XdBuPA0OSiTYGC2+RtNq3wxme0yDCj0Y5QSTvqgIL\n",
       "Bo6asR3K6i1mCCDFKuF1faba/xyciu99v20YlcVVSS+N+PMsTcT3U/tFV6tX9dQ/MYVTRVmc63NO\n",
       "FvkAMlUU3dhuRwJS8UWtOxbFg4bpMua+pKGx8V+WGJRq+T55L9GlZug3X2dtXWqMhOC0FbqOf3O8\n",
       "rEPlEXljnMxepiX5LUwXtKeMqvuSSvb0ODjlhDXqJgjYvHDTudsSUjZiJX/kW2oi5Xbw/SPmh4kv\n",
       "bE5tLfJSkaBbqyRf+tQi46vRXJaAy+m/lqKpN06oKU9VNVoUME7NF1uE2OPaTfXypr4vW3CDocfP\n",
       "G7fBZK+1D1HtZhYExlcyuZIkL7AgAvx/HiRw++BwsvkCkmOYSAkY5YQmjmYZYK9f/mk8U01AdouF\n",
       "t2mQPPKjVrBg7u2AzT5zcDftFqWDnTCX6NYE6zYYi7/d9cI1+Ce6b6/ygnwU+WGTzEboOZeRRltV\n",
       "Gkrh/Yj6RRNrhjzRdGS0KGH3XDtuik6GLIoy0mUWZZ8tt3x+l2RIOlIolGO/hrIPlDSwH9EgELag\n",
       "HJmUg3vmDDRs8UYgWgiKKbCcvlqOWgRZWiX9weTKQ+uWcKxzESwhBVHl4BdAnAjqu7+SQ5RpzSAz\n",
       "CbkLZTxEJANnfUYSVF3rn6XS37Sj5MqADVfUn1lDgOrtbOUKY/ZnBtLwfhHkhEkF45HETq3wAA4S\n",
       "OZ3SnM4QlwGGGJj5BsjVbjicXMdOzU6eMCNytX/gcd7iS5qHGlLvVS3tGL8ZJngBc8cNuhMl+0AU\n",
       "u4+OWKQ1eQ/nYxJyWHFmT1COQxNFxreyBDbcFnNP91i33lpUpv8oOGXu6xQzI5G9ZGifwzRc2f/p\n",
       "NTbkBNxK60uLtNMztkkbjMyWBzL/sAnXDTNBkOoFgCBsvVYqbMJz4Nbv47MKhM9Adx2tWP5/Mp5r\n",
       "DoHFyxZAl6jvRU/7S3bDuRXCqI+G3/Hc2AaG/0GYDLvfD57lMiezpu84fYcKBjB5twqtxmGTEnPC\n",
       "vrYFq2SkcVfa4DaJHfma+u6dxVWCSCMEgl0/EcNydiWoVJ39vwYUdxOBui074G5bWES2GWmQzNRr\n",
       "FQ/MvSFRpaBegPcrnDS9EfhYzN2CUKZL95uSqAtOQ2H9CpHB1ihh7aNZaO2ojWD7PWECJKfS5rMd\n",
       "DjF7APhWN8d0lmTlPAvLBCOIsNmEGvnqYm0ysfu9+hK/52HgFwiP5uqM2vXsPjhM1Rw9pZvqJoFn\n",
       "k/veJXbXRwEA1EuA9OhRbkUOoA1XZRjK6DmWT2NlxU21dtiNRaKZAggr+neWrN9DiWxvv+sfW02G\n",
       "VKJ/bmdzfWjK78jYNwiuN6BZtSIwf/JBCCn2e4hHm6SKXJW4y2kEs7IHE4FFNbvdzCMsgrDyhO4g\n",
       "ZsPeZsf+tNVbwVN1OgZ6jTSq3b5LvMlVLHV+B9AdQnJAR87+W/u+mZAiDooyWoaHw3LM9y0znmtY\n",
       "DZic9FOTi1taW+B1HU05+g3uOwJLmGFYKWZx1hb7zX4pEnF37V0dYtdkb5odqfVrlcnhdUVK2Mtu\n",
       "17SDSImzMjbnmHwoF3BnfRfB62V90k37xpu8M6xTdNAg/xAvs5zEfHQbXwXEL7QTQ2pTNHfCIGaZ\n",
       "LJY34LX+UQfkTrdieL+3gTUnEXxBLBu14ecUbN2tBgNtwJ5CEvM1QWcTiA+m/YKDUKUyhPqo+5uI\n",
       "bHa5N5xpWmVXwlYGeQcdjjqofWrz5gvENRdguIw89cg7zdxNLtSKsRHnwJV7yJCSkg1AlVzX2PNp\n",
       "RGiMJuoo2w04fWExdz5zTn6GQyipgAAEnQAABAFBnshFETwQ/wAAAwAsQ72L5f14tMKA8CHyLYF9\n",
       "SZAZAXaAOXuT/8Z7QrThpaop48QVqwhRgz3oD3L+0aBlUgRuTrBzDuN8vDPys+HOcK35x1nxZ1l6\n",
       "sBSRlu83N+RS4KPYF9/coMUgGn44461l4TAgrknHlDIeyySzvH2v4BAWLMwiKmSAtCSQxfOLaJxU\n",
       "myXdj0CRPdy5chcql9WNxTiPHTUV6H73OJG6/9oC+Ifqg6Id+M22n0NjH4u///mjMQlsfLqs5o6A\n",
       "v+XRMp/4kCa+CjQrTBsw6WxLox1n6TzJFgWm9KZ/mumkEEaoS0Wp7nXOOFoLnQC7l/BpvNx7JX+X\n",
       "whHyXvMyubP/ViRFrSaWNKwPAb0CwAwCoP2I1XVRvLngA/peyI02DR1h7HX0PsR+LC48ZIi45DjP\n",
       "sAHKbSsQ/gcDNgcO/L1VP5GOf/6KwJ9mR/nWWCr8CIw+Pu9p5bfbO3hMtKe9Jtk789+oVb28IPv9\n",
       "mC8lgo/hXLqCTlro2aE8/F/Uq2NvgPrFD7trLE/oBOGBit2Vr9pugOe+CM3S9/tZCjcW9quBa1ZH\n",
       "riE40HZ1OASzQlY6goOY0zSc5zoirRQ4LaYkNAEbR+IOjNnbShvAhELvgP6SSNE7nnsRM+yYT+s3\n",
       "NCNaHlQ1/9XU+vNauw75wSBRB2EAOrobwHrz4bQF5LRKwuTTOZs8qJixpR1gW9e0N/sRWW61eOZK\n",
       "/+pFvh6CRwNTj/j1kOEV0q+AWQzvSo90w1k5WOExtTOb5TZqf41XmRK+nxAoOb1NSWoBkDjRcZA9\n",
       "zyeOU/srt72oLPzRfRbMy9K5LiiFcoxHQUb8UUpPvCDW1Gn8njZbE0hHHbLzPQgpLlLg5xNNmBHx\n",
       "P5977qKhDd6C/7YYTgJ/8zcjIiDC6+Z2Zy+lpwVtXezZJkR++fVHmQrj7Y7Kdj/E8PHwhX8UwFOE\n",
       "WJeKTZOCci+89gpcpFiObMBPkxY5xE2KhsbniOVV73D78RTg4fgORnuyF0GtS+aO4SDyNnd8Ae5m\n",
       "ZpUE6nT38AS1nsLbmU0mo/ErEwKVPNsh5Sl2mBEwXSykC0GKSxTtiIdXeTFWk07lss4uK3FDQtJH\n",
       "NbTv/E46ee2IiVJ0oI79nrbH4Ym5OinlDlbeypKSRObHHht19gEqtux7B4hWep5JhAWMeHMs1eZB\n",
       "R7hHYwoVhqYCc6vRuShGWBrenAHw0TOEjHmlMaZcBdsUIQXWMeMAe3yN87CumnCdewVCV4zxOWoT\n",
       "Ft5ZDZ4UTQCwMHW6AB6KQ6vg9OK2xYKol15Dw+6z5YTRKU59f3W9RtI72fcycK3mquzm+Ed+DW2H\n",
       "uow+PwAwFczcQsOSPdCb3Gs4K8gnfQIlgAAOqAAAAtEBnud0Q/8AAAMAAhq5cSTeevFlEoyYjN5B\n",
       "ACYJe/GLdYg+F9BLqEEq+PPKVSlGa8nqp6ODaIm4rMcxw4M+bPWWhp25qVX7XU+svSz/as2mu7+V\n",
       "eh47ZJ7zJqrl8tvQPxsY8LD2p6LMfb44lbe/rUGocYtUfuqmDlne1pNDC9duxBCi5BlqDuyVMRmv\n",
       "GTo+xsSMqVXK5FPOanPzWhOOuQGWMLCeX2foqZ9kr8CdeVQDgBP+7Q4JpdYbT3qCyi6tGCWt/bdc\n",
       "RQhCjwBEnw443vfuwY3D71oD7CefcED9VdK1GHPz3i/nysfuUS4POsd2uJi6PDkjmL39x82hpqSb\n",
       "qOJqB1uB104Dh5CZoTlNsRUhxk4DgTTaG1LGVHbLdizH8dxrZTmPgg/OPn8W1K73YnT2n1ckr1Uo\n",
       "zYGzquow0SMZV95VCC9wglVCnOqtvMNBTbSk1xv8Vb34MDSnngDvOtlAsPJsZpfTC85Bfqra9eAA\n",
       "NBk+i2hhVaDUsl2KqPFkdHyqEZ+7ZCYikPc0WnwX3dBy+PoPtDjLhbEgZiBAMUXzXDIPILxTRIux\n",
       "QXUWHtdARGB7W9NcNtfQ6CeKf68iszt9j0xy6uUHPp3dlDaSV2e5vwAmlQmxnYIIBrpWauiHvLdI\n",
       "Gqd7FaxLk1zL2ZySaVnM/Goo/MQgCQtV283Bvv1xAm3brRgE3/sROSr9QocZE+jtfPHcdjCbEbow\n",
       "qFWa1rzDOh9/QSyQ5Azqq/V7oaw/K9X1f2t8BXk0zXjibkQSBE88swW+iv8yJH4G/d3MFRQ+w2CP\n",
       "2rPssHZ1akBNURNvAPFZbC911cUiA6li+1jHpyLhsbd9FrHMUgLlt5YXQQzxDOmKlJJnYsh1D7e5\n",
       "tUm6hDgHYjqk3+Ll+mSoW8H9YyyPULP43IO937V06Hl0bLaSGZMQKTRQ1M52+ik57KJ+e4bYyOaI\n",
       "466w3HJ5AAADAJuAAAACdAGe6WpD/wAAAwAR65aAD+hjcF/p/RbuNanXScYi+CHvCOtzNhtwK0OH\n",
       "QkV8QcCvw+rkV2zQ7SpS3Khe+vgDQtyQSRTSoyQu0t22xcrDW7g070e9zRe4wtiYqvrQnDq/cDj6\n",
       "DVUzEyk+y7CMbQC8T1D9UG6otXoPH+RHZgAJ2ognzmhnVxsN9CHPM4FVErxah33w5zLpITkre5+a\n",
       "oYzsJ66gbTysW0e1duOaeM743qptPaU/O4XjqgILxfSkuH2FNS407k4e0z1uEL8J1v4dP29fhaTf\n",
       "nq+iFOpjQUXyRmhrUlky0zvIaGYr9GOmOz+jkHMUKBwHKrnGJ7+rbMaXrT907SO0rmKad2u08Ldo\n",
       "C6wfoFgItl9desmcxnkGiQN7+IYGza2o+ew2zvL8eAaQ5s80SghV1vCh3BG3fu+wv45kzeSxLrcn\n",
       "iCH6vhnbZtZzRsFRUTEBiwWWCJJrl7JYZVlx8uyBKChx7x3+gVih9XGcwKLbIaWp//z9vbD4LbpV\n",
       "3xhzDFdFCXwEfm40dNw10+1ZdtViQAktuKwQyJInewtxR2tl/LxBD5knbwsyjnnNfuokUdamAQXl\n",
       "MbRK4ZmCBfigR48Wzd2ro4ti+za9xACs7nq1TWKcikCEerc06pnvqko0p7pB49O+lqDQTjDiAyof\n",
       "x2NwsPH5mn14fdzdlTHb4k7w6Zn4mjkjJyIdnRuDEYGUA5DA9YBjnDekEErhvpbditRkYUVTWhu4\n",
       "lrJ8ExLLb08Je8RFMD7PYeZlXNTwmpp7ZbbGQw+Hp9hv0K8BFBksypTMa4W3t/ShZhUVNXKC11TO\n",
       "oA9IyDBeX5dc17rcQAAAiYEAAAZeQZrrSahBaJlMCCf//rUqgAAABnsQrgAW1dVnR/8I6UpVXlks\n",
       "0bjXd+lKoAgUSi6uFkLn+BYl4nZKAJp03ERRyXgNu7PLc0abqg/zGote/e6xmfb5amkcib2f8EEF\n",
       "D6RDYBIfg5yr4jZYDg4USADQUaje+g5jyv2Q2sMjkBkgWI9kfDWnPe82Z76+S+q50dmdv01OY0Q0\n",
       "yF/IDWTbQpbKz2JuWhyOIY7WLN0aBeS65CLNOoUevwkDVE1B3UbP2fqw3TdZ83JsWtLcBYDCV4pD\n",
       "t7afYOXTYblxwO79fsjAx+N2lxgiLRaFu8G8cbrm9ZkkDX6t2fyUo6HuXBL2FuPTxYQ/3BR0Y1i4\n",
       "uYa0W5iqgR5HAbmqliL7LayYLOC9X+7bgkqz5mjSvjgHZbLO5gpzA+k2GHPoD+Rld4oF17DRuzbc\n",
       "Euy7OXDNs87Aj1ffAQBhtXXu9Pf3bdCh38m5N7UIZSDCm/t02oBwIVvRJ+eJnHFpDIjuGtejcQkt\n",
       "DAyM9/woyPXw4maQcaDd9XGdnd4qwHPLTjhqL2Do3dRMGXAKGOKHys4K4Diq+8q+3QI22pmK9Vvf\n",
       "2X14SZyqu/Nst/9yPQOQ/XO0NFJRXUgQnEvZa9o2KA9+n3zuFSL0vj1pxgnJZRxJ9Dqz/uqaD6lR\n",
       "NynnNQy6lPX7OD7ypBwB5Zrg4tNluKDQkIwzdzGVeWfvhrkV3kIc1849EiRXNIhuiDdGZtJn+c2T\n",
       "pb/y81ML9Zu2b5bqLAsEu2PVyywiByRt/ymCU2340ywBy8yVqtsgcqy11xwGPHsAeuCjdVZsKCc+\n",
       "UqH2XS2iFewAakkXDxJQak+ouvXdrxAuLycEgtgpjVl36V08rdP58akubMExR/CqHzT+zpcykBOP\n",
       "GJXWzxTXSie6IKIX5lRtE9ctwAAAAwG2P/8DBjxdG7msYjO1MHD3uNqzPfBujVpP5RHb7Apvkqlo\n",
       "gGqk0jUvEeYJVGzP3v4WBz4cHPGu4agMA4bjOPNb17UDmuwoN9l9DBw2ew83p4oXZa16gMPhjTb7\n",
       "9sPJOuU1AAAUDJYuqzHPAH22cIk6ONwL00ex9depD+28+7JtmX8vcG9eXuL0lk7Ntlp7/JK1adH2\n",
       "Hmmr50G9cD36erhaFBj9ZF2lD5FIjtHtA74Ub5HTa+wgZxfJNsIq8Ntgprx1p1SdvjK2KSGo85AK\n",
       "sCMwEyNINmC81OHN4PxuNFavlWgGwV+BhAYMzhirE4X9iY+JwB6g9G9HutofbUt/6pshIetFrH79\n",
       "IPFenWuOapnxGbDBuvdbiTUYsFQvOQuCsidkAhLkGLGfLk6dc0LLiS2p9MH9WllYqIE9lcb+NV5g\n",
       "1jaGfFLUiMeA7nycjlsysshen65sXl2VcgTvpQ1LpFY922RYb9x6pc2WNf1HGaeYrkvYXALK5Bho\n",
       "V8mVM1W1Z+YjSMiKboI3Ay/KK80lHTZKwuS24JbVLH4qSlSHg2QuFDZO+/MfLh1gAAAZ4IayFY3z\n",
       "qhKimUwY6QKfnF/R1YiA26uvn66rFOiN1L/B4LCoN8D+J5W59eFa9lR38xiCkQJPA23ebYrsjIN+\n",
       "kL2LzhYuQgZw4R2YNQJdZXJWtAM3k5RKLo8cfxJJ/EpOk9GW94HmoHnmYANkxoWeh4o1NPO1Tlrw\n",
       "R8hEPh0kHIRy/DWAt4PrirH+iiXwkAAGvUQqlgbemo5EzfbN1IogP6QvCjS9r8RVagCV1TGTBUgz\n",
       "+uarFLYjguR8+As9kc9y1epdcePosFBklVMBmFcP0AA0Ro/dvy0z8Axa3gnXjbtWmBmCVpj+1Ia9\n",
       "WJNEjo5Mgzm6WppCVPDOj71OrwdoxpSvjIHTycnqANFZxdy4Y/RPUABSr96hc7N7EPFeDs6oCs5f\n",
       "EeQk5Qo0HK7evwzCJYAzdtQAGSj5JnfXv1u1QCw2D2XGTYlg76fg3AAA1C99bsLqw2rVOZ1IiNkA\n",
       "ASDEvzWHVINETKEGnB8Vbi/jhFbU8sYq4HFtx6NIZ7WCbC8UE75+RqnLIKJpciVW6f/2GyvE1s6p\n",
       "zVfWLK+NitTLUk+tcuzEgPh8xoJAFvxJgFi8pFK1o9Sy4AfxaofaamgGZRNpiCms0iEuJEX6e1nC\n",
       "8hRVMrEUc43uTetZh0ZBdCnR07jt1UqxrHtjLHUQHXJmJWl6O9WC8my1r9ZOn0hMLVga8AAPmAAA\n",
       "CWVBmw9J4QpSZTAgl//+tSqAAAAHdf0oAEpwtw0PqnPUWc7URHJSxJmPsFTSdbGkgbkoKowbG3iA\n",
       "HZwdQY1azNuTWXK78zu2fJXcDUQBeEhJV7AEo3jWFg4/55C8iPQK2XDNjeOV8czM03dWmql98YNu\n",
       "osjd8fMtQaHaLDddFO9xe19bzZmDfPLFdxhtV20+Hq1nqtiHY9W5A+BBXr8n3QrHxT/YPno5NrBk\n",
       "Y/n2fNlk5UTnv3+Ag+HMIAr/Mq/S8nXNwRlwAirAZq9CuDD/qm9fVPUk0PSbosFwMMxAax4uudHq\n",
       "fzjl5bkSp19QzWfIngidUHUy/nNS8vg7MX6YWCb5Y5B+Dfkb37klgOnrSwIPS+PPaxorriwwHIGU\n",
       "2dLWb3WreWTw5f4gH0ws/FS3wRKCvUakrMOu5/7jSOqjQxLgo8yyfOISyD+s6rwJt5YlSZhPRldQ\n",
       "ujbr9IUsLaXorQuu79XnaCYbJI5UmQ+jIZ78n9HHwhFu8/dJd99oWCKv/KuXbni79C0bEZUFRONu\n",
       "c0R3w4BvK5a/djZLT177wqDVUbZzswgI1O8PeLB/jtZxVfZvrkBncPyWAya3V9PRsPGhLXSjvtQB\n",
       "ZZXwq7iSHYpo/tFf6G2A0zzqRRLeakN41SUQvpH/smNVEwbX/OMBEX2j9eZeDjIJhgNSl35vVSbG\n",
       "usnuLJtKxnEcSv0LEJ+phSfOXzhtxIAQXsv5RraT0cMHGelIoy8BUh4aucmViOj0tX+FCPihWai5\n",
       "1u0Jo7r+O4lzmHQ3n9fHrIyfjfSpJCZwXgLU5tHzdLTamAgKVuFf8QgTDZ5UwmQ8mJMbA/wz2kwM\n",
       "/8hadUd7PxuN5WedJ5i7zJOO5UzJvJVdIAiRM1V7tAHwPvi8J0O+UajhZsavXw8v3fRtXH93h032\n",
       "tJHKZKJzOuI2OeOE5abEtwhbINqr/leQqu65G90mjCbccf7/c3WwFY9ltteBmIs/4lHntLa/23jE\n",
       "GRAxMEbANsSPxgs2zvxcDyqe8ouM4WyXtixTg//8LJaFreP2QhefKD5k/t94xb11rYZsjMS9nq38\n",
       "ldAhW54gGP1pWyYJuA4otxygYh39Cv40xcEp1p6nxVoJQPGnfzaZbzJZ2F2bJyca9LuCuUyHbuJy\n",
       "K/hLRSIBfjUle7vnalVuevXVRJhSVRxY0lwG9pFKx2I/isQnc/csuq7OMLc+EhbQxGZEnomoHSQ/\n",
       "JHoDQLm/OaXnKG3sN/x/bOUxeUSNcrKZ4JTAu9eEqpGYwQEkEUepzwef5pnOCvR58tOb89A28rkE\n",
       "Tf5ZhPjwwg614PeaDD8RaiSUCSI002JhLFBmOY6csHNPd4TPk6TsbXdIBklVp4VD+E0Yv6gVFvap\n",
       "SNAG6eLKbhonaAUsGyJNbtMOByNNGp4NTvqMlZHJ+ZJf/cSQcJRRHMiWXsdHKkqej0AwZ6WHmSyz\n",
       "GnAvxjRbOePe0nYg+Kn96iz7qMPRAcLsg3KtX/WGqAFrwNZGnKhk5ToHbOVK2iS7HRDOl7qbJiYB\n",
       "03meFKFGBUrlk0mXS7unndz5aEt7DXwbd8cRSuiQjZ7keTUYmpvG0MLk3yG+/Y7IWdYT36B6RRGW\n",
       "xcCTSoMEnp9053TyXkqQbkVqLjU1CJeOYCkxgcv9wEGvQXdJ11/d3THRGs4Z6XcuvZZKAKbLXxNh\n",
       "cd/o293VhHA883/ngJDgrl43FRta5bxqq0MzHw350VWn3hcQ6OM3nkDQ2qqumz71sopV0sq4BiJT\n",
       "KzVq/zWzgphy7KyUKRi9Ju8afCAoKKRTWVT4QqdwhJpmDaWFYLeOsGm74CLqULl8Cmrr9JbuuBVU\n",
       "VbBMsYrklEmL6eswpR5Q2Skn9PdTRpCNHoggQeaAFjpn672vHUGIFC60N4npp8EQ8yMHMzoIKBBK\n",
       "v2/7c5NKZRoldZYj5F+Y9W4wESWG+DMT025GWwbLI7tvJqwKJSI6xLYGkoFbkvLKDrGrM/9qthpU\n",
       "kE/jWb2tFUK6fzW+NMkSTmNLXHIlp34uedWxXFBMoZtxj1z4oBq5TX3oN0sYsNySfWBpRFxoljm3\n",
       "NRONNKGMTEcrZKF8igBhKrR8/7EB3A5ERQNXc7YPmmNBXEmqaX7mYYogz/tc22r96jUfZWaWIiz0\n",
       "ObkKJZQIC0PXKhzCVzm6JWrTXEXzgwQDSjNA8KJfzVUuDvB7HNUZUsQyA1GR0RFfb+2MwDlN0jQp\n",
       "nRFCCjloivAqvTLd1B7mUEO0PprR/j/Gfe7TZgFmO7ctoyZH+BKriKDbhpMonpbXioXUmx4BZ1Yw\n",
       "9ZSZ3Ry2aTR5BQuqzMd1yRoU8abMJnqIbpXO7UqV0mgmE32L2BLYw43q64zapNc7lOk2L0NzrQs+\n",
       "gM+5Pc79ThILOwhMeW1e2qFdsh3ofAVhz421tJ6nmv/bUNDO+0YSHdxadhOIbAcdywgCfRezGnvw\n",
       "DHjp2sIsUP9Jw0AXAV9wx/E2An4Y21VBpezasBT+sOr5ji6orvd5OYE3dxJlHXzZV8sMQ2lorfyQ\n",
       "+VtovRDtrVwMegrjZKjxAual4nSO3X98La/HImYVz4wB0eM1UEENp0T5b9A2maxhN8WVrFYfRnKU\n",
       "/EhgB4cUiCgUNJMoq+LJyv6dDSB39ITkw9NmjwLvh/0fnVpcanRHRsJU0gRdBNlNphXQwylXhN3Y\n",
       "9/TAE01J/sTO7PwVgBIv3sDNxACCM0I6Z76hF2yOiQRFM9LOHK1CKg5eCtuQlaW10bgcZvUgvZgY\n",
       "eZoUs0fdEMj//wNEAtU1VlVaYifGjvZgGZ2L0l65fUueFRtsvq/WN+waYv5Firk8fOUAAlLg8Yqo\n",
       "CpY5thqhZ/Fqg8T7SJbnWbP6fdIT4AsjdffhyXySlHB+8dQKAIpI/HjzZQCiHL359f/ivpPdRRP7\n",
       "N0EpiRxJlVG6AipyQvGiv3jaDiRlaetVQA3dJvo/G0SjdBrEC9N8YdceM+yqE9vtS4oxQetDn61q\n",
       "Z8KZWpOQGaSbtqV2CRV8SaDLVIlOJ5Ld+Ou2zAPyun5U4hi/VKcUgEJHQO/gPcEIhhAKXbRmVuHS\n",
       "J9HEVyCRfowJQN4UC6ksiyucwQlLLFwgFUg7/fWLsVzAbDwfev3rQt2nzoyNxxp6L4ADjhKXuAP2\n",
       "auOxm5hpIIKRNWF/g3Icqh2ABqgsKj8IfkF82/wB17hOhK2PzgvQyBOnuYHV6IUz2+Brx+ChSiGS\n",
       "LbkO7lz3jgAAAwBWwAAAAaNBny1FNEwQ/wAAAwAsRGbL15s0AHtQpbugrwp7YPPVPeVSzRuqT1oN\n",
       "1mx+Angxwpla3RB8sc/g6zQ0IZV3oZQsWHbbwsKN3kBF7nh+dR7Zfau9e/I21O2aRaK6uvu3BDpc\n",
       "gV5yqSBQEfZ/gdE+5pVhjW5Z493ro6JK7U4DJKh3r3Wj6X+eFQtn22LNrmzwDA5r/qd++cU4CFb+\n",
       "jR1n2vm50E/5C5wcvpHkimPLiSEScD9PySH4ubbUJcbH+HWXs27i9A2TrSNzfpepwNpVR8Wegx08\n",
       "/f9YqWlZ9HtjCMr5l5jFVl96U/kFSFRnLUlbhOZ0Ox+1bzkVfm2fknWGItn3fb5G7TL98PDBWbaT\n",
       "chhqhyfbV6cqgXNQdZiFBWBzcuAjEtRJk4YunTTjYY8EpViZva0Xe8UYjP4JzJ4d0ljRdzqGmvBI\n",
       "FhAR/UWAcJiDpEUb3+xPsMbJddh+3Fq27FteZMTB8UzqqEuzjSI52cyDE9bjk7X/u6PW/HcNQI/R\n",
       "DOqFAfxrxIs4RXBSYVcwVxPor/V7Jp+k0SF7QgU4JXvIAAAsoQAAAPgBn0x0Q/8AAAMAXRS9+zAZ\n",
       "XaYX11Zm08kUAHvT99zSFR3r77hbqS0ZaATnZ4aUG672ThCNPEaMnuFQpLkGo/lTYLNosIMNO2FZ\n",
       "QllcUuVFkY059nTL8m5bPgeCDEvAVRuERnUDd3xeDIeL5oqm2YaK9amRwqy1ZhHWxLFQU9pBQESx\n",
       "jDHw6fZKM0ihJ7XPDMPA8Rdyehh+mghi77pck6zeENTh65sQ6zENGLxeZykRbokB/mdiYx9M2Euv\n",
       "EzYaj/bmvQcOFsYoP5LPXi1jDjdCDMDXVl4laTxgq5sXKoFyKd9vBpwq+n7JeBhJqwl2NKZdfB8e\n",
       "wAAR8QAAANQBn05qQ/8AAAMAXQnw9OAk3LrAAe998yXY0PaYBxwcfoZDImI3M1dy8Gymk1t7S8uz\n",
       "R0AR+izqgse8ikeiBCXqrM4qqZFhN+unhCf40B3DZoDKw16ZEu4F4lzYFSMOlCUkykaw+u2fPUF8\n",
       "HtIBfPzpFp9lzxEtZ7aImLToiy2IAI0aMWB0VdBY+aN1AHbzBg5Slrn78yOrKZIrmm9qj+sA1j14\n",
       "c12Rq1ZVCD2ZXoT6dtCzg4R8TwIG22Ii81Axear3Wus4Cpnnx/A6R24ZIBxsAAAFbQAABDRBm1BJ\n",
       "qEFomUwIJ//+tSqAAAAGe3jGIAa4dpZE+2nAyZ1nejgB86Bm1AAMQaJbP62wBF1s8J2cJeO72AE4\n",
       "fx4kcLIXVbxZLD/mQBRR+VOFfc/QQfFIxlv3FD5T/4yUlav26jmRN3is+Pa7/hrh3JdXpAqyfhkD\n",
       "weCUlZDwVPHBvRttUJUxSCf/xfMKoMNkYet/NYMW+27ElKov9Utm8USqOBlMd3Byw6P0b5aDq51Q\n",
       "eniFxxTOG60O2gQ5c+6oF6wGN/sXdJVHMXh5tnjPyK1ZX4RwksVqlLw4Ib97AI7OwLPOFlAaqRLV\n",
       "+bJTCa7SaY41XiAR53+WOpD4+jUcYnHyrT0/KKBuUqikOTRaHxG+2HSY/MHueZRaZ63CruIEemDI\n",
       "pGJlhqhJsmxmXoXBKJ/WO9ascLVHllnM6KpIiXA15xnVf8x6PZpRseK2YUSCKnnqy41ABiD9UdtE\n",
       "R+bW+YbLTnsYZepOPezAZsLy5QLIbGtQ5BhzYA2D/muiFr6kmSTJ3dqzjJBqLoP/dY2w2wkZat7S\n",
       "ujBQTMWZAAAe7ejodb5KwT+uu/9aUwk24dblZAh7L49JFrU2HaJGpQ7ubgT0+CTZELgvRDH4PYqD\n",
       "kaKcfzSUIv3i87fIWgnQe57/v9bg5/z4HHjHQwCqRasr1uhIQjOgp/NiQTDc0l+jV51AfeKVrJ+V\n",
       "tDroVBhu473QjWuAldiOMCtlUJCXNlLvfh5am/G6O+EItrW+bU/3lfybhr85l8jUj5LomyPyEfgH\n",
       "DMk9neaYa+UdBggg/A6eWpoo6IKot4b7FjqcZ/2X0oC2Lc7fZh0qSmIhaP9UROj6NgoXk+J9e55J\n",
       "GY3gc24XgEdDhLrhpEvq/TneZZzbaVENJi42u4BK9IYW7utAGt7leEitp3R4xlOCSH5CWyyW7pbv\n",
       "MBNNhI6DxAELAbgmTVOfvrm2t8NY3t+AjuphTT0VgntS1gD904TyVPJLuJszqBnyVgmc9bL6UNp1\n",
       "QqIzfm8urUg5Zgmqv7N0zeWgax3OApY3opdE9ktGXDnmlPH/5pYOEmAQUHArmaYyAmLWLne0WMqE\n",
       "bU9Lqc0nxYr/QVSaoBj7cgo3nBGYVyRQQfz2nQHA7ffA8z7XE9Le3OK2+g5sb/HtBQoyOhLX7AFi\n",
       "5Bl1ZAJP0hkYQjC4GhNh7AA2o+epe9MtLNPTO4TjFLAl9RoRwUcKHUFRXfA0ozuW+AAA+ENnc5zd\n",
       "Cmb4pjQokzP6uL+ttp/QGlYAxz62o3jVUSiaizkkMVN2tSqVsJsYCaZRCH4OteX12xGnh80xc2sS\n",
       "oattVukqTRSshkoHA3DB3+RPlEaXwwQDBwUGC7BBVJ/4uvJ/yzVDKiUCkobP7cyKOo/ImIk3Xttv\n",
       "l0qrk/vdfi9jmeWz0KV3id5E1fVILGFsim0tHCzpzsbqY62IblR5CyaAAAAKmAAACF1Bm3JJ4QpS\n",
       "ZTBREsE//rUqgAAABnuBrUAKj9RfLnX54LhJiTf/4gW7oKgK/mPmtAC93SPjX4o788tYUdw38VOw\n",
       "qQosZNWNEKC78HFqg7g6sNZiBUEIgmCAAtoho7p28ofPscV1V3QdY4bs+JighCMZMbl7o5EzgaRc\n",
       "b6CoVVhagAXl/cCA1rHPpX7NIeul9ckmSiaeDqZlGqnlBWh4f0t1GPuTwpagttIOJ7Fva6HyA9Ou\n",
       "npiJJtm2S3kNqN3r++c7mOgjC0BG/EXVzPfXo+K1617DWVblTiMQrhwgv4qTgfwjNxzEJrUfZHDN\n",
       "1eyfcBCa1W87t/R3JSYshdflV65C8m6yfirnlJwL7MRmdUCo1QAVnDm9rX3pXIx6wxTDF889uSCL\n",
       "pz4pCbyIYcZb2TUFESl6USPLARiyU2XUnDKRkul8iCZhGbXtgwWEo1qSbhPg/+s5X61QrQEumXeE\n",
       "4gloS8PcxORESAz5oU2rEJv0bmB1srRNqsBImgv2bRGWYoSJp1msjRB0LMTsQZ5g9dqAnDZ70iRC\n",
       "38dZXgevg5mZhkjeUNaPqXifg2XSKAYls4GrABJGH4QPNHeyIyQuvYAZBwo7LIKeD1YGlnvpcjG9\n",
       "//Sf63k+OWO5/M7qAWsAt3WKkCiITjoGLUKLP0ys5aovJs7evkTaBqqiEg9hXpL/+3rcnKBB34i9\n",
       "ndhX5ZKVwZDlNmLEt0YAM/7zJa77F+L8Y5RI+i/LtmZsGL7w01zh0eLG08kDGV/VVt/gc3LaShkC\n",
       "/VUA6X5jDrUueR5tH2k7AryEUQZm5r4zxlAzLUSxTfp7XSMJeivCYpuZIXFiy4FyaSWirrEq4sMt\n",
       "/ex2YUHe9ufIMuQe3fNd/Q7NgP0B2YN6d4z83VF+hQq0eAd1CZANWnB5Y9D7J9ivpB4VunFG70t7\n",
       "zNu0zjIyPcwZX8G8eoe33XvF50R4M/wTOjn9aOESBUnDMg+r8jyEVmk+LZpioN7MsirozuEUlDR+\n",
       "FCpGHbTwCo5kydGp7bKsOkwLDN4ewg0qdRpN6C6wdW6I8nfW1Z4WfZ0y2rlv/e308jqtgz3DiCR6\n",
       "LbaFkk7REnutU8PJ3HRQrOuhRO0l4CMA0iOc6oknjlKIT7ginK4bOuIha3o9u9CoMkfO5O638z43\n",
       "2hkSSEynHpo3o3wc1G7w1fuQ+MjcjHiuJo3zxFpK1lYgC36ogKC8dsURY6BctenN8SwrKDhhaCEu\n",
       "Rrv8DjfUk7fWlhoueyPGvHsO+65GeQMMbdRmMvQwkbOADNZETJU5SA179XI01qFM7sQ38+AJvJaM\n",
       "6iQDx/TY7wbTPiSP1iVYdwS+42Bm3nXeymNwMO7cLBTza7B1RJebr1yHjnKOcPHidooFVjnX3fFZ\n",
       "r6L9tR2O6p/wUyWD5nmey2Y6k5oS86yGhYVgMQFO1YmgVkMUDJomNwIR/lUBEukRkZsugZ8dHgu9\n",
       "FBPPn+iFH8Zi62lYSU+Jk/uYfNnq/V6vtJsNIWKAZsBmjScvs7kaKzPYxaJMptR1M/5PrFj7xd0w\n",
       "Rt/nR+cHAmaM7gTYImGFGlxF19x4jOLP8by9iJ56uQ6IfmpYc6Lal+RDyzmurewj+JmIVtdipsyL\n",
       "uh2BQKCk6+0FLNBwrIpz9J8JjqgJWBIonMKo6HLJuTKou8+nBqYQTEO/s06+Z1bsDcZPDPKe4RYs\n",
       "JTZrkLGRcttKqIK47hWy4htzoc9xGJG85QqZwFUZ8qPwemPevAGl97zuzyATSBHzCylI0zZ7zZTd\n",
       "+jHtSGU+TIQJ8YH4MD3ufMGW4U+X+BqorAIqMkfEiYYCSQ/TqgyNL4ifQxyvh2JtCaq1Lqqn16z9\n",
       "aKRZb/Z2AVTXKBTHhyigmYOfPsAHcUyeoVqlBJZFoW6dkUTQQaWzR4OPeeD/DXKqFpaNq61IYu1M\n",
       "k0reXNsXZwQkfu5SlGLKucwsqZTJPJMIbpfvcq3PLRscp9Ss1Up9un59jXneWBaDVD+CyJHX8kpS\n",
       "qFznkCeitFEi1bY3rlnKoIX3/G+MXOGfmi2YHycwd8JhltErfZXM9rw6a+6zeDsO43AG5HZ5bsPh\n",
       "T084kn8ZrVDfWCJFJ1nGpV+MuBDOboXrrXySmcUZUU3RWPrZXZNMymmP9v1yQwJh7EQsYt1GAfoL\n",
       "0Qh0/hLuHG+JGFSEDI4NnWv4P5Id4RenXaNrhYS8xRgBXa+jb8uwCfy7ZsiMAdxFqL8tem+VlZuN\n",
       "dagTdGP1hWhIMga6KpwGaze0HncAij0FlTyZY/kFH+f9LS3xNcoJqLsi/tzVrxTTumiHloLGpRjh\n",
       "W506KjOTzfgOIth2Jyg4Yo9L9so9di/Tw9RhsMMc4Yd+1laQobMtWuyBijU1iISrWe7usUf7t9hS\n",
       "aZ1ymQgKwkA3ma4JvcYZ3957YvUBm455LDmu/j8hPX3AlZSb5JxTsHvZxpTSSV0q5KcjFHa3iZ3a\n",
       "hUdivxGTNTXx7M7NqPhDAdhHRhClzXhsY+KPy6r40NNEKuh3brkAohE8tWa1KI8d4Z2a/uLSfCde\n",
       "JFjghMgEKG5rl2Sv1Ye9LeOg+u3qX/ExDNJp9W+ynk8cgklU9BIm144hYxJq8+QYxUZp21/Kw93Y\n",
       "C7qdEf+TKKux2zkMd6eMRm5p4IX8ixS7j8zCU7usbkh4XVbcIDd2VJ5vu++JBqWzDQRVf0Ac28EL\n",
       "cvSOubJhWIdo8CYLGc0D2aU7iQKxTfj09MvzclTBw9lT81kn3tIXsSAkMtOI8V0mN8G+0Ekl8ZQ/\n",
       "1o4z25lZoUEd7VfXewFwECD2eZU/p2WkJxM+XO21zU0viJ2PPMyvcZ9UmeNaJN2wgO9fKpJaO2Go\n",
       "DVpqV+ckPG9BZR5BFyWIOegg4JXXwAAVUAAAAMsBn5FqQ/8AAAMAYf38hmL+8YASxDm5cOW84bbY\n",
       "RUZjELRydcM18cuCeaLxacgQ/0k5qukBcorjWTyvk8OfkFp21B+i+JUilLEvwV3Hyo2Zy2zhlIj7\n",
       "bN0p//i7KZ6/qzNXySaMiK5BdeQLcaee6L2x+rZJ+flOejutZ18DhUvFeo20JnWET3OYQqnvLFFm\n",
       "Xycdq5ZvnnDFKatASx2PwmnppR9HCjBdX/4cDr4LeD1zyUyX6pAjsaH2MK4Wnjw01nlNeXpBdM/N\n",
       "wAAIeQAACf9Bm5VJ4Q6JlMCCX/61KoAAAAZ7e2gARNiu4TvP/vB7GycT1QYOV7xKLAoV6bjdvpCi\n",
       "70LdGQ+GyWIqnYZbFGuenj6K3rXKoAudlj5wh8GFhB21/6sevT0whvlD06c6BGBn7JfP41oq3T9O\n",
       "aA+/FCWwYlCbPLQ4z+kDrzb28zEr1kmnjBvSB6IDmE3d/aS+a3R8ZNb04rzqja8CCpUV5nbZ90vz\n",
       "WiRotAYCsCU71FAU2ZCGVtVDIyUJzBhSu9MzGK4f2Twr972CuTw9cGzogJO62lX/a5vy8w2bFi8h\n",
       "Q+Zx3feysIAv2omR8AiI3toWzr7lHQSBA9No03z6x+RkQX3zwrk/auO52F0/2FwXYJH1vEl28ike\n",
       "1HnP4dTwZK5ehZe6FMXhVl131tMAdQjy5yzJMT5SfttK4qcX0XhYM+uFl/Bbo7cUtUNVTJXqnga6\n",
       "f4bO6AwnR4oGoiljIBaverQS0DZMCCgqjedk0Mk9vjVJxftJTtxUrcDUs63RlHrN4iGXpQJPQnAg\n",
       "xsdEtwCaFtIeINsU5xpHAXtljVFVzZm2A4D257d6xj4WvplerT3yghKFCKYqPy2MI4NhKYJYOKxV\n",
       "eLfq3y8vU0kRLPc2+Uy7TA2gLpTY6OVhqm772qWcA0+eiAUttlJL7bHL4OMb6UDiwyZYhg98LQ32\n",
       "V/9VGIYeU2pvrCFNoFnF5g/U3vPqHApopqmWE5sjz/MtDt/pnzL8+V0/pn3Ht4QZg6jUNqzwqxjz\n",
       "bpNEb97CgyQbD4OoY99xHUahk4ryLUTXGU2UwgO0fA+zT3zd+6YAxDKluasEcLaVTTk/zXEIeoEr\n",
       "YWbZKknagbogThYGPVWOU9tGsMo3y12RMfrOxP+wpLbxo+l9Yz3lf3lchnZkDzQGrbJh1JoemVgg\n",
       "1NpiYPNZ8uc9VUjDV+HhoSKb4A2OIq//VOPFMoRsWFxtdzexJ3nOT+ADOq5M/o7kRNY4D0/d+mNE\n",
       "YHpRVmbZRy5S22kbpn+espOcG9tPjJLu9rS+icJFzuL/Lk5nqqSKq5Xv8MIuFEKZ3AKFnxotYBh3\n",
       "4D48G6B/W/vJHwBCuOZnXoD4tr5/6h4osZOoy52FAUd6Z2x2yWuNaGh4/Q/Q+z9XTvtERBEAoE6R\n",
       "QKtVfNNXsiDVKuVIIDBWM9M0h4Ncl7kQXztWQK30V2btCHw71ofWrMOWoa568I2FNVfWL+AMmPZo\n",
       "Q+2yulv3Zj5StHUfXDElBrcKuaq1pHEDr81szWkopm4QzoS8O+76rohacsBwVRncWy6gxn/Y0AYm\n",
       "ryvlhD3Nbcl55pXF2282YDjH7QcJKTNRvwcJIvlnThO2mFg17m/z4npTu2U72W6YFpfgGSWHFulK\n",
       "xXp5NaS6OGzlKnmE+IQSS/KTtKO4qX8QlMlYUWWNhgKZe/h8Q/CdKgXvXsmpnX7ZQq/A9y4IVDLx\n",
       "HV4UYNPeRIIlQCzMKQxFHfh1CWJQ8M5ymd7/OtpCV/is8hpRI8UgU4kfwe0X+h568mq+8wmHLcY8\n",
       "l81dc6QK4OdARErsmaOwYV480Ws/L2t+xsXAMlPbg0CRVYidCJIV2gi13ZDjJr02v0w5kpYq1ysx\n",
       "en+ztoF754Gfw6Obhxxy3S4cIiZAh4codq4M34I1v35H/GGo6GMpR7ZugVk4oV7RgblIYnEfOtr4\n",
       "VnQ8iXAktQJUPIRhuBmfRcsq/g3P0aHa1CZP8gGU6MVzgtixD3vkw5alOeASXlxTMrnlR4o0Nq/4\n",
       "Nwag0/dd9i6afY2RXtnBxYk/CtAZAH+yqxYsz0NtCcye/MNGUoD3bzuI9vXI5tleEIB/yOwkXRso\n",
       "MNCbn011VM9n3aSlPM2QeasodKWHa/StWZgF3Bmo5tLRG9Zadnd7dF4RSct8lHP1NE6UNYQJpnd+\n",
       "3NqpHyEUrJ9UA07D3LRVo3G36wlOhgcoKmvfYtJnUraFAxtCHRsEmwvMFWKhzZNadh2cFIrs1fbX\n",
       "BiiFyCdGVBdeFIH7DOvVGciX2KG/l+t7OOV7C5TgEmI+ySDs+CqZYQ3UR+/p/FGhww2v3X7Lgh0l\n",
       "EMmzBxILLT94HR9Yi55bcdj1AW01N1U7dNYy1Hf11DyFSzctxK3/rAGcnNshlpVd//NzQ5EpS7PF\n",
       "vl/6pViAQYXYB8st2E43YfKFnzz+OpJ6F6XMnSIz2/WXbjhYkRoL8ETNCV8LstJw+PJc4d40lz2O\n",
       "OYSDFqK++Ffz0NoEsYu373P+5/1BEFYjgUkgxKwI9s+ZS7ppFqO3noXEQCHaEY1uXutyUa/FlHlF\n",
       "422QW64cNX0qxn2DOw88El8EbuTV4hqWcbOl2LIYcAIs6nXbtcmydsv5gd+mcFPxxiK4taKVrOO5\n",
       "rk9Imq8YaVfnMAJt0sAAMD+BOfQheWy5wEXnChdFFjyxd8GGPkgTsoO91qIjGrs44VYrGZNi8eJV\n",
       "mXyMawpJDIXHwAH+tgoyTiNcCiDYr5ijlaYvzsz78PccbWS7A97LPb8NF9Ghwxo64Tpqzh/PUeGj\n",
       "ZI3T5BJgrRNcXrfwoifLrT79/Bs+BffqPNwyRQD4viBU141rawyeoVIiDsvcdUUSK7HD64noB2mg\n",
       "Ol+qcZLmV1X3vG6tSLQ0p3iLD02PtoY2CvzuaPtF/+gO2rozyqRAnxJkmMJ/NWaatomveCc1dTVx\n",
       "dNk8sOn+tRHha4tLCQ1+ocqUx7mgggsyne1VUBu1FqtxI0/8rL1OR/nNwIBmZq8Ik9w7AiMfp/Dx\n",
       "67CE3tKq3qVOSLi07R3G4G6HFSjnPlXzA/Kt8TVdeEzTnp2s5nDPo7R0yDp+0VGMcEY6KYRQBNCN\n",
       "sk6ZLvfg4pfVA17M+RnjfohPpppiQRWazyW9033kx5EdejDMYNXIIr49uTtRbFXXWQTMkeuPVwFK\n",
       "rPfSzTYmOeymFP/BoVnyDWDqNSL9A0z/jmumJFBlTU9YK0ksZu3WB2+uCMKpSH4+Jh2GY6qzK5Sw\n",
       "v2qzn5N2C06rDkrF6mmC8cOPqUAoydI+a23xzeK2OeBVcpOW/p5x7C14YG8+4+pOOeGX4cR6O29h\n",
       "wRhVaoRgJzSWl/f9VxLiZB0Sxl8+A3W4lpusb2z4CEqiiKCTyYijhlTIkpiAslKNcFYCs2vcfUb+\n",
       "SbgB2ATeHVRBe8VULZH65/TsztuCkse5GSz+xPxWf172GA2+oEsm2bE7jkv7POb3RnGgepT1uQZ2\n",
       "W3spzxWDGNYbPEOX17mvxUj2/SBo5lmqgbovGqOEaTOXl4NiJidYYBGsRWn7B5ilq85sDlurtwdA\n",
       "HvsNx6uuIwhRr1ChKNABiXcZ6CskZ1pUUrruiWvvOK+Wa/4u+ap1vMcShFKJ9p0dcBIBcP4r2vBD\n",
       "kCYZq9znhmiLiohCY2PQTFMe7DiTukq/FdRQ+u1wavtKBQrKuK6/90/9i5IU2QKiaHLJSXdOAAAD\n",
       "AYUAAADdQZ+zRRU8EP8AAAMALEO9hhL/agABMrAcU4SLk9xHwc7/qQCzSRy/u2qk1jKbdNLXXDBS\n",
       "u+QRlH6zp2c9bg2XbUOG5FHTWym/z5sMN9OEUVC+ahPuu3d1+5mSLbrR64Z2mrkqkeyA40ZSOw1R\n",
       "eDZ42V2wMMfUo0zQ0CziOIYhtebyFDy/BgsK8gX5fEjQ7l2ApSzmVQqG0FqEebpJYLzMaSm3rg+v\n",
       "ri4M0fRMA2ssPC9+BGl6bhC0ItS6OJlNKtuQGQAGg0PAVzoUQZa978kEM0sqNeIyh7CwAAADAiYA\n",
       "AABsAZ/UakP/AAADAAOJ2PSKazQ70/r1YkB6/KSsiiAFsteZ9eF5srjb4T7KXxSShc2//mfh5BdN\n",
       "Y39W01tFThgpLnvHNzwKiRbLfj0AoAQngA09D8fP9QP/cVLBZui1sjVMsgqHdC9H0mAAAAVtAAAF\n",
       "TEGb1kmoQWiZTAgl//61KoAAAAZ7ehkAQ7sG/YWGHnB/iMuIHRXXJJO8d2YDFc6eP9p6r0sfwbe+\n",
       "Eb+ZO/hkWT2OG6Cr3OAJbx+1jbZnVg5AgQvzJqWOgqshwSDzOXrNrpjTV199aNQ233OAr33/k1+P\n",
       "ubtt3WHe2RU/F+IZmnBp14lgfBcnf6JpPmGwktajvbVeuF4GkAxJnLZ1UE9uKoks7oMlISU45L7X\n",
       "ktK1re6PyRfi4EJGOZH+PGEd3Rs3ekLK7CJ37Mp4QM+xtFEXhNQl+z3Qrgx8WkkoAAvWvfK5afSC\n",
       "KJZCXZ1//lyJG7o6JM4EwzhVe41ikZFZww81Q4cO2BDW9gFRxqAM8DB9EjTgzWwevIR/h+1okSER\n",
       "3XbvX8NLdn3amDXvu6/XekczhVnPMD4d/H4RlP75rSNatihmbvt+svpBrUhYosuQ3lvipmdXKHR+\n",
       "KierVR0bcelhjCjsE2/k2zMiZZi6azqVQB2bcGrzwEVtGp4Md2QZMuMvrJhE84C3NY8AAAMAXqJz\n",
       "H9lq/YU/R1bqFAwefj4po26RgqybBEmAGl23hQbhC+Y7e5W36uyaWkPEWtHo3P4lbzECChhVG6CF\n",
       "L8ak8z63AAl6aFi59GqBYKqAnjVyB8zKFwAiHIZ0YAAlcMNqgS7CGNVkyG8gBxk/pW3dINEGn7bL\n",
       "ensihPG9F5OaJzPi3TMfjF0J5rp0ePPPhxoYtcAAESq4MmAl2rc/KXyc56e55JBXVrh/aiyTKxAa\n",
       "q0vEeMcfwd4CDp+Qqb+DY/HHeeo0UdZzfcyRlJG3LKGLHFCc9UesUJvr6H24RmVaPIGYqEXPFG5Y\n",
       "AOYeI14rG0paKUOAWNus9z+knEakwYaPKUU5AhD35+wmSFwKAAADAAoYM/pQG4AEfRcoMQZJhlx8\n",
       "6CGVusIonvR3jL08usAqBI4utqYHl/bvlYFW4A7/A4zIELInmQoB3slnCcs2/2BgLSa/InssOoAf\n",
       "Kj9shZZ1qI+tFCXiolQM4p69PvIqzoBmFJMV8Fut62ELTQYTV1aJhdDTMqag74CO/K0A5tT5mXsZ\n",
       "X/1QDnbF9oePHYSG/+WbPu92u26F8xcxMtcBvoC+Y3cocinA0oChIjwY6IhYjIVhq4r3MFLJMj0u\n",
       "AXu8geBQ9TAsPpGIrwXTyBA4wbRzKp/DpxqEApa6BLbM3I+uZjXRNUQCTfzJc2OxHInZf9t0PK4C\n",
       "sB6CQUTbrl92iQZMCPvvX4sDY2giXJoum1d4T7dHAABISuUoAau1iUjbTfJZAVy9WqLLE2bWHNed\n",
       "JXe0VPhWG12HFdQ6x/bD+ObG+TsEYY7I92knMnn+tnuqBqeF885DaxqAZjZTscB3EBOXPuch7Sqh\n",
       "hiJvgA1k90yWorRcCY8xfA2Dm2SPO0AAAAMA+ba7o1bLard4x+rO1jbiSNB1i9AAThMoTXAS4mrC\n",
       "FJMd0vCA/WFVtpFHk2vrTswGKD88bOLaLO54oeMCEI5o3IxMEPs7gU6/O6umS3tfAjSvQKlB6Fgx\n",
       "zoAAEEO+zrOaLqgBV9Or4yAVz9peEn+HZaLHs4B31W1oi5yli2USaryJ6I1i+M+WdzgHUjDl4wDa\n",
       "Nxt4HFNczoLZmHW4ocgGrK67vzZQqf2zllWs2gxcoqP3CZ+n8ESLjFwELkkPce6GNkQ9MWm6Tj0S\n",
       "BoAHXIcjzrHpoVA/sMrVmonoJwyrC7VrA9RaUeS5i4Xq8DQXFtDVnIua8S4j3waDd9gICrqUJyUP\n",
       "EPwLAdB9n9iPH6CtPAhqGEqNWJxRzMLW8lpEbvvtlEpTri2JKWKCk3OAAAA6YAAABT5Bm/dJ4QpS\n",
       "ZTAgn//+tSqAAAAGe4GtQAscktdHngxS39TR0Tv5e9i8NPwX+sJpdVn5ek0jQ8ucHl3WGHkk4K2K\n",
       "PqZ2s9Gl3bRFBE4n+ZJ15VrBQJWOX36usQ+xGKzTyABYbIKW3r5NltmYuvsPC40YsWnHcf4LueYw\n",
       "dUHWqas7OvuJAVaItC5Jk4hUT5S5xbggwU4ExvfknqAtwYKZmLr89w01XWl8WCr71bdcrIAADIWD\n",
       "BMAFV4/74bUS/nrri+LHG447dDoMRiPUimK9EJ8rNN8lQMvR2Oj5GnCLMN2nCwPCSibdHBa5pSZs\n",
       "vRiPMlEgUwClIpP/fTe9NxvaGGb+PQjBuMsftT8HErxqLs0Qdj/xy2/Y2hDvcFeo+hBJB+TwyVyB\n",
       "nOtXllbJdTDAa6tjOV19FkBTXkoWxqjRphJL+rF/Se1e0C+NUsSw+THyBYPrmHJxukjEZSJKhWzG\n",
       "ApmQt8ZiVz77829HjlGZZt2dkEDVly4QMAAxnNNlGJcaEdbMCgWbbxoJKgYqzbFHgSPwsCYq7/UA\n",
       "7RmIrbw/nRSjWSh/uYJtfmzN6jRQyG07n90wku5V5xggU7o9SV+Xx2LPDDoHIzA/SO6QNDH9prUk\n",
       "lQ3htR25x46gbVddwx+8HirIjqXcekmFZkdoF1+FgU4R0c5ntkf7bf2ceQlFkdNN0k1lHAm+1H5K\n",
       "6w/G/9E+ZwsE7ef37BxjJuzZMRmIgCDoXy4BYd59QbhuimPkDc8nHWj133puC//DF/kS74j0JA9s\n",
       "2URse13CIcTenLMWfap6P4U8hy1cxfx8F8LscEptxMMNVv3rqjHfKIR3IZ8DSgIzshf1s3h2g+5F\n",
       "2L4MzFPwa4GPsbB7b3lZK+GApVqPDOxn31Ibqc0NrQrSy1VaAl1qzh5kaFdvvNaGhAvpmiFU3/Yf\n",
       "3hzddOwfx+k4To6BUOYR6AJjGDGhZ7P2B2V9HslG5vhq5ahl/RgxV17Q8/nuaWXi3OHVsIGTFqxH\n",
       "636JXIuPDZtVJpqvCcLWu+kCcamZ+OqSIP4RrqrU2ZjPRuIk1IZWIfbrUeRq6DDpAZuKA6+ZF85d\n",
       "RyroFaqrS6VYtGwvVMLgKTvAwWaM8AqDt1dUbLtQkCuOGTXCQZxhgh+sDpZTwKlWPPoIEMuLr7qZ\n",
       "OY5CtweLaYiSF2SzYLotOXHjsK315I1yrNP5PkuIrpeRnagBhFIEMefdZ39cFHgkBW04b5bYSh6L\n",
       "N5AhQHJy08aE6k1R28zth+ZK/Q1hiEtK8R08JGUrExdHl70vL+kS+Hk3Jb0KwFnvVYVnHFj7JYDl\n",
       "4S+KfdpEcKDfdSV6rHeZPfvH8fRx1OH+l0MvwhU7/dwleHO6O3M3SkaxHp5gb82iDdB/X4qmItAj\n",
       "nxYxdn5vpUue4CQkYIqAHZpEunCXDgkurLXKRU2S4qscZrZqoQSQe5nFRrNPw+SfFdt+gG0ayE9I\n",
       "cEAGTSffRbsSMwtUyO3dd8b4zWT/KtzcpcqVUcLrwABCloOaDS7QgoHGmtoEswAAgMyzIl5YKEnX\n",
       "Exj0PxXU/CsAP0GA20jE7FN0HxPG2qZN6+BC5T68mOdguw8/GoYYJW+gDJJOTKjJugDTewqOMN8P\n",
       "KG/wjITlAlGCn7dI/rWQ6I7E/OZNooUABelyGGeu/CQSJLRCf/QBbJkouycYwUcL36sLha3lyltc\n",
       "0fCLZn87jDy2s199IsKKqgZoC9Pe9q62vcRCQRgLR0l6pzxFaRVKyP2xH8RZgfjBSu48VAcREw2+\n",
       "MzOroFqUls4htvkBurKlYnUpvDgAADuhAAAJAkGaGUnhDomUwU0TBP/+tSqAAAAGe36gALe33uO/\n",
       "3+35ZIbsaVbx0D+L9GbooF5FRsYLnuB4yYVPCCwysfY2Iyckqwml2ehtS2RMJe2/YvGXg2WZ0oG8\n",
       "GtTsnZ3OXZWLWXADH2Zfr5d2ssFc0rLRlWaZLLobb31rfG9R/WvXcZS7yDVDxd9+79xzPcas2idA\n",
       "AzdA4F9Mu3K0lUcsSDg0x+ZKXmDiiZBEMdcNvyZZobsVGl+wR6PUL4qHkRXEKe1DAYMihg7/k39L\n",
       "kiwC/QpeO/3M0XldcTZSy3//Gatkl7I1sz0C4AuacFuc7BiAciHeiaGwNWo9zC4M+VaL9MsR8xAx\n",
       "0LAYpoCqebzN5VSYN29xKr7NvC8/wkp/bX3b1wcu82KCkF+G2hgSd4DvQf+EvQq8JfmqBn2k+Wyg\n",
       "35yWrQM+kkVeeAN9dNCW8NCgOIbxi7RXWULLQof7TYrKCw2bbU/l69K/7rHO08ZTCrCUZRpbaWtd\n",
       "vfP7CB2cRn2om6UdGPsPrnJl6iTjHLEHJFKZtzC2uMnco2T4+Q1I/pmhCfj7f03dubuxUvj+GXpx\n",
       "50SH8IABCqcsekX0WxL7gs51723Fga5fw2vN7pg3x5iOyL7Qe0myLp8/GWZQc3cmTXJoOVpulBTF\n",
       "PpDdD2UB8ZoY6B1zsMr21w1JS+uA5WIQ2pti42tJWhil7PEpEEmdILJnWMRkVaeMH1CucPep2BrQ\n",
       "QYqPdA44MY0kvGK9FoadXaavrB6vbwF1Cj786NV+znFd6CCzvMt8vKDBQ1RLkjUEmSZyDV8q29Ry\n",
       "vAR3JK2u3ymjieYkWnJzHa0M29zG8IbgaP7lmFUtLT7zm9a6ytscPPcodQ1ATjbwB7yvpCZMIZYA\n",
       "CbtUCqtzvKB6zbb1xtUXLGBjhGQHySOJcJU5waLUCn3fkcKkUGlR6PBPl2w5lnLBs2dJye2gcYv6\n",
       "iLiJWvrSnTdTqXljp0ChjBinx6LXj/zeQLVgJ1luzZSmlr6oHr6HYnQlSBUoVAOUpICrWzemi8DE\n",
       "4CrLFt1fXiJx+bK/9HX+8In22/OXYVOTscDxV8C3WU21EnCdJrt4uBw7SSQO/zQpicGRRcrXUGo4\n",
       "XvFmxAEI6ApjQ2y+y1IKv3fV1pFdyk385sLbDvqk06WvgbhG4J6pOhA8iqzJOo8NEZ+hkoskwIme\n",
       "YSKYmG5n/emqRIpWV8fcy68bJ3L4y+8SMMN2hJiDxzPpDIjV6lxM42FMi2jmNATvDU3iePKWFqQ1\n",
       "WB3aHHx07Sp2T7uAIQIvxP4iyGyMC6wgHtKU6JLi6a3Z8SRPCejJe2l+sZfhTrBwOmCHjHJ8/U/6\n",
       "qjtiizOmmiFcM4W0Wa2LF72onUVsbRRWC7rGHn9z6rWAaE9Ai4gaL5Q0QEqKvkXAAgeC0vKDEktC\n",
       "vcDBPilKqdwgkZgiJ+CjiaFIlphhDB4r+UovL1mCUYpn5zKMeADqo0auUDqePAuIHvDq+KvToq1o\n",
       "PJw+kYJe33rCr88WNEn4dX4tZe5i1BSn2BlJMi4yz8ZaD5akddjEV20fsRwYY+v4N4VGHwqUi3Eh\n",
       "vhdVCQlYbpZOaNqJ81PI24BIEJ+SkHxdW31gNFWRoo75mJI+WcUSCvNm8BuPUaWEHuf7SedBqPMc\n",
       "nalD6kghicS2aI80evg8o5BFt1kBDk6rjQhsuE4uxOlKyTYLmvXnqT9/j6CDvTtukx3dCJHOmDs7\n",
       "xgsP4j4909OKHUI/OfelNmHODDU04ARPIDYem6b3dsAr5O8+2tGsbMWxs+1kso/GrQKoTrkVOFyy\n",
       "z+OblBw8OGkqfnk48X7LEEQBWkw1pz/w89kmzzFFzWa99ZMHMcKwu+qSW9Jt3N12H3N8HfIRXKGD\n",
       "WJCufsnOSw9xdy1cJnGw8KoEG2XSIlCKXIkdxmtkpSTJ0OBnQar0tCRJ0tNh9Ba8L2yRhX1e+0bI\n",
       "X/x1gjIlebhIhQKWKvPt6ePoShVJB5caLVfhEgDK0FaqQyKx0XEYg8u1Dq2Tbjlf51mkMXNe2/FQ\n",
       "TQLijLKCKM6aURQN0ovDQeNi88RECU+h0NxP654obRMOHq98Akrk5bwsy40/mmMoLWPPCZOnEWzp\n",
       "pDo3Qo2VQ7cSsHgLcguvGPUvslzP725tzyJyi9tmauEehdLFcIUE0j99AgOzFOsmvMJqB4keYoqL\n",
       "0lbLIB4lqO+KMcBwE805pX/0dyYShEC+bYu8/iSxqMEEXY5Z23GTA+dCP4l0Fbcl6Ixdw50hyqoY\n",
       "q9WvYlYtIczSarvH9EJb0lpURCkaefygtoVZlZqN280brv1dMnjixyc45KPLozd6MyeIecfL5IfX\n",
       "Kqkke3MYEjcK8F03hZcd8apGwnMLVh1bdsjvDJszJ1FtWTlir6BqLrsVYpfi6lt1i98ryKqK6/qJ\n",
       "MJJLcenMTngKi535mUUZzxdYzZ8+KIUXzNt1SZYHSNdc38Y1iEIPPdvujvj0sMezOx1lW5Mptj6Z\n",
       "qVfOb/zI0Gfsr43vnBoN0d9qctWnEmPhK4b6EX9G1WIY4ZjKc2qPBVjFqtaRi8ra8sKcQT1Z3sC0\n",
       "Jv1y46cDedJtJp7YNamXU6RWrZxD25+NfsTD3HFW2lK/6mR4cFS0yD54Ry5y1Jzn+FEDV6ckhbJ8\n",
       "tEOHiSNZNmyyJdNAcLQhq6VKP4TPkGtJnFUiUFLv//MIxIfhuvNrUBTiNXMIDKZpAvNBzcKzUrnr\n",
       "yj7z+Z/bPbQfUxx0KHUFIcXSq7qiXVhZf/tqRSpGRbtKL98CjuacYaI39OeKU+Pzv91j4X6Y01C6\n",
       "FXSXNL8Po7hJM1UdvGYTCXe7repJgqUieZptWNbUlpyqY/1j5yKv9FoexWz9FR1RqLjsXzK2lUpq\n",
       "+q1AyzNUE7/ghEh7GGpXh00Ffs+1aUXmcc71e5+yY03rUmm8TgkgrrD3CZfypVvg2h3pc5412I49\n",
       "u6McAwIUtxx57LWI6Q8vjkwOJJiu/g/Gn6tyR9QP7Ka3Av/EScosJi0Dp91g3ZbH1UDyhxmooAUi\n",
       "MoWHvQBPOmKiNflGWCN3d7wcfFfhVI7+yoWXC9qcRMx9hDBskjsrR4dEgBCb2tVCwWIAAFbBAAAA\n",
       "lwGeOGpD/wAAAwBh/fyHcJot5ajWXhJ4xgP4bPXEtqAvNzkaEacV7me9DhTLa5/X+77AGH/m7p0w\n",
       "/+O6rJIQyeF6J0/G6ven5XesAENh7gb5DYXC1yk6PiTWbXIOrZEAhdkG4QlfDvRxDt4sSfT9r4ol\n",
       "ldyajDdc8A4V35D4C0uKdPimiia89xRRcEmMsjKxlFbNIAAAakAAAAvvQZo9SeEPJlMCCf/+tSqA\n",
       "AAAGemudfsAF1Y1Qxoix/5tY/nr1Aq7Qn6nm6QK1hHmmQtLm95Jr55U/pt3pMToTP/yuxTBUqifS\n",
       "JAiw031sDOgMGTAklxqTTu+aA4cB4vOv2+QWcErrCm5vwzn0PRExksE31JClbY1YjotcCyGKZGIE\n",
       "icYUpKytkz2jqHM1990HrbIlkHkC22M7exGTS8/pboerKUued3AWDtd5uG6wZjKocbf87Burcpfn\n",
       "msN1G7D0qS+1gkM55aF35OIcE9qKSj8KlCtVbme+w3zPE8jsMEDyEPEAdjxs7pryOogMkCvjrwN0\n",
       "zTPqlXB9Dg+d0MHdxkM0bBwH/neKU6LfmB7VD/ncICHk5LGZjpF7KBhshznI4E6sy6CN02utzMtY\n",
       "nwnAy3ec8nxX8Ukam/Bk4UTxXOFVUbj99SUbfN059l0knDP2T9YFG+NgKJnDTaJDs4WlCrPq0YtG\n",
       "jFFrJyHDZJE1emqytDcnFyJbOlujz8CSmADd8jR3v8Zir8DKG9U8ai89zkshX/NWjpQi157QXHhj\n",
       "McPNmjRqaLChF/amT/akJj72d03Af1GG6EVQXXm3O3sfS43mevCUuHUcCofMvXQGGCHFyWAqcj7p\n",
       "BBnNCh+JdzAbw66gLvbBnVNogkauv+4NxMK1TpaCAZgXFcpP5p2WvFwu5knV9xEux+gLX+6A6bR3\n",
       "klrbCYLWLRhNIBFNvX1TLTudO5VMRYZc6xARPnxtbjWYwTvi0VOkdhU8641sMHFOSqHYvos66piH\n",
       "X01oGW2KW83KCFsMXriFA/uhiMHfr3GNqb3AFZnCqxuz8Dmt7BXJmlbQ15R3BGgvuSSXYf/pnqgL\n",
       "K0jKnVHI7EETLzk4GgVqLoIcL50/H+BNv75vRCrLPl/mq1TbPruQ2zKQnRfWEzMDMv0/+HdwStfv\n",
       "1QN2Bk/7gok6YxsxtRv6QE28eeBmBgmSb7F9w1V/gqwKGd4LnpgqJy7NPosmySTMnhxzqW5JDAuL\n",
       "EtuRY7fz+1wp8BmhgKu7AB8X+niBSrGWMVa0G3BVIAUbnG5Lm0CURD9G0bTMKuupYqg/wPBaXT0o\n",
       "PRGyAumFrv5/FL3R+9RqGkTFaUnDXoBc3Ki2HjBgPUc9Yafvl5M6Kyp879oSO/JzoEmOlVP5G9zc\n",
       "dhVoKgv/Gcge+8wAWeIURHf0vSTL1LZlg7/Y+JQ4ekqhBizg/M8A67e90AQsn5EDBMjUppoIdo5q\n",
       "hYsC+aNgc7FWBLi0QSrqvxdC7uGAcdGHVR1Go/1raiUUJvIKdFrtQ4gJRrwgjE06R+BO8moUrt+n\n",
       "RAanUUjNVdJSNW06LeZdc8VBsKaTPTWslWPpNp0qn1g8Ek4BcvWeg5MhuNsZ7ezmcs8ZVCHG9NWb\n",
       "A3U6kn+vYJxU6G2yVlL00A/OteV8ilw0KF9WG2S3D4S4iMW4DTN4z2UZlMgCLPd8IFBvSMEtW++i\n",
       "gl4bV8IIir+TQpqUQWkmV+Tjc8i08vRmSDYiEU/gciO+WjvirWU1Pwx22tdXNGXyb47+cWeJ+Vt2\n",
       "yF7AZpN5JcFs88xz6J6QJH8l/OkdW0aBRb+8KXPWysUfpB2Afh4RphoGj4TPd2c8pnRwe6SDWO/Y\n",
       "SqBB8dI9g0LpQgO2puLzJEfXqxnCBU0oEzBjWg8YRjq5ZxXw7DHt8NHaipWjrxRR8WLG8MkGKSPT\n",
       "GBXLPcSwKzMbTOHlICCblWsml7ACuiWgBmJ3fNYBkn2MNk9t7CTDz2NdvwVQC8oKDTz1HhjBv4Z3\n",
       "ktIjJ3uxzi1MPRcDy0JFmQYEHKrM40S/JRvNPuljS6HmIz9IxLG0z5Dwr/XP6r/RoYNUfoCS+yAo\n",
       "mRsd2ZHiQj3kidljy9hHAxfm1K/Byqtyhal56Nr/49HOke9SHU2WbkXrXH7AwVdnYrLl17XkJgob\n",
       "8dWzwn8PVFTDicdU6TTPc5dWw9LDgFOMeuMZKsIQcge+cLdnS9boEASnWY1HIAs/9WT6PF7HJyU+\n",
       "g5hTVx9JtwJ+XhvK5Z1WbwfZ5WqTO1c/z/+ITMkb3J1prjGS/TUsRi0Vuq+n/4BygC/56WVCHrtJ\n",
       "TrvTQd3SJZw3i8fv+nDzmsM7rhXEm+oZbqXLjyRoqdMfrdHf6YsfXjNzyaOyRzf4fjkwNV59mNpX\n",
       "leOK5xnNbne/u1Amll2rSKkVGaaeC/p2IQESoocNa/QtJCERF2b/a8tJHud0fplU6CuoGZJUUMRX\n",
       "VyQ8S0fwazNXqJ1AuF8TF2knz++DnzTOmKdovO3/JSCODK9F9KbkD08vXO7aMnaegxtS4REm0aYQ\n",
       "0005ERk1XoQh5GL5UoKSSiupOzort+KrdM2j2LReh5yBibF44LDCaHdC9CDSbb8Gornj6mv/CLAo\n",
       "uHQpczRZQ30CgGD6uwYnYlyoITzyuyiPbruGqito5/SmN82D7cMcD908yBhIR4FVnJnaSZsC8+9E\n",
       "dZKP2ncqhM2xa1sjIlG8mKBH7ty4Qe3VJXuEaz33lg77558Wd454xr+bBKYr3y5sNuYtIyzKA51D\n",
       "uaD6KKPRt8X8fxW9jA4L5zb1p7unmNRCEVX7A/cdcJfjsCQKx52Ba9GmsQ0/dx56jlvWlpFwjvGU\n",
       "VrVzaFsZOwK2Bq+Ru5w9LUyS3YPVXUIfn0Lt2pXx5JteBwdPWDpfj3WlG5kaZksH5JzkzCrWHBsI\n",
       "LGGigd/wdEt8X0t8bGCrkbeMLMCRJdkPVEv2g/BkkJJxfHeVf+p8uoh9kfR+/6KOiiQRNu30FziH\n",
       "Q8M47R6s4wQT0VrC0knruHmKDWL3mZv4da0mSLcQrTk+2JOy3gmIt398Xy6UJQ+Zu1mWzRj0Zp9D\n",
       "XxEMXF1wqoyotatCSfPa+jCODZWiSUUpQU0zXdEDyjkK/T35fCteZMsM73RVdPFAB3GCCbQXt6q1\n",
       "nbzHTweALMpqqM0aZV59D0PIEjwqGJsQT3c1Df43ldLAXEb1b2Q1JDHftnra05pPSVzX6RlFfqEJ\n",
       "gQqFp9FbexPIY65me8vU7te/u9Nor8Pp0OsWx0Bjwi1SW9jmQsvHCBrxGDTP5sPDol3lk3RTUlb9\n",
       "zsnR6eIgCIlBiQ8bmC8gG7xK7FDvZDXLdapIIO3IuwVZR4WQ4flUCj+ToxAbB/l/BqcbIBWlLeFV\n",
       "9u0b5VpZ+3qiFa1ENYCfHisrWjBr+zy1FRTGT16LI2mZR31GFBcYWAkdLnQfwzp/fMfTZqdKLQ0x\n",
       "iF0bso7tvL+jyQ91jg+J1/RHnnYR96ZzQ6O50KpNYzBgfj+Sj5NbEaI+wIlhofHRPf8fuUS+Lkxd\n",
       "XcwtQFqgzxPbrfX9FnOGG5/KhvXmGwdN5emJISzwU4n4EmiNZ2Fi6ZnvZOzKIBes+i0EoeELynJ+\n",
       "9rwl6I/O6hlznxia9warYJVN1U8ctybHNRd6gztT6SXXZbDZMv4hBHEefJZVutmHCpIndvOrCzxd\n",
       "5Te1UEpQdva8DsUF9jb6n9zvuvdo+K6Nu2i8A6tAT5VQK1hBPSEr/uGk6whttD6nBb/DUqxXnDIy\n",
       "KFNYGcRbVgs4B4auivmeFmNBzq5m+EJWL5Xc9LUf0aeRmBdkr64ASz3Ve9SpQhJYT+JE1/UgTxGY\n",
       "0cCVWaT8i89r18GK/whMiS7+hEXADUKy8B10Af2OKAvfJg9xVNFCNP9UZLJ4QI9aRv2IOgQ3F3pd\n",
       "MfTDIXS83Zzq3tGDRlWkD31WSxh6GbQf6JITHa3whH6JBJbc2Da/XrKVABoq1VINlK6hOqLayO2X\n",
       "9VBaEadSJjBbKJfYnlXmAmGddCxSG0kDQak76Tclc6cfzDIQAOU6hGsFm4lFGaYdchf62HaY9fBM\n",
       "lbWOiLO2IHVxYaVdFbxBkUe3QF//y79dusxxw2fqOD5fwy3uJWkv2tejSDIjoIiNZhsuP1QmleaY\n",
       "KyySGLpF3iCHfatrkqOXo68yrssFJO7b1bPbp6I8GBuoE2E8QAQM3mtle3ZN9TBMPAUMPyD5AMK0\n",
       "tHu81GGBrros5hlsOj2Uq8Twj4q17jUpZr6Gqbv1QvO0yX9VGHMlrrIN/bjb3hH9XS0p23WyyN1b\n",
       "qtpmAF6srJeEX/IU2ckoAAALKQAAAN9BnltFETwQ/wAAAwAsQ72GdMeGreKEVssJCNqXxL28DrQz\n",
       "5+8aWmGC7HJtANYv6IPH96px9d6SB2qDlntJNf98uzHvE60od0Xv7Z8RIl6WU43ZeiRNcGxIZVSj\n",
       "bVVzE/2/xJuN8298Ujt3KgWPIIjK6uVzS+8+yWLXF+RXLV8Ob/0wDhseGlZLRHJbLkvH9et4i/Zs\n",
       "Xb4fK7SPf6ArwlteZsgEoNi+yZs/0/rQp2n/ID30LPaQVziSCPFumKJ+3I9pzPT+fyPeiqydOFvG\n",
       "+D2SzV8FObD7CGQxviQAACkgAAAAmAGeenRD/wAAAwAAhqTW99QAf07BDA7WyAq+GVGsTF7qeC8f\n",
       "r8Pda9LNjw6H9RIZWeo4mWgo69xr4FdNwd+C/M3+AgzDK8g2OcITuCwhEiL8C8jDMOBRo8zk38/U\n",
       "0Okni59kVWjk0c57j5ZVcmLVmFnzttZ6qHZfwPRminDH5GpynDtp0EG+NxEQzbomM/+r/AkyAAAD\n",
       "ABvRAAAATwGefGpD/wAAAwAB204x1a8+BdpAANqqojSDahi2rVvfYTJIPUkbYUPYy1Fi6FhcglPz\n",
       "ZymNZhjgQ3ZWj2EdbIbpKb+dxscu8Vfj4AAAS8EAAAsMQZphSahBaJlMCCf//rUqgAAAID9qGcQ/\n",
       "xOY0AAH9AuWoimP8EKDyuh/rX5x3qPe9ww+f8rH461qU+oEgGKDgoYSmQNKVsfrF7A8fVqWTw05P\n",
       "KfnfyrYUpMzOAZIlCim01rXMZxcJCIv/2Hh8hw+oWE9qm4AOTnyXVqidjAACLqOwJN/iqWBMI7FL\n",
       "PNwffytXBZb0wL9M1N8UMsS0s6X8h57Rmh12BhnvFuC4Rj/if/8Q/J4DS85sWJ3GLWwmbGN9dLhW\n",
       "vatROy9KnKs3YDxtAa3ZcxlO2V12wfhKd1qtuoY6olct/1w2JTK9AJRBodlCs1Qy/53HOwGHpW6S\n",
       "hS8ByfDn35D2ExtUVIsXS8NET8FxQKuK9lBORF0waYhiTHQ62AnzzubDrev6J0RdAql2SZAXbSO0\n",
       "d+/tzO1pSuI92ra5E4+JDKmOSmfwXdWRJQJiNZIiFgujiRseem2ztiA3lTSO46vIEFpdi1CGi3An\n",
       "AY6ZcOa9qAwM4bRrNFkpnWHEzqJNclHPVCvehP06A2sDdrwRFVgV3liEnjL6siyS39caOUQcwuLa\n",
       "yK4CDi32VbOFRWPVRGCm770xRT/G3J/sOguEKRWt+cU3lkvB2fv2OVQ+k8/ZYhcJ5DtqeqeyRmtG\n",
       "8QSD3kP5Dgp7fNNG2vrGFxk+lIjENqFl97Evk8sNdYEP5BUYAEcUo+JSGzaqvJdXLnt7N0E08EwY\n",
       "AfQPpsruU1s294kIrwnND95bnpV1upGwsI9/jFgbCEgALIJejxH/xC6bBa9CL4h/E6hZY7MATxhQ\n",
       "xItFOComm9L713iqceORjMT13vl3qKqB5wMtzUZOZTs9wHECVjQIR4F/8f3kCHXN9ApAy/+2DvTJ\n",
       "5ygEv7PSHT9NYzz2Un83MhjRdPopypfb1uS/s1kEn0QpFIVHhuhpQ86g6+tvsHYbpOJdamYNdWXF\n",
       "iU9NDuZSa9ThIhdPi9GkiPMIT+9o1u6wLmhki5A9QmzcoSq02Ph2cqRgqmJB9bdhA68OKgDysw1T\n",
       "AEmJmbHampP/DCUdk56rRNy+q/b/Bol9wdlibB1QmvicyL1vT8ZXi7y4jeBMt865FQVGhI9qoPym\n",
       "L5cBtAswOr9uJeRbQPqw6BL56tUtgcRO5TPdXB9cldbWJT1xR0dhwejdhkameK8j3OBgQx4mUQge\n",
       "LvwEIN4xqyNMVSHtW6IjXg5dhTKyzpq+wuQSp3B+tjI8DmuLc7OfsBOboKdKf0CafLYnpvB79StM\n",
       "3ZkbzPhAER74mZ2gSmuNZ0mgTtY2nG1lpHxJse49UjvQsZzzcZypW4ujbCOY4mF5gma+vyi4WHJw\n",
       "YjBRBJqMYH4a3jobiBc0xTs6B62hqgDkIkx+9Spr/tNZOTx8c+Gh9zcIAaQRCmQL06BsKF2wExDo\n",
       "Z+b0a0Kmh4Ulj47EL0NM/da9xdWEIvZPogKWjSSkYaEezr88SyiHnVGXmmKG/DQ1regpS0P6h8S+\n",
       "Rtrkyxd+IYV1AaoFp/Xzia84ohdPWLALqLXTRNeYJRqagHzP7LbOrZh4POObDCdi71mq6hSt8Run\n",
       "iUv9HlaZTsJRxQiuZ2mYeLTNZFePvu2EL3mgzauS2y/cWuXumt3xUivqvN2TtwOsfxbcQq3jhAc3\n",
       "ALkb9N+Jxzvs9HnGR7ODMkRgEzCcwyI+I/WpMMGydvKxV+bJtOH6QzB88UDjx7xogixJiVbBcNnq\n",
       "ojB8WaEx76LnNv8UWlh97Frp2syTQ5LRRjrt5HCE9f760KVganFojR44rLDdasMpNj8NdE526Pqy\n",
       "/X6qJRic9FBuEzMHISqrwBTUx1L7tKE5FZBlLlQqT/NiR+DW7mh8+xxXmo/WZWCUN7r674LuKfiX\n",
       "+t3EJES3+xUqrUjOraHsRq8lBK4dpRDZvRnbZpu3GBNsdiMWTdGJNwx/GpFVOg2aVPZjcS3VGQFl\n",
       "jU8S+eljbP4FwepZIMyddjiSG1jAyukrKal0d9Ucfek9L6d6xwzHwuloxSh5Vhvy/F3IWPJx8hk6\n",
       "7/6PmS5cmyV8P2a1jbeDrBtNvq0Hc89kbOeZsn2RkP+wG2IfzA3//EFOmL6Jc5A80gczUB3pcFRg\n",
       "g2+2doZEyP7Iymb7FpXxVfCxCGio44G2jqgFYEq0ILT4cw7j5yTW6yctGLwZY4OJk0dUn3OK+4L5\n",
       "1dyDgh8FcnPxtv/NCPdjA724v0XK3mbXOWv/h2gevNeHBBFeMXvO2ry9xaQSv4SRvrPDOrzEVjoL\n",
       "XlyoMxc1TSoR1uneeeAYzg+2mycq9oXgVcnG7b2iIk1ZV5xBFNpBfGyuJeHRQQBp7+W4VMzxx6dW\n",
       "wM6zrEsrLVIFLOfJWsjlYzigWjc+twRywu6YwJ6hDMqgDkXIWUTFVK5QPsRlaDi4Rvoi78FhAWdw\n",
       "zCg8UpHs/Qv8QSPRKYAk45Kz9p1t3VDyOyM2Iw6gDIpJmwNDW9nl2XpN16S1C3n6ejMrMZ0qqUNK\n",
       "fHeAVOmwDpv1FyLO6dNbqna4Q4Oayvkm0PZYwGLDn6rax5aiNwegHYSqMlH1SVyJYltHLqu88w8i\n",
       "ef89Vi681+IJYRnSrXGHPMGTLa7yMu9cNUX5hNRAbNAHmt5PQTJh1brYGCWTIpe2IiUu8nRfWEvM\n",
       "8kbmrcvxdZbwhF3NepXbFEX4VWRiYr23WYX8TpBhQMY8+KRMf37LvinE9PChHyUlVijY4DpvSr16\n",
       "KSMF5EAM6h5ybq0z9udNsM8KBJWzRo6CbfNwlIgivtbFYPsaZzopuHkmuIvMLqGsmNmruAMQT//X\n",
       "mf7ezAkzt70h3F5DOry03r73MadtuUpt9SboOrkqK43FkuvwHm06bAE0MYiiboVaGD8KZi/SloVs\n",
       "N15yTwmHBfRbajJVEDWQz1Ix5IDiG2WbWo0MduHrctBJl12Sf8dIjLFzVhF9BOZkKJzsIgBGL6ZK\n",
       "opmjXA+U3HmzJsQsW0pE9oMWl6QBfd84JwMMUMVkQNUjbHCa7M+FfFod5hWpe+KRPYzRNho6hRQF\n",
       "sU7cnw/VxFYsHp6VElyuV94dzXZNb/qpGfd/6dxfb81zp/DxRCs2LPgDrE7i6RIK3nTC0BQywSed\n",
       "f+32znAGcoJLfZaP6o1hhUOv/Id9xN3MCw/mx2JGpvE0PEpcSE4Llenejjlmay8O5YnY9vlEWSwk\n",
       "He0ltQ2TPCk9Vq3XDxHOws9lCvACTw2ogBATENmpr7bC6vgBWv0ByfHzHzMUHQxsH4QrvhiyB5T4\n",
       "/RpiUpcPpYLf7WzL8Sbq7fhQbXb2sUtANNQf98fy8FCoamq/xS5PCHEHFrd2/EoDiOXSr4pqMCyK\n",
       "psk9Vy1yhng63OBVwUrbWcAGGad0l/rA0L/RgzvePHIxDAf1D/muFrl/2UZuVVHcStVvip7EoOYx\n",
       "UQApjxQ3+bYo7/MB26aINV40vDajE1LMECRUbSQHYvSKq2Se99drWUnVf307lAEBitbdBqpPsZdU\n",
       "euhmzIBANV2rQq6+60BZBhjAQnBph2BHxdykI9fGYOlqPgTYXxtKLrbAaHky/6wEqVL0ssj/lQDX\n",
       "vpdl5xGcxzj/il6XdDIwd1zdVMVwg1tlu6ZWiwl8Mr18sn68JF9IJZcCdA6JHsI27CYZUOM5Vcgi\n",
       "AnX4k7ITmlbfJ3ALbz3KnQB1gsN0IrajgEcuOhP1BeeA777K5VVW8im5RMiQS3ddWOr2H5+JTldq\n",
       "ngHu5HHXj4PNE435QFRLmC/vFDz/DzYKBW3V+kU3zhzuVrF42y0EtJO+Tazt+KxKfjY5o6k3eTJ6\n",
       "p9T3NJGgAAADARsAAADhQZ6fRREsEP8AAAMALEWmbQz80psJZjDgoIAaxzpKvxSA9GD1DbiX3Nz1\n",
       "nqzZ/ojeNV0A9JL7iw3gI5aoLt1hDLookJW/LvhiKvZ1KTkv9xdisIFcWwXiPrq1BoephwbZopuW\n",
       "JOAnM/F6RG2PhyiIaPZ7fqiJ1rIOuHxaVAsOO2U6KnA+Ch8mX+b+C2TPnyhKnvVtRX7NhVW9u8db\n",
       "Yae8/QlAgyET7fNIJ7/aWz5X7DWKlFYt/c3hXtBGnPwbFws+TbQVfQdfUU6HDQuS2Sbx8NVnnxer\n",
       "GR5IqfMAQTMAAAV8AAAAZAGevnRD/wAAAwAAgUstgAcCF9iwkAoVw6ZgWsanhcdcHGjPzyindlcu\n",
       "8Ywa1stnaeQKmbx2NA/B4YtrIH77OCwkQDkeOGTVgd/OTja8D1vtrrYoL/aAXVCnJ30Lhv66wAAA\n",
       "ccEAAAB8AZ6gakP/AAADAAHbSt6wtzUWNzi/be6AIdv5UhI7AAJbrYH8CindP8V/dIzZMp3K+fTT\n",
       "GZ2g8DiBE3wn5xAGzjfBh/OJrEuK+GHfusNVvjBMB7mtg5wrtAwgV91cJbYGB7Sz/KrDxQw122ph\n",
       "LoDvVmcY8BlfSryYAACXgAAACOZBmqVJqEFsmUwII//+tSqAAAAGgWEAVgBLMG/t6eeyyTzimzGW\n",
       "4meyeKKKvnPwEytw4rapaHvDzBAqRTLvKtE7kX7UGNwCA6LkQjVlZcpwY34oeTA3/CxBO22dBv6x\n",
       "c2dBQPNdRtTvyMncUhOD300Slivj26yJ2z2KDzAeAm1rCENndpr+/IKgiV9lvoMZUf/mWUbFR2zY\n",
       "+notdFmCHwde9O7JBCoQLbae/fGTXnL8QEUcWh1XuUkzJXSg4F6PKKBDL/hbDxxXvlktSQ/bMxQd\n",
       "qmkYU753VWuT370lLVPHPxRR1lELxi3PAEM3Qjwucz0n0gtSLvviFedvTRfgL/J5FegNfnLwQnk6\n",
       "wkc+gG+2GW9Hau8I94WrtwWvUm44dPSFsEjMjKFR+h28ufFqwKP/vCc4xt2FHEvzZKQv97exuZr5\n",
       "Xf5Rg1Dt0aKnAsJ69nOUdRkKeMdEkLS5Opd6O02bqpFGDI7SRd1nzcwSLFxGJSQgQJRuIXbO56r9\n",
       "sCY6YL+P/NZO5Y/Nz/SKDDFyB+LiRCwrcTx9kP03YYzX9VPkDJbZKxSAaHAtduQqLs4DzZwuM6Cb\n",
       "86hrhln0WW5FzANjO9fnldtw+cr+klPwS8SQVg3TsHh0IlHwCaQVLb2gWH+HDaeZNFUq1PohObyu\n",
       "NcGQPwvw4pKag7+0KOqV+X6rmuN45a39iAJwLgsELc5gMuZqaPbOaQOtG0KMYlgtkjTUjEGs8WcI\n",
       "QX4a9fQ6IcKwnmRu1U2uLSaLeZNqLWeOYg1ds7boQ6WMlQ3nQGmD8Np5iMXFEdulnhrm1WnZZ4da\n",
       "mqv7ULQl4A9t/Gv66R/n4U24DffcHehs/fmIq4h0qY6zc63+iBPpyPRjpNcTG0J3/QvY+qV58kFI\n",
       "yeJGkwYiSCz06vHh0wxdx9WdZIm+suoJGxkGWkE+na979W9o+N5uC2HJPx7hmexIK9xLh04iT+SK\n",
       "IT9FYCpPsAyMHJsrqSokMaEu3++4Abp8ZMGniYzONL2zbv5yjj+jTJsgw2M35Kjk6ROy3zEo0ZrP\n",
       "9x6bEdGHzo6dOHP8QVfYvRViABfLbFa1LDmuVfNc71/Z0ZtCKDu3fboVOuwGA7Qz/VanztVcb8xg\n",
       "RjAFLycpIM2CFTE2Er6eLol0mgycXcjUyBQktD8yZc6pWDUcK+GrYdPxwMKzo6l4fO+4sLsHta71\n",
       "NqydhPuEIu9+l/rMJRFweN50vpYTGLIhptRM21QwES1KIhIGmtMLEheyhmWkrpr6Fz4uRsiuOgEJ\n",
       "FQVddkmLRkBC6sRI9u7NGytL/ik5KHJoucJwiTEAdpuQu6hjJ8ICCIi+Rp0h5agYjyHKD3h+SjUg\n",
       "sWJtiqIFx6iX6+v4dCB7QCu3h2MPoIKQgsTXudXarIFKrRHDarxrHjJoYP0NQbYdqVQkcXuensMJ\n",
       "jXcLlGl+n4UyvwIFow6Lgr3cjSkj5vK8aLMUxw51C5KtrZepaOU+dlKG3W904r8pIbvRoHKaYH7J\n",
       "cnIlRv6RI3/I0KkfmCkPiVZcc1vYyx87+O02Sw45X1NjAv+MXQoc2hiCdp8lb61K8DwfbRTwB0Xe\n",
       "uugFloUD7fYESQkChFFO2LlA26B1+Hb4/v9EFv/mqSQXeyFb5xJ+jpVpYhHjPwEM5baqRwh2mXcq\n",
       "/8XlEUADLFZfABXZTvFxe0BdYe059JEhb7asrjaS6GsXw+DTNENvmVtL2uBTp5aPdldgdb0/6c11\n",
       "ka6zYjAEEGywS2fLHRWwAmsdAMR9uiSk0ercwYtejAdHKxRjSN9CmgR6mphsi89J8R4xANQghzjK\n",
       "I7Df2axsiVQigb2+DX9aZVlhap5d8TpEoQhCv9bgLEfS6KiHUpYb1+0tfnGqZHp0etyGdzXd/eot\n",
       "0aKyY/h95P5Afqoblm8t8TutyGhbBH4XCN1nx5QwOS2UbVaU4nUQ/qfLMoUxXmYL0R5iyzjBXVK6\n",
       "uU/gsTbVwog0XT0/rxddWDxtHU+Xn+YU75T9UkhiLeheVV3cUskR4u5sRVnozYDSLmJNznSVtmI+\n",
       "YDIT8O1+rbQwtPKBznhWkZbKE3v1wEZLRRkjL4BDyk6eAxtURIUi+JtCJQqEguMslJWV65RVaMtk\n",
       "VdbzK0p9S1d9lyormg4obO1t0cStasc4klNhMTyuhb8yv/636FwOz0GE9ijCmdZHKI+EDK79t7eP\n",
       "u991GHPwcpuHxZJ+Nx0aDkfTLZZtc0foXmXH6xu6WfwzUJ1hBywPkVslWPGqkgKoJYWaaxAjyG+d\n",
       "o4YDh4jXHyhCqF6JFg1zB0T/6dCOABeZaWBxufjoqz2KdYS2bxNMTpBtdSBM+26rmU1ErD0emT6A\n",
       "3Ixud+w99SIrjKq6qicgC+LhRXJfMz//DLiqfA4klkhc7Fjxeeob7Wu3GsaqAU42YwSLWzwihmJI\n",
       "QbkVpEpb60qvBITabaYg0fE8AWl5i/d6RjDoyWc7SCXc1CiJJinbk/TuAuMRd795wNqsDBAazXtX\n",
       "T8TlYBcmK6hMyZfWCEsnrP1POX2h8O5sTcidkN3A+APT+HNx8O6T+umTWzeTuH7tCwAIfDDq/56v\n",
       "3QYzVsT4p9X1yXVP2iV//CfjHOIRTXZX3YDhiPGyyKC7ce1siWM9KdQ7fCUFiMlcsELST6TXO4Gi\n",
       "jO0jey6lfac/16mL0o754/L9pzzAB3imxO5CQxoj++5wxUtB+bhk9UYndINqlE8m3QCWG2fk5emI\n",
       "urLfRWp0TTdfS3R5wocCs7KTGIiOgyYEL7z+gop65xMpmPxLGjxm12k282k8Od96mkaebugClRkL\n",
       "VA7+L/etizB1MtcdRfzkjNXBH+fuZa/9unMhZEKDb1IvGFlC3U8U7wqSeVqDG0s6nXiPNWhWjjBE\n",
       "PuxXw9Bd3AeQB0R8u2apkiV//WlD2m22d1YfChu7+bCcYWuppVeaPb4VdgplWnE38ycbQZSbg3MI\n",
       "TOiD9xQG+haTojA4az2bntEiL/hxz42RtwwaREGBltYgJJzsf5S1HpZD65k6oxMw+HWHF7vfoao2\n",
       "Qt1LnR5AitlhEZGvb+AAAA/xAAAAz0Gew0UVLBD/AAADACxFp0LFL+Y7RVyEGovIddanYIA2dtxL\n",
       "7m3Hhbh2zwXOjC4VIGPKXv+Lbmv8Kwo9PSpb1xcaaAxjcaDmH4JK26xEa4WFGkAc1UCNkrCAz3ak\n",
       "3UXLNc4KFqnelUc0zmpmrSinNRkUfOkyiTwGL9ydusREOXTGABban+xOXYvGVJMVA451bB7rofcg\n",
       "0vX7vbPfJ+xeT5/P/DH/gAh0tzezjDdGsYbydQmqYlLGTnwxhqUzHigX9VtmBy2Er2bD0b6gAAAb\n",
       "MAAAAFoBnuJ0Q/8AAAMAAdtK3p/Mo2dbiacfweStNBI7Oq1dcAUkYP9wXcLO79WgTGFJFG7nXs7O\n",
       "Zx4A1reMTcsShUzi0jNqjtkfPXQbzNAnodoUOzNKv1c+YAAAHzEAAABwAZ7kakP/AAADAF0R9tBJ\n",
       "2JSpxQdeeseDPIAiZUq9Y/z6gq/uaTt6LLldu4Z1eoJoPd1unKbCSF7k73PdvIrNK4ZWcZ77kryr\n",
       "auREjkHJH+gLygFot9T0znupv9mOi9/zAvl5XT4fobYZHO2CAAAGfQAAA+JBmudJqEFsmUwUTD//\n",
       "/qmWAAADADKT24gAEyojtqXZicxv3YV9+r5au197Llx/K9zzVzMZMxu0IqAqMGrv96W/lW169HnM\n",
       "qP2VZKVb7yAtVWawRtSkn4dqFnw1jD00iQFEjm8sBB7XcNYYUpgRZbN4x595J/EBoZUduk7zSp2V\n",
       "fsdWX4pZeU/YIHO7K7RNSk9E2RDc6oJccD47+tqxUlcCb68YA25wAgiSpL4HEPUDqLCCQ6JDzvDJ\n",
       "xDtLUB++G6tjNMCBHUVRwXpZlT5dsK6+PSuGQzjL5YynJocwGk9uPynPM7u9HI4KNvmnAN5GScih\n",
       "iPogPtOJ/bbP64X+dt4fJ+Qwdx5nvPIASqYmyVPgDzCmjnIxMVXC/ZVwd/13PieBoiYzQuXluRA1\n",
       "gDndHF/11QewUHo0B+Mfx/+rBkvZWQQ/vvro+A8rqUijVIIrUJVRLp1yPNbhIMc2btzp+rGZhNPC\n",
       "P/rA+LdDiU8CdpqRPfq/jfdJNB+fgE+WgVAkADXvtg0yRYXG3MJgShzik2JO6XjQvHzwQy0atOha\n",
       "zu0b55iJStxwLsdrTHWYFlLz5IBQNPiPpmf/pXnVnH4ImMaGz5RYpYcEoa7zlGhl5jVqcaLol8Fp\n",
       "8+BvKwLSEAAAAwHbz6xs+NXxnWE26u1rVP4X/SdROf430S5Hk0GFc+vlnAGawBK9BzP7dq7yYgIz\n",
       "w6AN8AAYODePNbCunBJWSYBK1Agm47ZRbO5u1skAWETDNv/Hrx/1RGQPE0AMDuwjhABUiFtWzUUE\n",
       "BVhJICnxYs4B5t10h176rHU7WkADFkSaoL1dBrVRq7tXqAZK9I2yIUNoQerdj1thunENqBZvSol7\n",
       "UTNtySfsPDc5mcKRt51kpzLrA90RfGCgceSVUXV0QADKufA+soLl+IxUbTZfo6gDgbEYf8Ku81tz\n",
       "+X4J4AI++4drvQpCsftu7mHjIDNe6loe9UfNFon0Fl8xUoJdI5OH9D3duSfFnopfayaXoKIHNIxg\n",
       "cfp6d3cPrMSIkJoAAJ91cBWhUeSDXhHUdhM5BbXH6cBZ2X6Z8A0fXWlF7iX12hXk58qn8/NnK33p\n",
       "VyDX/n8lkm9QRo8B59oB7hZAI3AsQdX5E0Z8gXd37vgDmT/Mw+HfbWAtdbcPM17yg07zRzqpCwM8\n",
       "/Vu0tHdkQ6Zh7SsZ6DXQ2KCSIoFgy2aORGCqEhT1d4Dp0jGXqdVatZuMZvnXxl7x2p4R7AHJYO5A\n",
       "i35gXFQJ9ZpYMhhvPeXQ4ecQrotY1AuytDIGlZG0tDa9pI5mb3jmLdPeEArUgB042NNlCh9ejeQQ\n",
       "HNj6bZm6AAADAFxBAAAAbgGfBmpD/wAAAwBiAy9+avmD/bJe0iFZ+2IDb9S4YfvueOBw2AKUJvWN\n",
       "p2GGpZoiPicyUGkLEEv2QwM+sRXCPBX1Uy8yEgI85KgL2grJurPtWteiw8klZ6AE2KehMkyvi6a4\n",
       "H4hoaRAYmIgAAAr5AAAE721vb3YAAABsbXZoZAAAAAAAAAAAAAAAAAAAA+gAAB9AAAEAAAEAAAAA\n",
       "AAAAAAAAAAABAAAAAAAAAAAAAAAAAAAAAQAAAAAAAAAAAAAAAAAAQAAAAAAAAAAAAAAAAAAAAAAA\n",
       "AAAAAAAAAAAAAAAAAAIAAAQZdHJhawAAAFx0a2hkAAAAAwAAAAAAAAAAAAAAAQAAAAAAAB9AAAAA\n",
       "AAAAAAAAAAAAAAAAAAABAAAAAAAAAAAAAAAAAAAAAQAAAAAAAAAAAAAAAAAAQAAAAASwAAABkAAA\n",
       "AAAAJGVkdHMAAAAcZWxzdAAAAAAAAAABAAAfQAAAEAAAAQAAAAADkW1kaWEAAAAgbWRoZAAAAAAA\n",
       "AAAAAAAAAAAAKAAAAUAAVcQAAAAAAC1oZGxyAAAAAAAAAAB2aWRlAAAAAAAAAAAAAAAAVmlkZW9I\n",
       "YW5kbGVyAAAAAzxtaW5mAAAAFHZtaGQAAAABAAAAAAAAAAAAAAAkZGluZgAAABxkcmVmAAAAAAAA\n",
       "AAEAAAAMdXJsIAAAAAEAAAL8c3RibAAAALRzdHNkAAAAAAAAAAEAAACkYXZjMQAAAAAAAAABAAAA\n",
       "AAAAAAAAAAAAAAAAAASwAZAASAAAAEgAAAAAAAAAAQAAAAAAAAAAAAAAAAAAAAAAAAAAAAAAAAAA\n",
       "AAAAAAAAABj//wAAADJhdmNDAWQAH//hABlnZAAfrNlASwzoQAAAAwBAAAADAoPGDGWAAQAGaOvj\n",
       "yyLAAAAAHHV1aWRraEDyXyRPxbo5pRvPAyPzAAAAAAAAABhzdHRzAAAAAAAAAAEAAAAoAAAIAAAA\n",
       "ABRzdHNzAAAAAAAAAAEAAAABAAABMGN0dHMAAAAAAAAAJAAAAAMAABAAAAAAAQAAGAAAAAABAAAI\n",
       "AAAAAAEAABgAAAAAAQAACAAAAAABAAAoAAAAAAEAABAAAAAAAQAAAAAAAAABAAAIAAAAAAEAABAA\n",
       "AAAAAQAAKAAAAAABAAAQAAAAAAEAAAAAAAAAAQAACAAAAAABAAAQAAAAAAEAABgAAAAAAQAACAAA\n",
       "AAABAAAgAAAAAAIAAAgAAAAAAgAAEAAAAAABAAAYAAAAAAEAAAgAAAAAAQAAKAAAAAABAAAQAAAA\n",
       "AAEAAAAAAAAAAQAACAAAAAABAAAoAAAAAAEAABAAAAAAAQAAAAAAAAABAAAIAAAAAAEAACgAAAAA\n",
       "AQAAEAAAAAABAAAAAAAAAAEAAAgAAAAAAQAAGAAAAAABAAAIAAAAABxzdHNjAAAAAAAAAAEAAAAB\n",
       "AAAAKAAAAAEAAAC0c3RzegAAAAAAAAAAAAAAKAAAKI4AAB1BAAASDgAAEXQAAAN3AAANZAAAAzkA\n",
       "AA4jAAAEBQAAAtUAAAJ4AAAGYgAACWkAAAGnAAAA/AAAANgAAAQ4AAAIYQAAAM8AAAoDAAAA4QAA\n",
       "AHAAAAVQAAAFQgAACQYAAACbAAAL8wAAAOMAAACcAAAAUwAACxAAAADlAAAAaAAAAIAAAAjqAAAA\n",
       "0wAAAF4AAAB0AAAD5gAAAHIAAAAUc3RjbwAAAAAAAAABAAAALAAAAGJ1ZHRhAAAAWm1ldGEAAAAA\n",
       "AAAAIWhkbHIAAAAAAAAAAG1kaXJhcHBsAAAAAAAAAAAAAAAALWlsc3QAAAAlqXRvbwAAAB1kYXRh\n",
       "AAAAAQAAAABMYXZmNTcuNjYuMTAz\n",
       "\">\n",
       "  Your browser does not support the video tag.\n",
       "</video>"
      ],
      "text/plain": [
       "<matplotlib.animation.FuncAnimation at 0x3cf04c18>"
      ]
     },
     "execution_count": 195,
     "metadata": {},
     "output_type": "execute_result"
    },
    {
     "data": {
      "image/png": "[encoded data removed]",
      "text/plain": [
       "<matplotlib.figure.Figure at 0x3b5ccef0>"
      ]
     },
     "metadata": {},
     "output_type": "display_data"
    }
   ],
   "source": [
    "seed = 22\n",
    "perc3d = Percolation3D(10,z=5,r=0.1,p=0.41, mode='top',seed=seed)\n",
    "viewer = PercolationViewer3D(perc3d)\n",
    "anim = viewer.animate(frames=40, draw_title=True)\n",
    "anim"
   ]
  },
  {
   "cell_type": "markdown",
   "metadata": {},
   "source": [
    "The following function will test the probability of a permiable cell on the bottom layer becoming gaseous, if the top layer starts out with one gaseous cell."
   ]
  },
  {
   "cell_type": "code",
   "execution_count": 229,
   "metadata": {
    "collapsed": false
   },
   "outputs": [],
   "source": [
    "def estimate_prob_percolating3D(n=10, z=10, r=0.5, p=0.5, mode='top', iters=100):\n",
    "    \"\"\"Estimates the probability of percolating \n",
    "    \n",
    "    from top layer to bottom layer\n",
    "    \n",
    "    or\n",
    "    \n",
    "    from center to top or bottom layer\n",
    "    \n",
    "    \n",
    "    n: int number of rows and columns\n",
    "    z: int number of layers\n",
    "    r: diffusion constant\n",
    "    p: probability that a cell is permeable\n",
    "    mode: test top to bottom or from center outwards\n",
    "    iters: number of arrays to test\n",
    "    \n",
    "    returns: float probability\n",
    "    \"\"\"\n",
    "    count = 0\n",
    "\n",
    "    if mode == 'top':\n",
    "        for i in range(iters):\n",
    "            perc = Percolation3D(n=n,z=z,r=r,p=p,mode='top',fade=False)  \n",
    "            perc.run()\n",
    "            if perc.bottom_layer_gas() > 0:\n",
    "                count += 1\n",
    "                \n",
    "    elif mode == 'center':\n",
    "        for i in range(iters):\n",
    "            perc = Percolation3D(n=n,z=z,r=r,p=p,mode='center',fade=False)  \n",
    "            perc.run()\n",
    "            if perc.bottom_layer_gas() > 0 or perc.top_layer_gas() > 0:\n",
    "                count += 1\n",
    "        \n",
    "    return count / iters"
   ]
  },
  {
   "cell_type": "markdown",
   "metadata": {},
   "source": [
    "For a 20 layer permiable space (p=0.5, r=0.5, n=10), the probability of gaseous cells percolating from the top layer to the bottom layer is around 12 percent"
   ]
  },
  {
   "cell_type": "code",
   "execution_count": 159,
   "metadata": {
    "collapsed": false
   },
   "outputs": [
    {
     "name": "stdout",
     "output_type": "stream",
     "text": [
      "Wall time: 11.4 s\n",
      "0.12\n"
     ]
    }
   ],
   "source": [
    "%time fraction = estimate_prob_percolating3D(n=10, z=20)\n",
    "print(fraction)"
   ]
  },
  {
   "cell_type": "markdown",
   "metadata": {},
   "source": [
    "And from the center to the top or bottom layer is 93 percent"
   ]
  },
  {
   "cell_type": "code",
   "execution_count": 200,
   "metadata": {
    "collapsed": false
   },
   "outputs": [
    {
     "name": "stdout",
     "output_type": "stream",
     "text": [
      "Wall time: 11.7 s\n",
      "0.93\n"
     ]
    }
   ],
   "source": [
    "%time fraction = estimate_prob_percolating3D(n=10, z=20, mode='center')\n",
    "print(fraction)"
   ]
  },
  {
   "cell_type": "markdown",
   "metadata": {},
   "source": [
    "We can compare the probability of percolation from the top layer to the bottom layer for different number of layers with test_perc_prob_z()"
   ]
  },
  {
   "cell_type": "code",
   "execution_count": 160,
   "metadata": {
    "collapsed": false
   },
   "outputs": [],
   "source": [
    "def test_perc_prob_z(num_layers=1):\n",
    "    \"\"\"Display a graph of percolating probabilities\n",
    "    for 1 <= z <= num_layers\n",
    "    \n",
    "    num_layers = number of layers to test\n",
    "    \"\"\"\n",
    "    perc_prob = []\n",
    "    \n",
    "    xs = np.linspace(0,num_layers-1,num_layers)\n",
    "    \n",
    "    for i in tqdm_notebook(range(num_layers)):\n",
    "        perc_prob.append(estimate_prob_percolating3D(n=10, z=i+1))\n",
    "            \n",
    "    thinkplot.plot(perc_prob,style='.', label=\"Probability\")\n",
    "    p3 = np.poly1d(np.polyfit(xs, perc_prob, 4))\n",
    "    thinkplot.plot(xs,p3(xs), label=\"Line of Best Fit\")\n",
    "    thinkplot.config(xlabel='Number of Layers',\n",
    "                    ylabel='Probability of Wet Bottom Layer',\n",
    "                    xscale='linear', xlim=[1, num_layers], \n",
    "                    yscale='linear', ylim=[0, 1],\n",
    "                    title='Prob Wet Bottom Layer vs. # of Layers',\n",
    "                    loc='top left')\n"
   ]
  },
  {
   "cell_type": "markdown",
   "metadata": {},
   "source": [
    "test_perc_prob() can take some time, for testing 1 to 30 layers it will take roughly 5 mins depending on your machine."
   ]
  },
  {
   "cell_type": "code",
   "execution_count": 161,
   "metadata": {
    "collapsed": false
   },
   "outputs": [
    {
     "name": "stdout",
     "output_type": "stream",
     "text": [
      "\n",
      "Wall time: 4min 35s\n"
     ]
    },
    {
     "data": {
      "image/png": "[encoded data removed]",
      "text/plain": [
       "<matplotlib.figure.Figure at 0x2a89aba8>"
      ]
     },
     "metadata": {},
     "output_type": "display_data"
    }
   ],
   "source": [
    "%time test_perc_prob_z(num_layers=30)"
   ]
  },
  {
   "cell_type": "markdown",
   "metadata": {},
   "source": [
    "We can see that the decrease in probability is linear between the number of layers 7 and 17. The probability drops off quicker from 0 to 6, and slower from 18 to 30."
   ]
  },
  {
   "cell_type": "markdown",
   "metadata": {},
   "source": [
    "Furthermore, we can compute the probability of gas/liquid transferring from top to bottom layer, depending on the permiability of the layers."
   ]
  },
  {
   "cell_type": "code",
   "execution_count": 252,
   "metadata": {
    "collapsed": false
   },
   "outputs": [],
   "source": [
    "def test_perc_prob_p(num_intervals=1):\n",
    "    \"\"\"Display a graph of percolating probabilities\n",
    "    for 0 <= p <= 1.0\n",
    "    \n",
    "    intervals: number of intervals between 0 and 1 to test\n",
    "    \"\"\"\n",
    "    perc_prob = []\n",
    "    \n",
    "    xs = np.linspace(0,1,num_intervals)\n",
    "    \n",
    "    for i in tqdm_notebook(range(num_intervals)):\n",
    "        perc_prob.append(estimate_prob_percolating3D(n=10, z=5, p=xs[i]))\n",
    "            \n",
    "    thinkplot.plot(xs, perc_prob, style='.', label=\"Probability\")\n",
    "    thinkplot.config(xlabel='Probability of Porousness of a Layer',\n",
    "                    ylabel='Probability of Wet Bottom Layer',\n",
    "                    xscale='linear', xlim=[0, 1], \n",
    "                    yscale='linear', ylim=[0, 1],\n",
    "                    title='Prob Wet Bottom Layer vs. Porourness of Layer',\n",
    "                    loc='top left')"
   ]
  },
  {
   "cell_type": "markdown",
   "metadata": {},
   "source": [
    "this test with 50 intervals between 0 and 1 will take roughly 3 mins"
   ]
  },
  {
   "cell_type": "code",
   "execution_count": 253,
   "metadata": {
    "collapsed": false
   },
   "outputs": [
    {
     "name": "stdout",
     "output_type": "stream",
     "text": [
      "\n",
      "Wall time: 2min 41s\n"
     ]
    },
    {
     "data": {
      "image/png": "[encoded data removed]",
      "text/plain": [
       "<matplotlib.figure.Figure at 0x4079d7b8>"
      ]
     },
     "metadata": {},
     "output_type": "display_data"
    }
   ],
   "source": [
    "%time test_perc_prob_p(num_intervals=50)"
   ]
  },
  {
   "cell_type": "markdown",
   "metadata": {},
   "source": [
    "It can be seen in the above graph that the probability of gas/liquid at the top layer percolating down to the bottom layer increases dramatically between 0.3 and 0.5 probability of porousness."
   ]
  }
 ],
 "metadata": {
  "anaconda-cloud": {},
  "kernelspec": {
   "display_name": "Python [conda root]",
   "language": "python",
   "name": "conda-root-py"
  },
  "language_info": {
   "codemirror_mode": {
    "name": "ipython",
    "version": 2
   },
   "file_extension": ".py",
   "mimetype": "text/x-python",
   "name": "python",
   "nbconvert_exporter": "python",
   "pygments_lexer": "ipython2",
   "version": "2.7.12"
  },
  "widgets": {
   "state": {
    "02488055c12e4d4db082a5c9d2b2fdbe": {
     "views": [
      {
       "cell_index": 23
      }
     ]
    },
    "0505122f0c20419e8967ebb7c73d33f5": {
     "views": [
      {
       "cell_index": 22
      }
     ]
    },
    "0759f9bdd9604f27a67e9c99b55be6b1": {
     "views": [
      {
       "cell_index": 23
      }
     ]
    },
    "0fdddcded5c842a5b3b0d3a92a8ea795": {
     "views": [
      {
       "cell_index": 22
      }
     ]
    },
    "11f605aefacf48d5935ec643bfede7e2": {
     "views": [
      {
       "cell_index": 31
      }
     ]
    },
    "1202264c428b44f3862700d3a825c6bd": {
     "views": [
      {
       "cell_index": 22
      }
     ]
    },
    "124e803da47c4105953f84184b9447a5": {
     "views": [
      {
       "cell_index": 22
      }
     ]
    },
    "160661e6dfb84583b8d2243d9ffc4f37": {
     "views": [
      {
       "cell_index": 38
      }
     ]
    },
    "24ea47ab3e51429d8990b49d7c229304": {
     "views": [
      {
       "cell_index": 22
      }
     ]
    },
    "262285770453438ab2c0bf52d3179dde": {
     "views": [
      {
       "cell_index": 22
      }
     ]
    },
    "31d4caa25b0b44bc9e8c7efeb15fbab8": {
     "views": [
      {
       "cell_index": 23
      }
     ]
    },
    "3599c26f443144e1b2a5c280b2abe316": {
     "views": [
      {
       "cell_index": 23
      }
     ]
    },
    "3924da63a4b9425889f759049c193c6a": {
     "views": [
      {
       "cell_index": 23
      }
     ]
    },
    "3adc8ef87b1949b3af2195ab4a737220": {
     "views": [
      {
       "cell_index": 23
      }
     ]
    },
    "3d90cf24d63e4fc4a7e983d6690161a9": {
     "views": [
      {
       "cell_index": 21
      }
     ]
    },
    "41c7752719c146d285704156fe80b7a6": {
     "views": [
      {
       "cell_index": 22
      }
     ]
    },
    "448206b60c1b4e18840132ef9fb73a7a": {
     "views": [
      {
       "cell_index": 22
      }
     ]
    },
    "47737591d2b44fbd925143def0ebfa9f": {
     "views": [
      {
       "cell_index": 22
      }
     ]
    },
    "529e4328d3cd490b84911b8ed2df6140": {
     "views": [
      {
       "cell_index": 22
      }
     ]
    },
    "5375019fef2b4270919d34731872b1a7": {
     "views": [
      {
       "cell_index": 21
      }
     ]
    },
    "53b4c89913ab4c8597fee50c042483eb": {
     "views": [
      {
       "cell_index": 22
      }
     ]
    },
    "54e17782d7cb413ab8e6ff7845fd1fc8": {
     "views": [
      {
       "cell_index": 22
      }
     ]
    },
    "628e9907df6b40c2b8b5e7423dce7e7c": {
     "views": [
      {
       "cell_index": 22
      }
     ]
    },
    "66f805a25a464633bccf994fad8fea89": {
     "views": [
      {
       "cell_index": 22
      }
     ]
    },
    "6fb556f881354ec7a335b11de07b8db2": {
     "views": [
      {
       "cell_index": 23
      }
     ]
    },
    "777e9dfaa260401ba72d810aa5ee07e8": {
     "views": [
      {
       "cell_index": 22
      }
     ]
    },
    "810f70d038ad4d67bce965ac95bb0c7a": {
     "views": [
      {
       "cell_index": 22
      }
     ]
    },
    "88dcb9dac44b4c1fa1519f92d52a1ce2": {
     "views": [
      {
       "cell_index": 22
      }
     ]
    },
    "89e13daffd6e4801b5159e9600430660": {
     "views": [
      {
       "cell_index": 21
      }
     ]
    },
    "8b80544056734cebac4a0d893b70a45c": {
     "views": [
      {
       "cell_index": 23
      }
     ]
    },
    "9318437c4cd34dc6ba1f58c8a0455018": {
     "views": [
      {
       "cell_index": 22
      }
     ]
    },
    "97ced193cb8c4626a36619efcabb700b": {
     "views": [
      {
       "cell_index": 22
      }
     ]
    },
    "a6d78608ff594badba1fd7e8ce5a263f": {
     "views": [
      {
       "cell_index": 22
      }
     ]
    },
    "aacce2c4a18c4111bb0dcd6a0dbd0c8d": {
     "views": [
      {
       "cell_index": 23
      }
     ]
    },
    "ac41ee7a444a411e95a0771ab6550eb2": {
     "views": [
      {
       "cell_index": 21
      }
     ]
    },
    "afa0da5fa61d4371891cbf1ce5de30a9": {
     "views": [
      {
       "cell_index": 21
      }
     ]
    },
    "b9dad229293e4838ab7faa480045d1c0": {
     "views": [
      {
       "cell_index": 21
      }
     ]
    },
    "bccdfc3d82c24c8e95c569e3c47dc354": {
     "views": [
      {
       "cell_index": 21
      }
     ]
    },
    "bd8dbb3cd32b4108843e21cc61ba5318": {
     "views": [
      {
       "cell_index": 22
      }
     ]
    },
    "c38afa0bf2b248bab4f2e7821ec134c2": {
     "views": [
      {
       "cell_index": 23
      }
     ]
    },
    "c969943c3fcb4aa3b0808c338de01ed3": {
     "views": [
      {
       "cell_index": 22
      }
     ]
    },
    "ca2cb77b541444a9b4c81343f0809836": {
     "views": [
      {
       "cell_index": 22
      }
     ]
    },
    "cdfabf33599c481b85d4d25fb3415144": {
     "views": [
      {
       "cell_index": 22
      }
     ]
    },
    "cf005070e91f47279a7690ed8da407cb": {
     "views": [
      {
       "cell_index": 22
      }
     ]
    },
    "d7f277009e4c4aceac8db802d022d4e2": {
     "views": [
      {
       "cell_index": 21
      }
     ]
    },
    "da4154d4755341b28f44ef7a48d40396": {
     "views": [
      {
       "cell_index": 23
      }
     ]
    },
    "e090a995071c4145a359006941968039": {
     "views": [
      {
       "cell_index": 24
      }
     ]
    },
    "ee535067c836496982b328f2805ef29e": {
     "views": [
      {
       "cell_index": 23
      }
     ]
    },
    "f1c1f87f542c4820b9d7ff58b523b27d": {
     "views": [
      {
       "cell_index": 23
      }
     ]
    },
    "fb6a995d171c4e8ab2e3526431710a86": {
     "views": [
      {
       "cell_index": 23
      }
     ]
    },
    "fbc72c0054ca40999dc62e6863991e7e": {
     "views": [
      {
       "cell_index": 22
      }
     ]
    }
   },
   "version": "1.2.0"
  }
 },
 "nbformat": 4,
 "nbformat_minor": 1
}
